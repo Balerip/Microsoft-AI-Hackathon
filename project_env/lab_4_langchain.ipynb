{
 "cells": [
  {
   "cell_type": "code",
   "execution_count": 2,
   "id": "5151d68a",
   "metadata": {},
   "outputs": [
    {
     "name": "stdout",
     "output_type": "stream",
     "text": [
      "Collecting langchain\n",
      "  Downloading langchain-0.2.0-py3-none-any.whl.metadata (13 kB)\n",
      "Requirement already satisfied: PyYAML>=5.3 in /Library/Frameworks/Python.framework/Versions/3.11/lib/python3.11/site-packages (from langchain) (6.0.1)\n",
      "Collecting SQLAlchemy<3,>=1.4 (from langchain)\n",
      "  Downloading SQLAlchemy-2.0.30-cp311-cp311-macosx_11_0_arm64.whl.metadata (9.6 kB)\n",
      "Requirement already satisfied: aiohttp<4.0.0,>=3.8.3 in /Library/Frameworks/Python.framework/Versions/3.11/lib/python3.11/site-packages (from langchain) (3.9.5)\n",
      "Collecting dataclasses-json<0.7,>=0.5.7 (from langchain)\n",
      "  Downloading dataclasses_json-0.6.6-py3-none-any.whl.metadata (25 kB)\n",
      "Collecting langchain-core<0.3.0,>=0.2.0 (from langchain)\n",
      "  Downloading langchain_core-0.2.0-py3-none-any.whl.metadata (5.9 kB)\n",
      "Collecting langchain-text-splitters<0.3.0,>=0.2.0 (from langchain)\n",
      "  Downloading langchain_text_splitters-0.2.0-py3-none-any.whl.metadata (2.2 kB)\n",
      "Collecting langsmith<0.2.0,>=0.1.17 (from langchain)\n",
      "  Downloading langsmith-0.1.60-py3-none-any.whl.metadata (13 kB)\n",
      "Requirement already satisfied: numpy<2,>=1 in /Library/Frameworks/Python.framework/Versions/3.11/lib/python3.11/site-packages (from langchain) (1.26.2)\n",
      "Requirement already satisfied: pydantic<3,>=1 in /Library/Frameworks/Python.framework/Versions/3.11/lib/python3.11/site-packages (from langchain) (2.7.0)\n",
      "Requirement already satisfied: requests<3,>=2 in /Library/Frameworks/Python.framework/Versions/3.11/lib/python3.11/site-packages (from langchain) (2.31.0)\n",
      "Requirement already satisfied: tenacity<9.0.0,>=8.1.0 in /Library/Frameworks/Python.framework/Versions/3.11/lib/python3.11/site-packages (from langchain) (8.2.3)\n",
      "Requirement already satisfied: aiosignal>=1.1.2 in /Library/Frameworks/Python.framework/Versions/3.11/lib/python3.11/site-packages (from aiohttp<4.0.0,>=3.8.3->langchain) (1.3.1)\n",
      "Requirement already satisfied: attrs>=17.3.0 in /Library/Frameworks/Python.framework/Versions/3.11/lib/python3.11/site-packages (from aiohttp<4.0.0,>=3.8.3->langchain) (23.1.0)\n",
      "Requirement already satisfied: frozenlist>=1.1.1 in /Library/Frameworks/Python.framework/Versions/3.11/lib/python3.11/site-packages (from aiohttp<4.0.0,>=3.8.3->langchain) (1.4.1)\n",
      "Requirement already satisfied: multidict<7.0,>=4.5 in /Library/Frameworks/Python.framework/Versions/3.11/lib/python3.11/site-packages (from aiohttp<4.0.0,>=3.8.3->langchain) (6.0.5)\n",
      "Requirement already satisfied: yarl<2.0,>=1.0 in /Library/Frameworks/Python.framework/Versions/3.11/lib/python3.11/site-packages (from aiohttp<4.0.0,>=3.8.3->langchain) (1.9.4)\n",
      "Collecting marshmallow<4.0.0,>=3.18.0 (from dataclasses-json<0.7,>=0.5.7->langchain)\n",
      "  Downloading marshmallow-3.21.2-py3-none-any.whl.metadata (7.1 kB)\n",
      "Collecting typing-inspect<1,>=0.4.0 (from dataclasses-json<0.7,>=0.5.7->langchain)\n",
      "  Downloading typing_inspect-0.9.0-py3-none-any.whl.metadata (1.5 kB)\n",
      "Collecting jsonpatch<2.0,>=1.33 (from langchain-core<0.3.0,>=0.2.0->langchain)\n",
      "  Downloading jsonpatch-1.33-py2.py3-none-any.whl.metadata (3.0 kB)\n",
      "Requirement already satisfied: packaging<24.0,>=23.2 in /Library/Frameworks/Python.framework/Versions/3.11/lib/python3.11/site-packages (from langchain-core<0.3.0,>=0.2.0->langchain) (23.2)\n",
      "Collecting orjson<4.0.0,>=3.9.14 (from langsmith<0.2.0,>=0.1.17->langchain)\n",
      "  Downloading orjson-3.10.3-cp311-cp311-macosx_10_15_x86_64.macosx_11_0_arm64.macosx_10_15_universal2.whl.metadata (49 kB)\n",
      "\u001b[2K     \u001b[90m━━━━━━━━━━━━━━━━━━━━━━━━━━━━━━━━━━━━━━━━\u001b[0m \u001b[32m49.7/49.7 kB\u001b[0m \u001b[31m2.0 MB/s\u001b[0m eta \u001b[36m0:00:00\u001b[0m\n",
      "\u001b[?25hRequirement already satisfied: annotated-types>=0.4.0 in /Library/Frameworks/Python.framework/Versions/3.11/lib/python3.11/site-packages (from pydantic<3,>=1->langchain) (0.6.0)\n",
      "Requirement already satisfied: pydantic-core==2.18.1 in /Library/Frameworks/Python.framework/Versions/3.11/lib/python3.11/site-packages (from pydantic<3,>=1->langchain) (2.18.1)\n",
      "Requirement already satisfied: typing-extensions>=4.6.1 in /Library/Frameworks/Python.framework/Versions/3.11/lib/python3.11/site-packages (from pydantic<3,>=1->langchain) (4.10.0)\n",
      "Requirement already satisfied: charset-normalizer<4,>=2 in /Library/Frameworks/Python.framework/Versions/3.11/lib/python3.11/site-packages (from requests<3,>=2->langchain) (3.3.2)\n",
      "Requirement already satisfied: idna<4,>=2.5 in /Library/Frameworks/Python.framework/Versions/3.11/lib/python3.11/site-packages (from requests<3,>=2->langchain) (3.6)\n",
      "Requirement already satisfied: urllib3<3,>=1.21.1 in /Library/Frameworks/Python.framework/Versions/3.11/lib/python3.11/site-packages (from requests<3,>=2->langchain) (2.1.0)\n",
      "Requirement already satisfied: certifi>=2017.4.17 in /Library/Frameworks/Python.framework/Versions/3.11/lib/python3.11/site-packages (from requests<3,>=2->langchain) (2024.2.2)\n",
      "Requirement already satisfied: jsonpointer>=1.9 in /Library/Frameworks/Python.framework/Versions/3.11/lib/python3.11/site-packages (from jsonpatch<2.0,>=1.33->langchain-core<0.3.0,>=0.2.0->langchain) (2.4)\n",
      "Collecting mypy-extensions>=0.3.0 (from typing-inspect<1,>=0.4.0->dataclasses-json<0.7,>=0.5.7->langchain)\n",
      "  Downloading mypy_extensions-1.0.0-py3-none-any.whl.metadata (1.1 kB)\n",
      "Downloading langchain-0.2.0-py3-none-any.whl (973 kB)\n",
      "\u001b[2K   \u001b[90m━━━━━━━━━━━━━━━━━━━━━━━━━━━━━━━━━━━━━━━━\u001b[0m \u001b[32m973.7/973.7 kB\u001b[0m \u001b[31m4.4 MB/s\u001b[0m eta \u001b[36m0:00:00\u001b[0ma \u001b[36m0:00:01\u001b[0m\n",
      "\u001b[?25hDownloading dataclasses_json-0.6.6-py3-none-any.whl (28 kB)\n",
      "Downloading langchain_core-0.2.0-py3-none-any.whl (307 kB)\n",
      "\u001b[2K   \u001b[90m━━━━━━━━━━━━━━━━━━━━━━━━━━━━━━━━━━━━━━━━\u001b[0m \u001b[32m307.9/307.9 kB\u001b[0m \u001b[31m6.6 MB/s\u001b[0m eta \u001b[36m0:00:00\u001b[0m:00:01\u001b[0m\n",
      "\u001b[?25hDownloading langchain_text_splitters-0.2.0-py3-none-any.whl (23 kB)\n",
      "Downloading langsmith-0.1.60-py3-none-any.whl (121 kB)\n",
      "\u001b[2K   \u001b[90m━━━━━━━━━━━━━━━━━━━━━━━━━━━━━━━━━━━━━━━━\u001b[0m \u001b[32m121.4/121.4 kB\u001b[0m \u001b[31m10.0 MB/s\u001b[0m eta \u001b[36m0:00:00\u001b[0m\n",
      "\u001b[?25hDownloading SQLAlchemy-2.0.30-cp311-cp311-macosx_11_0_arm64.whl (2.1 MB)\n",
      "\u001b[2K   \u001b[90m━━━━━━━━━━━━━━━━━━━━━━━━━━━━━━━━━━━━━━━━\u001b[0m \u001b[32m2.1/2.1 MB\u001b[0m \u001b[31m4.9 MB/s\u001b[0m eta \u001b[36m0:00:00\u001b[0ma \u001b[36m0:00:01\u001b[0mm\n",
      "\u001b[?25hDownloading jsonpatch-1.33-py2.py3-none-any.whl (12 kB)\n",
      "Downloading marshmallow-3.21.2-py3-none-any.whl (49 kB)\n",
      "\u001b[2K   \u001b[90m━━━━━━━━━━━━━━━━━━━━━━━━━━━━━━━━━━━━━━━━\u001b[0m \u001b[32m49.3/49.3 kB\u001b[0m \u001b[31m3.8 MB/s\u001b[0m eta \u001b[36m0:00:00\u001b[0m\n",
      "\u001b[?25hDownloading orjson-3.10.3-cp311-cp311-macosx_10_15_x86_64.macosx_11_0_arm64.macosx_10_15_universal2.whl (253 kB)\n",
      "\u001b[2K   \u001b[90m━━━━━━━━━━━━━━━━━━━━━━━━━━━━━━━━━━━━━━━━\u001b[0m \u001b[32m253.6/253.6 kB\u001b[0m \u001b[31m15.7 MB/s\u001b[0m eta \u001b[36m0:00:00\u001b[0m\n",
      "\u001b[?25hDownloading typing_inspect-0.9.0-py3-none-any.whl (8.8 kB)\n",
      "Downloading mypy_extensions-1.0.0-py3-none-any.whl (4.7 kB)\n",
      "Installing collected packages: SQLAlchemy, orjson, mypy-extensions, marshmallow, jsonpatch, typing-inspect, langsmith, dataclasses-json, langchain-core, langchain-text-splitters, langchain\n",
      "Successfully installed SQLAlchemy-2.0.30 dataclasses-json-0.6.6 jsonpatch-1.33 langchain-0.2.0 langchain-core-0.2.0 langchain-text-splitters-0.2.0 langsmith-0.1.60 marshmallow-3.21.2 mypy-extensions-1.0.0 orjson-3.10.3 typing-inspect-0.9.0\n",
      "\n",
      "\u001b[1m[\u001b[0m\u001b[34;49mnotice\u001b[0m\u001b[1;39;49m]\u001b[0m\u001b[39;49m A new release of pip is available: \u001b[0m\u001b[31;49m23.3.1\u001b[0m\u001b[39;49m -> \u001b[0m\u001b[32;49m24.0\u001b[0m\n",
      "\u001b[1m[\u001b[0m\u001b[34;49mnotice\u001b[0m\u001b[1;39;49m]\u001b[0m\u001b[39;49m To update, run: \u001b[0m\u001b[32;49m/Library/Frameworks/Python.framework/Versions/3.11/bin/python3 -m pip install --upgrade pip\u001b[0m\n",
      "Note: you may need to restart the kernel to use updated packages.\n"
     ]
    }
   ],
   "source": [
    "pip install langchain"
   ]
  },
  {
   "cell_type": "code",
   "execution_count": 4,
   "id": "7e3b0be7",
   "metadata": {},
   "outputs": [
    {
     "name": "stdout",
     "output_type": "stream",
     "text": [
      "Collecting langchain_community\n",
      "  Downloading langchain_community-0.2.0-py3-none-any.whl.metadata (8.8 kB)\n",
      "Requirement already satisfied: PyYAML>=5.3 in /Library/Frameworks/Python.framework/Versions/3.11/lib/python3.11/site-packages (from langchain_community) (6.0.1)\n",
      "Requirement already satisfied: SQLAlchemy<3,>=1.4 in /Library/Frameworks/Python.framework/Versions/3.11/lib/python3.11/site-packages (from langchain_community) (2.0.30)\n",
      "Requirement already satisfied: aiohttp<4.0.0,>=3.8.3 in /Library/Frameworks/Python.framework/Versions/3.11/lib/python3.11/site-packages (from langchain_community) (3.9.5)\n",
      "Requirement already satisfied: dataclasses-json<0.7,>=0.5.7 in /Library/Frameworks/Python.framework/Versions/3.11/lib/python3.11/site-packages (from langchain_community) (0.6.6)\n",
      "Requirement already satisfied: langchain<0.3.0,>=0.2.0 in /Library/Frameworks/Python.framework/Versions/3.11/lib/python3.11/site-packages (from langchain_community) (0.2.0)\n",
      "Requirement already satisfied: langchain-core<0.3.0,>=0.2.0 in /Library/Frameworks/Python.framework/Versions/3.11/lib/python3.11/site-packages (from langchain_community) (0.2.0)\n",
      "Requirement already satisfied: langsmith<0.2.0,>=0.1.0 in /Library/Frameworks/Python.framework/Versions/3.11/lib/python3.11/site-packages (from langchain_community) (0.1.60)\n",
      "Requirement already satisfied: numpy<2,>=1 in /Library/Frameworks/Python.framework/Versions/3.11/lib/python3.11/site-packages (from langchain_community) (1.26.2)\n",
      "Requirement already satisfied: requests<3,>=2 in /Library/Frameworks/Python.framework/Versions/3.11/lib/python3.11/site-packages (from langchain_community) (2.31.0)\n",
      "Requirement already satisfied: tenacity<9.0.0,>=8.1.0 in /Library/Frameworks/Python.framework/Versions/3.11/lib/python3.11/site-packages (from langchain_community) (8.2.3)\n",
      "Requirement already satisfied: aiosignal>=1.1.2 in /Library/Frameworks/Python.framework/Versions/3.11/lib/python3.11/site-packages (from aiohttp<4.0.0,>=3.8.3->langchain_community) (1.3.1)\n",
      "Requirement already satisfied: attrs>=17.3.0 in /Library/Frameworks/Python.framework/Versions/3.11/lib/python3.11/site-packages (from aiohttp<4.0.0,>=3.8.3->langchain_community) (23.1.0)\n",
      "Requirement already satisfied: frozenlist>=1.1.1 in /Library/Frameworks/Python.framework/Versions/3.11/lib/python3.11/site-packages (from aiohttp<4.0.0,>=3.8.3->langchain_community) (1.4.1)\n",
      "Requirement already satisfied: multidict<7.0,>=4.5 in /Library/Frameworks/Python.framework/Versions/3.11/lib/python3.11/site-packages (from aiohttp<4.0.0,>=3.8.3->langchain_community) (6.0.5)\n",
      "Requirement already satisfied: yarl<2.0,>=1.0 in /Library/Frameworks/Python.framework/Versions/3.11/lib/python3.11/site-packages (from aiohttp<4.0.0,>=3.8.3->langchain_community) (1.9.4)\n",
      "Requirement already satisfied: marshmallow<4.0.0,>=3.18.0 in /Library/Frameworks/Python.framework/Versions/3.11/lib/python3.11/site-packages (from dataclasses-json<0.7,>=0.5.7->langchain_community) (3.21.2)\n",
      "Requirement already satisfied: typing-inspect<1,>=0.4.0 in /Library/Frameworks/Python.framework/Versions/3.11/lib/python3.11/site-packages (from dataclasses-json<0.7,>=0.5.7->langchain_community) (0.9.0)\n",
      "Requirement already satisfied: langchain-text-splitters<0.3.0,>=0.2.0 in /Library/Frameworks/Python.framework/Versions/3.11/lib/python3.11/site-packages (from langchain<0.3.0,>=0.2.0->langchain_community) (0.2.0)\n",
      "Requirement already satisfied: pydantic<3,>=1 in /Library/Frameworks/Python.framework/Versions/3.11/lib/python3.11/site-packages (from langchain<0.3.0,>=0.2.0->langchain_community) (2.7.0)\n",
      "Requirement already satisfied: jsonpatch<2.0,>=1.33 in /Library/Frameworks/Python.framework/Versions/3.11/lib/python3.11/site-packages (from langchain-core<0.3.0,>=0.2.0->langchain_community) (1.33)\n",
      "Requirement already satisfied: packaging<24.0,>=23.2 in /Library/Frameworks/Python.framework/Versions/3.11/lib/python3.11/site-packages (from langchain-core<0.3.0,>=0.2.0->langchain_community) (23.2)\n",
      "Requirement already satisfied: orjson<4.0.0,>=3.9.14 in /Library/Frameworks/Python.framework/Versions/3.11/lib/python3.11/site-packages (from langsmith<0.2.0,>=0.1.0->langchain_community) (3.10.3)\n",
      "Requirement already satisfied: charset-normalizer<4,>=2 in /Library/Frameworks/Python.framework/Versions/3.11/lib/python3.11/site-packages (from requests<3,>=2->langchain_community) (3.3.2)\n",
      "Requirement already satisfied: idna<4,>=2.5 in /Library/Frameworks/Python.framework/Versions/3.11/lib/python3.11/site-packages (from requests<3,>=2->langchain_community) (3.6)\n",
      "Requirement already satisfied: urllib3<3,>=1.21.1 in /Library/Frameworks/Python.framework/Versions/3.11/lib/python3.11/site-packages (from requests<3,>=2->langchain_community) (2.1.0)\n",
      "Requirement already satisfied: certifi>=2017.4.17 in /Library/Frameworks/Python.framework/Versions/3.11/lib/python3.11/site-packages (from requests<3,>=2->langchain_community) (2024.2.2)\n",
      "Requirement already satisfied: typing-extensions>=4.6.0 in /Library/Frameworks/Python.framework/Versions/3.11/lib/python3.11/site-packages (from SQLAlchemy<3,>=1.4->langchain_community) (4.10.0)\n",
      "Requirement already satisfied: jsonpointer>=1.9 in /Library/Frameworks/Python.framework/Versions/3.11/lib/python3.11/site-packages (from jsonpatch<2.0,>=1.33->langchain-core<0.3.0,>=0.2.0->langchain_community) (2.4)\n",
      "Requirement already satisfied: annotated-types>=0.4.0 in /Library/Frameworks/Python.framework/Versions/3.11/lib/python3.11/site-packages (from pydantic<3,>=1->langchain<0.3.0,>=0.2.0->langchain_community) (0.6.0)\n",
      "Requirement already satisfied: pydantic-core==2.18.1 in /Library/Frameworks/Python.framework/Versions/3.11/lib/python3.11/site-packages (from pydantic<3,>=1->langchain<0.3.0,>=0.2.0->langchain_community) (2.18.1)\n",
      "Requirement already satisfied: mypy-extensions>=0.3.0 in /Library/Frameworks/Python.framework/Versions/3.11/lib/python3.11/site-packages (from typing-inspect<1,>=0.4.0->dataclasses-json<0.7,>=0.5.7->langchain_community) (1.0.0)\n",
      "Downloading langchain_community-0.2.0-py3-none-any.whl (2.1 MB)\n",
      "\u001b[2K   \u001b[90m━━━━━━━━━━━━━━━━━━━━━━━━━━━━━━━━━━━━━━━━\u001b[0m \u001b[32m2.1/2.1 MB\u001b[0m \u001b[31m3.7 MB/s\u001b[0m eta \u001b[36m0:00:00\u001b[0m00:01\u001b[0m00:01\u001b[0m\n",
      "\u001b[?25hInstalling collected packages: langchain_community\n",
      "Successfully installed langchain_community-0.2.0\n",
      "\n",
      "\u001b[1m[\u001b[0m\u001b[34;49mnotice\u001b[0m\u001b[1;39;49m]\u001b[0m\u001b[39;49m A new release of pip is available: \u001b[0m\u001b[31;49m23.3.1\u001b[0m\u001b[39;49m -> \u001b[0m\u001b[32;49m24.0\u001b[0m\n",
      "\u001b[1m[\u001b[0m\u001b[34;49mnotice\u001b[0m\u001b[1;39;49m]\u001b[0m\u001b[39;49m To update, run: \u001b[0m\u001b[32;49m/Library/Frameworks/Python.framework/Versions/3.11/bin/python3 -m pip install --upgrade pip\u001b[0m\n",
      "Note: you may need to restart the kernel to use updated packages.\n"
     ]
    }
   ],
   "source": [
    "pip install langchain_community"
   ]
  },
  {
   "cell_type": "code",
   "execution_count": 5,
   "id": "5cb4dc21",
   "metadata": {},
   "outputs": [],
   "source": [
    "import os\n",
    "import json\n",
    "import pymongo\n",
    "from typing import List\n",
    "from dotenv import load_dotenv\n",
    "from langchain.chat_models import AzureChatOpenAI\n",
    "from langchain.embeddings import AzureOpenAIEmbeddings\n",
    "from langchain.vectorstores import AzureCosmosDBVectorSearch\n",
    "from langchain_core.vectorstores import VectorStoreRetriever\n",
    "from langchain.schema.document import Document\n",
    "from langchain.prompts import PromptTemplate\n",
    "from langchain.schema import StrOutputParser\n",
    "from langchain.schema.runnable import RunnablePassthrough\n",
    "from langchain.agents import Tool\n",
    "from langchain.agents.agent_toolkits import create_conversational_retrieval_agent\n",
    "from langchain_core.messages import SystemMessage"
   ]
  },
  {
   "cell_type": "code",
   "execution_count": 6,
   "id": "413a573c",
   "metadata": {},
   "outputs": [],
   "source": [
    "load_dotenv()\n",
    "CONNECTION_STRING = os.environ.get(\"DB_CONNECTION_STRING\")\n",
    "EMBEDDINGS_DEPLOYMENT_NAME = \"embeddings\"\n",
    "COMPLETIONS_DEPLOYMENT_NAME = \"completions\"\n",
    "AOAI_ENDPOINT = os.environ.get(\"AOAI_ENDPOINT\")\n",
    "AOAI_KEY = os.environ.get(\"AOAI_KEY\")\n",
    "AOAI_API_VERSION = \"2023-09-01-preview\""
   ]
  },
  {
   "cell_type": "code",
   "execution_count": 7,
   "id": "8786a91e",
   "metadata": {},
   "outputs": [
    {
     "name": "stderr",
     "output_type": "stream",
     "text": [
      "/Library/Frameworks/Python.framework/Versions/3.11/lib/python3.11/site-packages/langchain_core/_api/deprecation.py:119: LangChainDeprecationWarning: The class `AzureChatOpenAI` was deprecated in LangChain 0.0.10 and will be removed in 0.3.0. An updated version of the class exists in the langchain-openai package and should be used instead. To use it run `pip install -U langchain-openai` and import as `from langchain_openai import AzureChatOpenAI`.\n",
      "  warn_deprecated(\n",
      "/Library/Frameworks/Python.framework/Versions/3.11/lib/python3.11/site-packages/langchain_core/_api/deprecation.py:119: LangChainDeprecationWarning: The class `AzureOpenAIEmbeddings` was deprecated in LangChain 0.0.9 and will be removed in 0.3.0. An updated version of the class exists in the langchain-openai package and should be used instead. To use it run `pip install -U langchain-openai` and import as `from langchain_openai import AzureOpenAIEmbeddings`.\n",
      "  warn_deprecated(\n"
     ]
    }
   ],
   "source": [
    "llm = AzureChatOpenAI(            \n",
    "        temperature = 0,\n",
    "        openai_api_version = AOAI_API_VERSION,\n",
    "        azure_endpoint = AOAI_ENDPOINT,\n",
    "        openai_api_key = AOAI_KEY,         \n",
    "        azure_deployment = \"completions\"\n",
    ")\n",
    "embedding_model = AzureOpenAIEmbeddings(\n",
    "    openai_api_version = AOAI_API_VERSION,\n",
    "    azure_endpoint = AOAI_ENDPOINT,\n",
    "    openai_api_key = AOAI_KEY,   \n",
    "    azure_deployment = \"embeddings\",\n",
    "    chunk_size=10\n",
    ")"
   ]
  },
  {
   "cell_type": "code",
   "execution_count": 8,
   "id": "12553664",
   "metadata": {},
   "outputs": [
    {
     "name": "stdout",
     "output_type": "stream",
     "text": [
      "Collecting langchain-openai\n",
      "  Downloading langchain_openai-0.1.7-py3-none-any.whl.metadata (2.5 kB)\n",
      "Requirement already satisfied: langchain-core<0.3,>=0.1.46 in /Library/Frameworks/Python.framework/Versions/3.11/lib/python3.11/site-packages (from langchain-openai) (0.2.0)\n",
      "Collecting openai<2.0.0,>=1.24.0 (from langchain-openai)\n",
      "  Downloading openai-1.30.1-py3-none-any.whl.metadata (21 kB)\n",
      "Collecting tiktoken<1,>=0.7 (from langchain-openai)\n",
      "  Downloading tiktoken-0.7.0-cp311-cp311-macosx_11_0_arm64.whl.metadata (6.6 kB)\n",
      "Requirement already satisfied: PyYAML>=5.3 in /Library/Frameworks/Python.framework/Versions/3.11/lib/python3.11/site-packages (from langchain-core<0.3,>=0.1.46->langchain-openai) (6.0.1)\n",
      "Requirement already satisfied: jsonpatch<2.0,>=1.33 in /Library/Frameworks/Python.framework/Versions/3.11/lib/python3.11/site-packages (from langchain-core<0.3,>=0.1.46->langchain-openai) (1.33)\n",
      "Requirement already satisfied: langsmith<0.2.0,>=0.1.0 in /Library/Frameworks/Python.framework/Versions/3.11/lib/python3.11/site-packages (from langchain-core<0.3,>=0.1.46->langchain-openai) (0.1.60)\n",
      "Requirement already satisfied: packaging<24.0,>=23.2 in /Library/Frameworks/Python.framework/Versions/3.11/lib/python3.11/site-packages (from langchain-core<0.3,>=0.1.46->langchain-openai) (23.2)\n",
      "Requirement already satisfied: pydantic<3,>=1 in /Library/Frameworks/Python.framework/Versions/3.11/lib/python3.11/site-packages (from langchain-core<0.3,>=0.1.46->langchain-openai) (2.7.0)\n",
      "Requirement already satisfied: tenacity<9.0.0,>=8.1.0 in /Library/Frameworks/Python.framework/Versions/3.11/lib/python3.11/site-packages (from langchain-core<0.3,>=0.1.46->langchain-openai) (8.2.3)\n",
      "Requirement already satisfied: anyio<5,>=3.5.0 in /Library/Frameworks/Python.framework/Versions/3.11/lib/python3.11/site-packages (from openai<2.0.0,>=1.24.0->langchain-openai) (4.1.0)\n",
      "Requirement already satisfied: distro<2,>=1.7.0 in /Library/Frameworks/Python.framework/Versions/3.11/lib/python3.11/site-packages (from openai<2.0.0,>=1.24.0->langchain-openai) (1.9.0)\n",
      "Requirement already satisfied: httpx<1,>=0.23.0 in /Library/Frameworks/Python.framework/Versions/3.11/lib/python3.11/site-packages (from openai<2.0.0,>=1.24.0->langchain-openai) (0.27.0)\n",
      "Requirement already satisfied: sniffio in /Library/Frameworks/Python.framework/Versions/3.11/lib/python3.11/site-packages (from openai<2.0.0,>=1.24.0->langchain-openai) (1.3.0)\n",
      "Requirement already satisfied: tqdm>4 in /Library/Frameworks/Python.framework/Versions/3.11/lib/python3.11/site-packages (from openai<2.0.0,>=1.24.0->langchain-openai) (4.66.2)\n",
      "Requirement already satisfied: typing-extensions<5,>=4.7 in /Library/Frameworks/Python.framework/Versions/3.11/lib/python3.11/site-packages (from openai<2.0.0,>=1.24.0->langchain-openai) (4.10.0)\n",
      "Collecting regex>=2022.1.18 (from tiktoken<1,>=0.7->langchain-openai)\n",
      "  Downloading regex-2024.5.15-cp311-cp311-macosx_11_0_arm64.whl.metadata (40 kB)\n",
      "\u001b[2K     \u001b[90m━━━━━━━━━━━━━━━━━━━━━━━━━━━━━━━━━━━━━━━━\u001b[0m \u001b[32m40.9/40.9 kB\u001b[0m \u001b[31m1.2 MB/s\u001b[0m eta \u001b[36m0:00:00\u001b[0m\n",
      "\u001b[?25hRequirement already satisfied: requests>=2.26.0 in /Library/Frameworks/Python.framework/Versions/3.11/lib/python3.11/site-packages (from tiktoken<1,>=0.7->langchain-openai) (2.31.0)\n",
      "Requirement already satisfied: idna>=2.8 in /Library/Frameworks/Python.framework/Versions/3.11/lib/python3.11/site-packages (from anyio<5,>=3.5.0->openai<2.0.0,>=1.24.0->langchain-openai) (3.6)\n",
      "Requirement already satisfied: certifi in /Library/Frameworks/Python.framework/Versions/3.11/lib/python3.11/site-packages (from httpx<1,>=0.23.0->openai<2.0.0,>=1.24.0->langchain-openai) (2024.2.2)\n",
      "Requirement already satisfied: httpcore==1.* in /Library/Frameworks/Python.framework/Versions/3.11/lib/python3.11/site-packages (from httpx<1,>=0.23.0->openai<2.0.0,>=1.24.0->langchain-openai) (1.0.5)\n",
      "Requirement already satisfied: h11<0.15,>=0.13 in /Library/Frameworks/Python.framework/Versions/3.11/lib/python3.11/site-packages (from httpcore==1.*->httpx<1,>=0.23.0->openai<2.0.0,>=1.24.0->langchain-openai) (0.14.0)\n",
      "Requirement already satisfied: jsonpointer>=1.9 in /Library/Frameworks/Python.framework/Versions/3.11/lib/python3.11/site-packages (from jsonpatch<2.0,>=1.33->langchain-core<0.3,>=0.1.46->langchain-openai) (2.4)\n",
      "Requirement already satisfied: orjson<4.0.0,>=3.9.14 in /Library/Frameworks/Python.framework/Versions/3.11/lib/python3.11/site-packages (from langsmith<0.2.0,>=0.1.0->langchain-core<0.3,>=0.1.46->langchain-openai) (3.10.3)\n",
      "Requirement already satisfied: annotated-types>=0.4.0 in /Library/Frameworks/Python.framework/Versions/3.11/lib/python3.11/site-packages (from pydantic<3,>=1->langchain-core<0.3,>=0.1.46->langchain-openai) (0.6.0)\n",
      "Requirement already satisfied: pydantic-core==2.18.1 in /Library/Frameworks/Python.framework/Versions/3.11/lib/python3.11/site-packages (from pydantic<3,>=1->langchain-core<0.3,>=0.1.46->langchain-openai) (2.18.1)\n",
      "Requirement already satisfied: charset-normalizer<4,>=2 in /Library/Frameworks/Python.framework/Versions/3.11/lib/python3.11/site-packages (from requests>=2.26.0->tiktoken<1,>=0.7->langchain-openai) (3.3.2)\n",
      "Requirement already satisfied: urllib3<3,>=1.21.1 in /Library/Frameworks/Python.framework/Versions/3.11/lib/python3.11/site-packages (from requests>=2.26.0->tiktoken<1,>=0.7->langchain-openai) (2.1.0)\n",
      "Downloading langchain_openai-0.1.7-py3-none-any.whl (34 kB)\n",
      "Downloading openai-1.30.1-py3-none-any.whl (320 kB)\n",
      "\u001b[2K   \u001b[90m━━━━━━━━━━━━━━━━━━━━━━━━━━━━━━━━━━━━━━━━\u001b[0m \u001b[32m320.6/320.6 kB\u001b[0m \u001b[31m4.8 MB/s\u001b[0m eta \u001b[36m0:00:00\u001b[0ma \u001b[36m0:00:01\u001b[0m\n",
      "\u001b[?25hDownloading tiktoken-0.7.0-cp311-cp311-macosx_11_0_arm64.whl (907 kB)\n",
      "\u001b[2K   \u001b[90m━━━━━━━━━━━━━━━━━━━━━━━━━━━━━━━━━━━━━━━━\u001b[0m \u001b[32m907.0/907.0 kB\u001b[0m \u001b[31m4.1 MB/s\u001b[0m eta \u001b[36m0:00:00\u001b[0ma \u001b[36m0:00:01\u001b[0m\n",
      "\u001b[?25hDownloading regex-2024.5.15-cp311-cp311-macosx_11_0_arm64.whl (278 kB)\n",
      "\u001b[2K   \u001b[90m━━━━━━━━━━━━━━━━━━━━━━━━━━━━━━━━━━━━━━━━\u001b[0m \u001b[32m278.3/278.3 kB\u001b[0m \u001b[31m1.7 MB/s\u001b[0m eta \u001b[36m0:00:00\u001b[0ma \u001b[36m0:00:01\u001b[0m\n",
      "\u001b[?25hInstalling collected packages: regex, tiktoken, openai, langchain-openai\n",
      "  Attempting uninstall: openai\n",
      "    Found existing installation: openai 1.23.2\n",
      "    Uninstalling openai-1.23.2:\n",
      "      Successfully uninstalled openai-1.23.2\n",
      "Successfully installed langchain-openai-0.1.7 openai-1.30.1 regex-2024.5.15 tiktoken-0.7.0\n",
      "\n",
      "\u001b[1m[\u001b[0m\u001b[34;49mnotice\u001b[0m\u001b[1;39;49m]\u001b[0m\u001b[39;49m A new release of pip is available: \u001b[0m\u001b[31;49m23.3.1\u001b[0m\u001b[39;49m -> \u001b[0m\u001b[32;49m24.0\u001b[0m\n",
      "\u001b[1m[\u001b[0m\u001b[34;49mnotice\u001b[0m\u001b[1;39;49m]\u001b[0m\u001b[39;49m To update, run: \u001b[0m\u001b[32;49m/Library/Frameworks/Python.framework/Versions/3.11/bin/python3 -m pip install --upgrade pip\u001b[0m\n",
      "Note: you may need to restart the kernel to use updated packages.\n"
     ]
    }
   ],
   "source": [
    "pip install -U langchain-openai"
   ]
  },
  {
   "cell_type": "code",
   "execution_count": 9,
   "id": "dc38f013",
   "metadata": {},
   "outputs": [],
   "source": [
    "from langchain_openai import AzureChatOpenAI"
   ]
  },
  {
   "cell_type": "code",
   "execution_count": 10,
   "id": "5aaf1426",
   "metadata": {},
   "outputs": [
    {
     "name": "stderr",
     "output_type": "stream",
     "text": [
      "/Library/Frameworks/Python.framework/Versions/3.11/lib/python3.11/site-packages/langchain_community/vectorstores/azure_cosmos_db.py:145: UserWarning: You appear to be connected to a CosmosDB cluster. For more information regarding feature compatibility and support please visit https://www.mongodb.com/supportability/cosmosdb\n",
      "  client: MongoClient = MongoClient(connection_string, appname=appname)\n"
     ]
    }
   ],
   "source": [
    "vector_store = AzureCosmosDBVectorSearch.from_connection_string(\n",
    "    connection_string = CONNECTION_STRING,\n",
    "    namespace = \"cosmic_works.products\",\n",
    "    embedding = embedding_model,\n",
    "    index_name = \"VectorSearchIndex\",    \n",
    "    embedding_key = \"contentVector\",\n",
    "    text_key = \"_id\"\n",
    ")"
   ]
  },
  {
   "cell_type": "code",
   "execution_count": 11,
   "id": "5aafbe7c",
   "metadata": {},
   "outputs": [
    {
     "data": {
      "text/plain": [
       "[Document(page_content='5B5E90B8-FEA2-4D6C-B728-EC586656FA6D', metadata={'categoryId': '75BF1ACB-168D-469C-9AA3-1FD26BB4EA4C', 'categoryName': 'Bikes, Touring Bikes', 'sku': 'BK-T79Y-60', 'name': 'Touring-1000 Yellow, 60', 'description': 'The product called \"Touring-1000 Yellow, 60\"', 'price': 2384.07, 'tags': [{'_id': '4F67013C-3B5E-4A3D-B4B0-8C597A491EB6', 'name': 'Tag-82'}, {'_id': '6C6D061E-F701-41DC-AEA2-7A5C28061840', 'name': 'Tag-98'}], 'contentVector': [-0.0038613835349678993, -0.02230239473283291, -0.04035269096493721, -0.018810605630278587, -0.02562522515654564, -0.006332387216389179, -0.0036431467160582542, 0.013382844626903534, 0.007708687335252762, -0.029792845249176025, 0.009123706258833408, -0.0381280817091465, -0.026737529784440994, -0.033340953290462494, 0.02680792845785618, 0.05040566250681877, -0.007363732438534498, -0.011404633522033691, -0.019739871844649315, 0.06409122049808502, 0.04578749090433121, -0.03243984654545784, 0.04865976795554161, 0.028384864330291748, 0.011291994713246822, -0.02855382300913334, -0.018022136762738228, -0.0022193274926394224, 0.05147572606801987, -0.05879722163081169, -0.022710707038640976, -0.020992973819375038, 0.03581899777054787, -0.006508384831249714, -0.040859561413526535, -0.013565882109105587, 0.02768087573349476, 0.005642477422952652, 0.03838152065873146, 0.046716757118701935, -0.02701912447810173, -0.014136113226413727, 0.06403490155935287, 0.024428442120552063, -0.01558633241802454, 0.045534055680036545, 0.009581299498677254, -0.0026646009646356106, -0.029792845249176025, 0.047674182802438736, 0.1066121980547905, -0.007898764684796333, -0.016642317175865173, 0.0123268598690629, -0.0166141577064991, 0.0036607463844120502, -0.008842110633850098, 0.025512587279081345, 0.024118687957525253, 0.01713510975241661, -0.02164064347743988, -0.0625142827630043, 0.016825353726744652, -0.0280610304325819, 0.009771376848220825, -0.043619200587272644, -0.06026151776313782, 0.0020996492821723223, -0.027117682620882988, -0.005561518482863903, 0.029145173728466034, 0.02147168666124344, -0.005758635699748993, -0.028089189901947975, 0.03069395199418068, 0.05896617844700813, 0.004185218829661608, 0.005184884183108807, 0.02282334677875042, -0.062063731253147125, -0.0337633453309536, 0.033819664269685745, -0.01644519902765751, -0.022316474467515945, 0.0011721429182216525, -0.03159505873918533, -0.040240053087472916, -0.04620988294482231, -0.007842445746064186, -0.009405302815139294, -0.029173333197832108, -0.0024850836489349604, 0.01396715547889471, -0.008989948779344559, 0.048856884241104126, 0.009039227850735188, -0.03274960070848465, 0.03379150480031967, -0.01523433718830347, -0.022527670487761497, 0.020655058324337006, -0.0047836098819971085, 0.025864582508802414, 0.02230239473283291, 0.04238018020987511, 0.013565882109105587, -0.002636441495269537, 0.0023724453058093786, -0.004801210016012192, 0.007821325212717056, -0.09568627923727036, 0.004178178962320089, 0.017768699675798416, 0.04618172347545624, 0.028272226452827454, 0.027694955468177795, -0.012404298409819603, 0.050912536680698395, 0.02741335891187191, -0.04894136264920235, -0.02041570097208023, -0.01657191850244999, 0.01053872611373663, -0.03939526528120041, -0.007539729587733746, 0.0742286741733551, 0.005286962725222111, -0.0522923544049263, -0.027441518381237984, -0.0723138228058815, 0.00927154440432787, -0.058346666395664215, -0.007525649853050709, -0.016234003007411957, -0.03728329390287399, -0.01117231696844101, -0.011460952460765839, -0.0013648601016029716, 0.0012284620897844434, -0.007043417077511549, -0.008511235937476158, -0.00186909269541502, 0.04657595977187157, -0.01814885437488556, -0.008525315672159195, 0.001011105254292488, 0.009862896054983139, 0.03953606262803078, 0.0015373375499621034, 0.01339692436158657, -0.005603758152574301, -0.004526653792709112, -0.015530012547969818, 0.0003528748347889632, -0.0025238031521439552, -0.035396602004766464, 0.04415423423051834, 0.010024813003838062, -0.008173320442438126, 0.01499498076736927, 0.016726795583963394, -0.011988944374024868, -0.0009222265216521919, 0.035565558820962906, -0.03576267883181572, 0.047899458557367325, -0.032862238585948944, -0.02768087573349476, -0.038972869515419006, -0.040465328842401505, 0.0014167792396619916, -0.004512574058026075, -0.02325982041656971, 0.0202889833599329, -0.0029215572867542505, 0.008736512623727322, 0.008356357924640179, -0.013481402769684792, -0.0044808946549892426, 0.03641034662723541, -0.015642650425434113, 0.00480824988335371, -0.02801879122853279, -0.0007299493299797177, -0.033031195402145386, -0.019162598997354507, 0.02504795417189598, -0.0009063867619261146, -0.0022105276584625244, -0.01723366789519787, -0.04756154492497444, -0.027033204212784767, -0.004452734719961882, 0.011517271399497986, 0.015473693609237671, -0.032721441239118576, -0.005209523718804121, 0.004977207165211439, 0.004544253461062908, 0.0420704260468483, 0.004044421017169952, 0.016952071338891983, 0.07079320400953293, 0.017698301002383232, -0.09106811136007309, -0.015163938514888287, -0.033425431698560715, 0.010883680544793606, 0.01840229146182537, -0.017740540206432343, 0.023597735911607742, 0.010376808233559132, -0.02579418197274208, 0.018514929339289665, -0.001637656008824706, -0.0069518983364105225, -0.037142496556043625, -0.00465689180418849, -0.014502188190817833, 0.0050476063042879105, -0.06037415564060211, -0.011242715641856194, 0.06831516325473785, 0.006036711856722832, -0.024189086630940437, 0.01503721997141838, 0.014685225673019886, -0.002782519208267331, -0.024583321064710617, -0.028666460886597633, 0.030243398621678352, 0.029229652136564255, 0.010060013271868229, -0.014129073359072208, -0.0024428442120552063, 0.022935984656214714, 0.030327877029776573, 0.022499511018395424, 0.006173989735543728, -0.029088854789733887, -0.03218640759587288, -0.022274235263466835, 0.027652716264128685, -0.001603336539119482, 0.050659097731113434, -0.0024516440462321043, -0.02649817243218422, -0.036663785576820374, -0.01427691150456667, 0.03708617761731148, 0.0002730160194914788, 0.05575598403811455, 0.031454261392354965, -0.025076113641262054, 0.030018121004104614, 0.008278919383883476, -0.0664566308259964, 0.0275823175907135, 0.00473433081060648, -0.053193461149930954, 0.02373853325843811, -0.011503191664814949, -0.015121699310839176, -0.01042608730494976, -0.042436499148607254, -0.022668467834591866, 0.012467658147215843, -0.006768860854208469, -0.007015257608145475, -0.01267885509878397, -0.027441518381237984, -0.010088172741234303, 0.027089523151516914, 0.010904800146818161, -0.02728664129972458, -0.010806242004036903, -0.010257130488753319, 0.03629770874977112, -0.0057515958324074745, -0.023625895380973816, 0.011327194049954414, 0.025864582508802414, -0.008722432889044285, 0.005255283322185278, 0.01484010275453329, -0.011052638292312622, 0.06420385837554932, 0.018219253048300743, -0.015318815596401691, -0.012186061590909958, 0.016952071338891983, 0.013122368603944778, 0.0032137129455804825, -0.04981430992484093, -0.025428108870983124, 0.02859606221318245, 0.008771711960434914, 0.015051299706101418, 0.022795187309384346, -0.06319011747837067, 0.034608133137226105, -0.024541081860661507, 0.02968020550906658, -0.014530347660183907, -0.025498507544398308, 0.02558298595249653, 0.03266512230038643, -0.0014282191405072808, -0.014354350045323372, -0.006941338535398245, 0.02286558598279953, 0.027216242626309395, -0.02242911234498024, -0.05192628130316734, 0.020626898854970932, -0.0483500137925148, -0.005635437555611134, 0.01976803131401539, 0.04812473803758621, -0.009869935922324657, 0.03978949785232544, -0.015318815596401691, 0.025259150192141533, -0.0011871026363223791, -0.01479786355048418, -0.036269549280405045, -0.0020890894811600447, -0.01204526424407959, 0.0035041088704019785, 0.015051299706101418, -0.02107745222747326, -0.036663785576820374, 0.005294002592563629, -0.0065013449639081955, 0.04922296106815338, -0.010003693401813507, 0.037452250719070435, -0.0071701351553201675, -0.032468006014823914, 0.05426352843642235, -0.004663931671530008, -0.048152897506952286, -0.028821337968111038, -0.01596648618578911, -0.0061845495365560055, 0.01180590782314539, 0.016726795583963394, -0.011510231532156467, -0.04297153279185295, -0.0445203073322773, 0.0018039735732600093, 0.006895579397678375, 0.007127895951271057, -0.0251324325799942, -0.0268924068659544, -0.057952433824539185, 0.010207850486040115, 0.01117231696844101, -0.07197590917348862, 0.0302997175604105, 0.053052663803100586, 0.011207516305148602, 0.03300303593277931, -0.009320823475718498, -0.0035305083729326725, 0.046491481363773346, -0.03258064389228821, -0.01145391259342432, -0.028103269636631012, 0.009130746126174927, 0.0439852774143219, -0.004121859557926655, -0.022246073931455612, -0.03956422209739685, -0.03686090186238289, -0.04167618975043297, 0.014980901032686234, 0.027033204212784767, 0.023949729278683662, 0.002551962621510029, 0.04429503157734871, -0.020922573283314705, -0.008278919383883476, 0.007765006273984909, 0.04429503157734871, -0.03725513443350792, -0.026681210845708847, 0.06178213655948639, -0.04894136264920235, -0.02925781160593033, -0.04370368272066116, -0.04088772088289261, -0.0302997175604105, -0.043872639536857605, 0.009440502151846886, 0.002877557883039117, 0.06397858262062073, -0.010897760279476643, -0.010813281871378422, 0.0005253523122519255, -0.02128864824771881, -0.030947387218475342, -0.00014574786473531276, 0.026681210845708847, 0.03455181419849396, 0.026610810309648514, -0.028300385922193527, 0.0027631595730781555, -0.04359104111790657, -0.02666712924838066, 0.038099922239780426, -0.05009590834379196, 0.019247079268097878, 0.027047283947467804, -0.013326524756848812, -0.007328532636165619, -0.013981235213577747, 0.01914851926267147, -0.02539994940161705, 0.008356357924640179, -0.02654041163623333, -0.02548442780971527, -0.01721958816051483, 0.009299703873693943, -0.030496833845973015, 0.012714054435491562, 0.034833408892154694, -0.0278498325496912, -0.011517271399497986, -0.04266177490353584, 0.02548442780971527, 0.0032647522166371346, 0.04823737591505051, 0.0016042165225371718, 0.045449577271938324, -0.018219253048300743, -0.01854308880865574, -0.011291994713246822, 0.008813951164484024, -0.0362132303416729, -0.007075096480548382, -0.03210192918777466, -0.014417708851397038, 0.003588587511330843, -0.026470012962818146, -0.004850489087402821, 0.04052164778113365, 0.029877323657274246, 0.013122368603944778, -0.04987063258886337, -0.044266872107982635, 0.03995845466852188, -0.09433461725711823, 0.006983577739447355, -0.04637884348630905, 0.04384448006749153, -0.05457328259944916, -0.0212464090436697, 0.008820991031825542, 0.008468995802104473, 0.030243398621678352, 0.053925611078739166, 0.032468006014823914, 0.02903253585100174, 0.03488973155617714, -0.026554491370916367, -0.009053307585418224, 0.002251007128506899, 0.054545123130083084, -0.03638218715786934, 0.027033204212784767, -0.00342138996347785, 0.01058096531778574, -0.029145173728466034, 0.017979897558689117, 0.038578636944293976, -0.02342877723276615, -0.016501517966389656, -0.0033545109909027815, -0.009503860957920551, -0.0089195491746068, -0.03615691140294075, -0.023119021207094193, 0.0017168548656627536, -0.023752612993121147, 0.09962861984968185, -0.021978558972477913, 0.011425753124058247, -0.050349343568086624, 0.00882803089916706, -0.02527322992682457, 0.010285289958119392, 0.007342612836509943, -0.01771238073706627, -0.045618534088134766, 0.01578344963490963, -0.01324908621609211, -0.0733838900923729, -0.0030852349009364843, -0.03702985867857933, -0.033200155943632126, -0.0010533445747569203, 0.04105668142437935, 0.006469665560871363, 0.03748041018843651, -0.0010920640779659152, 0.017853178083896637, -0.026512252166867256, -0.004399935714900494, -0.002268606796860695, -0.026554491370916367, -0.009567219763994217, -0.015642650425434113, 0.0039036229718476534, -0.033819664269685745, -0.03984581679105759, -0.02006370574235916, 0.05997992306947708, -0.021302727982401848, -0.01648743823170662, -0.04367552325129509, -0.007722767069935799, 0.006071911193430424, -0.026653049513697624, -0.0018550128443166614, 0.008736512623727322, 0.026568571105599403, -0.07180695235729218, -0.009088506922125816, -0.016726795583963394, 0.013002689927816391, -0.017993977293372154, 0.02111969143152237, -0.005568558815866709, -0.042915213853120804, -0.012692934833467007, 0.0007070696447044611, 0.006930778734385967, 0.010024813003838062, 0.014192432165145874, -0.024020127952098846, 0.023977888748049736, 0.022246073931455612, -0.00584663450717926, -0.007969163358211517, 0.0026558011304587126, 0.0013103008968755603, 0.009095546789467335, 0.02151392586529255, 0.03283407911658287, 0.04581565037369728, -0.0050652059726417065, 0.013368764892220497, -0.03542476147413254, -0.00260652182623744, -0.013671480119228363, 0.021049292758107185, -0.008673152886331081, -0.007328532636165619, -0.0047132112085819244, -0.0002285766531713307, -0.016234003007411957, 0.04522429779171944, 0.015727130696177483, 0.0058149551041424274, 0.03686090186238289, -0.0039810617454349995, 0.037452250719070435, -0.04314048960804939, -0.028581982478499413, -0.007335572969168425, 0.016670476645231247, -0.037452250719070435, 0.022457271814346313, 0.010616164654493332, 0.031454261392354965, -0.0139249162748456, -0.0012962210457772017, 0.03325647488236427, -0.01141167338937521, -0.01914851926267147, 0.024498842656612396, 0.020964814350008965, 0.03117266483604908, -0.06104998663067818, 0.0007779086008667946, 0.042915213853120804, -0.02762455679476261, -0.022541750222444534, -0.014811943285167217, 0.016163604333996773, -0.04460478946566582, 0.017993977293372154, 8.530375635018572e-05, 0.023358378559350967, 0.0009741457761265337, 0.007244054228067398, 0.012509897351264954, -0.020950734615325928, 0.0021278089843690395, 0.01626216247677803, -0.033819664269685745, -0.010883680544793606, 0.023625895380973816, -0.043478403240442276, 0.009503860957920551, -0.004582973197102547, 0.00819444004446268, -0.01971171237528324, 0.013741878792643547, 0.027751274406909943, 0.034861572086811066, -0.015023140236735344, -0.0326932817697525, 0.008271879516541958, 0.04446398839354515, -0.007659407798200846, -0.04637884348630905, -0.03787464648485184, -0.0009248664719052613, 0.013460283167660236, -0.02601945959031582, 0.005871274042874575, -0.020134106278419495, 0.0026980405673384666, 0.04359104111790657, 0.03939526528120041, -0.05125045031309128, 0.041816987097263336, 0.008419716730713844, 0.009581299498677254, -0.012094543315470219, 0.03424206003546715, -0.04263361543416977, -0.030806589871644974, 0.021176010370254517, -0.004019781015813351, 0.014783783815801144, -0.0168816726654768, -0.02440028265118599, 0.011594710871577263, 0.035255804657936096, 0.049560874700546265, -0.03503052890300751, -0.004530173726379871, -0.03649482503533363, 0.018895084038376808, 0.016473358497023582, -0.01595240645110607, 0.004456254653632641, 0.006874459329992533, -0.03159505873918533, -0.018430450931191444, -0.011700308881700039, 0.016600077971816063, 0.0449427030980587, -0.0016218163073062897, 0.005075765773653984, -0.024822676554322243, 0.04376000165939331, -0.03798728436231613, 0.060881029814481735, 0.0004690331406891346, 0.007786126341670752, -0.01605096459388733, 0.02768087573349476, 0.013615161180496216, 0.02265438809990883, 0.011425753124058247, 0.023076782003045082, 0.01514985878020525, 0.00659990357235074, 0.0076030888594686985, 0.0070821363478899, 0.012707014568150043, 0.026878327131271362, 0.015403294935822487, -0.013340605422854424, -0.009496821090579033, 0.019993307068943977, 0.0011853426694869995, 0.02745559811592102, -0.04215490445494652, -0.045618534088134766, 0.0026822008658200502, -0.004910328425467014, 0.00485400902107358, 0.020443860441446304, -0.0006938698352314532, 0.0005046726437285542, 0.018768366426229477, -0.004202818498015404, 0.00010845841461559758, 0.02863830141723156, 0.010749923065304756, -0.004090180154889822, -0.012671814300119877, -0.00093454634770751, -0.01713510975241661, -0.01634664088487625, -0.03542476147413254, -0.012868931517004967, -0.013375804759562016, -0.004526653792709112, -0.02295006439089775, 0.0012874212116003036, 0.006733661517500877, 0.03922630473971367, 0.036607466638088226, -0.008623873814940453, -0.0006322707631625235, 0.011137117631733418, -0.03956422209739685, 0.007413011509925127, -0.006955418270081282, 0.022541750222444534, -0.06150054186582565, -0.004994806833565235, 0.013720759190618992, -0.006761820986866951, -0.03148242086172104, 0.033650707453489304, -0.034185741096735, -0.02762455679476261, -0.016163604333996773, -0.004238017834722996, -0.0006586703821085393, 0.012298700399696827, 0.02487899549305439, -0.044492147862911224, -0.004868088755756617, 0.0328059196472168, 0.003988101612776518, 0.017022471874952316, -0.04460478946566582, 0.02675160951912403, -0.04128195717930794, -0.014642985537648201, -0.00883507076650858, 0.003115154569968581, -0.010630244389176369, 0.011207516305148602, -0.02207711711525917, -0.0246537197381258, 0.01451626792550087, -0.021696962416172028, 0.013312445022165775, -0.022569909691810608, -0.05685420706868172, -0.036044273525476456, 0.01129903458058834, 0.011869266629219055, 0.013460283167660236, -0.04139459505677223, 0.01034160889685154, -0.009208185598254204, 0.015065379440784454, -0.010397927835583687, -0.022316474467515945, 0.023513255640864372, 0.008673152886331081, -0.003875463269650936, 0.003095794701948762, 0.022274235263466835, -0.016994312405586243, 0.020514260977506638, -0.01605096459388733, 0.003505868837237358, -0.03218640759587288, 0.0010445447405800223, -0.03894471004605293, -0.048293694853782654, 0.02400604821741581, -0.03536844253540039, 0.01897956244647503, -0.002031010342761874, -0.011643989942967892, -0.0006841900176368654, -0.0051004053093492985, 0.026075778529047966, -0.017501184716820717, 0.025554826483130455, -0.011503191664814949, -0.0068181403912603855, 0.003713545622304082, 0.002194687956944108, -0.006335907150059938, -0.015769369900226593, 0.03328463435173035, -0.029088854789733887, 0.010756962932646275, -0.027948390692472458, -0.019838429987430573, -0.020739536732435226, -0.02518875151872635, -0.008961789309978485, -0.004530173726379871, -0.10182507336139679, -0.023400617763400078, 0.02815958857536316, -0.02514651231467724, 0.014628905802965164, -0.03179217502474785, 0.013150528073310852, 0.008159240707755089, -0.022569909691810608, -0.030947387218475342, -0.023400617763400078, -0.000797268352471292, -0.022020798176527023, -0.012643654830753803, -0.008292999118566513, 0.008032522164285183, 0.00911666639149189, -0.004178178962320089, -0.01018673088401556, -0.012390218675136566, -0.031679537147283554, 0.043478403240442276, -0.029933642596006393, 0.0026470012962818146, -0.031848493963479996, -0.012692934833467007, -0.0049842470325529575, -0.003185553476214409, 0.05924777314066887, -0.05682604759931564, 0.031285300850868225, 0.012643654830753803, -0.024724118411540985, -0.003681866219267249, -0.027399279177188873, 0.04801209643483162, -0.010095212608575821, -0.018923243507742882, 0.044576629996299744, -0.0156567320227623, 0.005350321996957064, -0.038409680128097534, 0.011038558557629585, 0.04218306392431259, 0.018571248278021812, -0.0008126681204885244, -0.013242046348750591, 0.00858867447823286, -0.009919214993715286, 0.001624456257559359, 0.01519209798425436, 0.025864582508802414, 0.028272226452827454, -0.016332561150193214, 0.03750857338309288, -0.015023140236735344, -0.021570244804024696, -0.04359104111790657, 0.0032594723161309958, -0.0010982239618897438, -0.0030711551662534475, -0.023625895380973816, -0.005909993778914213, -0.01638888008892536, 0.020077787339687347, -0.015318815596401691, -0.023147180676460266, 0.02849750407040119, 0.002319646067917347, 0.0017133349319919944, 0.019444195553660393, 0.02133088745176792, 0.006832220125943422, 0.024555161595344543, -0.014220591634511948, 0.009475701488554478, -0.027709035202860832, -0.016670476645231247, 0.001967651303857565, -0.0034653893671929836, 0.004329536575824022, -0.0043506561778485775, -0.0009292663889937103, 0.011221596039831638, -0.0011721429182216525, 0.02807511016726494, -0.014009395614266396, 0.004530173726379871, 0.00572695629671216, 0.0005948712932877243, 0.025934981182217598, 0.01348844263702631, -0.003636106848716736, 0.008088842034339905, -0.035734519362449646, 0.0395079031586647, -0.021894080564379692, -0.017022471874952316, 0.033988624811172485, -0.0031538738403469324, 0.021485766395926476, 0.036354027688503265, -0.006318307481706142, -0.03404494374990463, -0.018120694905519485, -0.026047619059681892, 0.023287979885935783, 0.02120416983962059, 0.005378481466323137, 0.020162265747785568, -0.0006925498601049185, 0.03401678428053856, 0.011777747422456741, 0.03412942215800285, -0.061444222927093506, 0.020035546272993088, 0.03815624117851257, 0.024991635233163834, -0.005445360206067562, -0.001118463696911931, 0.02552666701376438, 0.008630913682281971, -0.013340605422854424, -0.010609124787151814, 0.0001594976638443768, 0.017078790813684464, 0.026343295350670815, -0.015417374670505524, -0.0006371106719598174, -0.0024322844110429287, 0.005480560008436441, 0.007708687335252762, 0.009489781223237514, -0.023555494844913483, 0.028258146718144417, -0.001624456257559359, 0.039620541036129, -0.008173320442438126, -0.025906821712851524, 0.00834931805729866, 0.008630913682281971, -0.01617768406867981, -0.009102586656808853, -0.0028669980820268393, 0.022640308365225792, 0.05460144206881523, -0.023287979885935783, -0.005427760537713766, -0.040859561413526535, 0.004076100420206785, 0.002404124941676855, 0.010095212608575821, -0.02400604821741581, 0.039592381566762924, 0.00998961366713047, 0.05206707864999771, -0.0307784304022789, -0.010419047437608242, 0.007539729587733746, 0.02951124869287014, -0.0424928180873394, 0.010271210223436356, 0.04271809384226799, -0.04801209643483162, 0.013671480119228363, -0.002988436259329319, -0.030187077820301056, -0.02064097858965397, 0.0030148359946906567, 0.03393230214715004, -0.010369768366217613, 0.016853513196110725, -0.019838429987430573, 0.00409722002223134, -0.012890051119029522, 0.006300707813352346, -0.02697688527405262, -0.0028441185131669044, 0.04927928000688553, 0.02749783731997013, -0.02597722038626671, 0.03013075888156891, -0.01101743895560503, -0.021894080564379692, 0.026765689253807068, 0.022485431283712387, -0.003424909897148609, -0.04201410710811615, -0.002940916921943426, 0.02973652444779873, 0.0076382881961762905, 0.008222599513828754, 0.020232664421200752, 0.05310898274183273, 0.02562522515654564, -0.018430450931191444, 0.009771376848220825, -0.0008593074162490666, 0.0232175812125206, 0.003009556094184518, 0.03142610192298889, -0.0044597745873034, -0.011228635907173157, 0.02138720639050007, -0.0038508237339556217, 0.0347207710146904, 0.0005592318484559655, -0.005403121002018452, 0.00560727808624506, 0.010003693401813507, 0.011087837629020214, -0.007335572969168425, -0.017304066568613052, 0.0026100417599081993, -0.00014772784197703004, -0.0298210047185421, -0.003352751024067402, 0.009700978174805641, -0.007497490383684635, 0.0028881176840513945, -0.037452250719070435, 0.013720759190618992, -0.01674087531864643, 0.037790168076753616, 0.017782779410481453, -0.004720251075923443, -0.0008918669773265719, 0.003991621546447277, -0.0234850961714983, 0.024498842656612396, 0.014896422624588013, -0.004977207165211439, -0.004368256311863661, -0.002713880268856883, 0.023541415110230446, -0.02496347576379776, 0.03818440064787865, -0.027300721034407616, -0.0018127735238522291, -0.02851158380508423, -0.0006789100589230657, -0.0008984668529592454, -0.004625212401151657, -0.013678519986569881, -0.013375804759562016, 0.005008886568248272, 0.009158906526863575, 0.019739871844649315, -0.009370102547109127, 0.01467114593833685, 0.013213886879384518, -0.012601415626704693, -0.013284285552799702, -0.024893075227737427, -0.013122368603944778, -0.039676859974861145, -0.018782446160912514, 0.014312110841274261, -0.015051299706101418, 0.0004567133146338165, 0.013523641973733902, -0.01819109357893467, 0.05845930427312851, -0.014924582093954086, -0.03238352760672569, 0.021570244804024696, 0.013115327805280685, 0.020260823890566826, 0.0268924068659544, 0.03435469791293144, 0.005744555965065956, 0.025723783299326897, 0.018374131992459297, -0.032862238585948944, -0.006293667946010828, -0.00465689180418849, -0.03764937072992325, -0.014086834155023098, 0.02552666701376438, -0.0062197488732635975, -0.012756293639540672, 0.015614491887390614, -0.005508719477802515, -0.007057496812194586, 0.013636280782520771, 0.007617168594151735, -0.02627289667725563, -0.04147907346487045, 0.006114150397479534, -0.009912175126373768, 0.024146847426891327, -0.01871204562485218, -0.008039562031626701, 0.005371441598981619, -0.019049961119890213, -0.0033087516203522682, 0.0026223617605865, -0.017346305772662163, -0.0003198753111064434, 0.019739871844649315, 0.01265773456543684, 0.020176345482468605, -0.0003460549341980368, 0.013382844626903534, 0.0005178724532015622, 0.02334429882466793, 0.024907154962420464, -0.01447402872145176, -0.03593163564801216, 0.019528673961758614, 0.015515932813286781, -0.006276068277657032, 0.005167284514755011, -0.02596314065158367, -0.007729806937277317, 0.003942342475056648, 0.03463629260659218, 0.02365405485033989, -0.00497368723154068, -0.02627289667725563, 0.020964814350008965, 0.004167619161307812, 0.00441401544958353, -0.0488850437104702, 0.0003812544164247811, 0.016022805124521255, 0.006212709005922079, 0.016769034788012505, -0.005294002592563629, -0.03750857338309288, -0.005191924050450325, 0.012692934833467007, 0.01669863611459732, 0.004723771009594202, -0.05212339758872986, -0.04905400425195694, -0.029933642596006393, 0.010369768366217613, -0.0063675870187580585, -0.03933894634246826, 0.02558298595249653, -0.007145495619624853, -0.024428442120552063, 0.0010612645419314504, -0.03108818456530571, 0.013995314948260784, -0.023400617763400078, -0.0018814124632626772, 0.0395079031586647, 0.030018121004104614, 0.09270136803388596, -0.004157059360295534, 0.004114819690585136, -0.009172986261546612, -0.006726621650159359, -0.01582568883895874, -0.01412203349173069, 0.0013490202836692333, -0.008124041371047497, 0.009165946394205093, 0.015544092282652855, 0.0041464995592832565, 0.037142496556043625, -0.008870270103216171, 0.024146847426891327, 0.037226974964141846, -0.05254579335451126, 0.007405971642583609, 2.480463808751665e-05, -0.032946716994047165, 0.017191428691148758, -0.01941603608429432, -0.020274903625249863, 0.006191589403897524, 0.0006784700672142208, 0.011587671004235744, 0.021922240033745766, -0.007120856083929539, -0.02592090144753456, 0.01257325615733862, -0.024287644773721695, -0.020049626007676125, 0.010883680544793606, 0.003254192415624857, 0.02111969143152237, 0.019725792109966278, -0.021359046921133995, -0.011756627820432186, 0.04660411924123764, -0.038240719586610794, 0.024189086630940437, 0.0077720461413264275, 0.02356957457959652, 0.008236679248511791, 0.012805572710931301, 0.02356957457959652, 0.00854643527418375, -0.008820991031825542, 0.020697297528386116, -0.042126744985580444, 0.00038873430457897484, 0.026526331901550293, -0.02238687314093113, -0.026441853493452072, -0.021654723212122917, -0.023837091401219368, 0.01180590782314539, 0.023316139355301857, -0.006948378402739763, 0.02425948530435562, -0.006754781119525433, 0.009940334595739841, -0.01914851926267147, -0.01752934418618679, 0.02562522515654564, -0.02409052848815918, -0.007314452901482582, -0.013544761575758457, 0.004445694852620363, 0.0302997175604105, 0.036438506096601486, 0.01519209798425436, -0.05310898274183273, 0.0012372619239613414, 0.027596397325396538, 0.013502522371709347, 0.00021251689759083092, 0.014262831769883633, -0.017909498885273933, 0.04108484089374542, 0.0076382881961762905, -0.006177509669214487, 0.0006657102494500577, 0.02286558598279953, -0.009623539634048939, -0.0278498325496912, -0.01093296054750681, 0.029314130544662476, -0.0031186745036393404, 0.030271558091044426, 0.040775083005428314, -0.02801879122853279, -0.0018638127949088812, 0.0424928180873394, 0.01879652589559555, 0.0025730824563652277, 0.0050018467009067535, 0.0030746750999242067, 0.039198145270347595, -0.00026223616441711783, 0.026160256937146187, 0.008602754212915897, -0.037142496556043625, 0.020866254344582558, 0.001955331303179264, 0.018909163773059845, -0.01018673088401556, -0.03142610192298889, 0.011376474052667618, 0.0014757384778931737, -0.04223938286304474, 0.004547773394733667, 0.03894471004605293, 0.009503860957920551, -0.0023425256367772818, -0.04657595977187157, -0.02365405485033989, -0.026202496141195297, -0.026132097467780113, -0.03252432495355606, 0.0013666200684383512, -0.03818440064787865, -0.03497420996427536, 0.006789980921894312, 0.028145508840680122, -0.008539395406842232, 0.019570913165807724, 0.026174336671829224, -0.03060947172343731, -0.004885688424110413, 0.038972869515419006, -0.0012636615429073572, 0.02413276769220829, 0.019838429987430573, 0.06611870974302292, -0.017332226037979126, -0.035086847841739655, -0.030665792524814606, 0.002764919539913535, 0.023499175906181335, -0.0015619772020727396, -0.006786460988223553, 0.003829703899100423, -0.032636962831020355, 0.006649182643741369, 0.00937714334577322, 0.00521304365247488, -1.61285133799538e-05, -0.007441170979291201, -0.022682547569274902, -0.002041570143774152, 0.018064375966787338, 0.021105611696839333, -0.04421055316925049, -0.01038384810090065, 0.08459140360355377, 0.01578344963490963, 0.012805572710931301, -0.00592407351359725, 0.021894080564379692, -0.0125662162899971, 0.02527322992682457, -0.0332283154129982, -0.001757334335707128, -0.00026003620587289333, -0.013579961843788624, 0.008476035669445992, -0.001397419604472816, 0.021021133288741112, 0.014157232828438282, 0.0012531016254797578, 0.017909498885273933, 0.013164607807993889, 0.027835752815008163, 0.020753616467118263, -0.018416371196508408, 0.008722432889044285, 0.03260880336165428, 0.020134106278419495, -0.010904800146818161, -0.02471003867685795, -0.014938661828637123, -0.00468857167288661, -0.007891724817454815, 0.0020820496138185263, 0.0030500353313982487, -0.016022805124521255, -0.0193315576761961, 0.04305601119995117, -0.017191428691148758, 0.01927523873746395, -0.010348648764193058, 0.00033329511643387377, 0.011510231532156467, 0.007293333299458027, -0.011622870340943336, -0.0016526158433407545, 0.02942677028477192, -0.019401956349611282, 0.03258064389228821, -0.016585998237133026, 0.013136448338627815, 0.04043716937303543, 0.016853513196110725, -0.0005508719477802515, -0.0232175812125206, -0.040944039821624756, 0.006342947483062744, -0.0016103764064610004, 0.020345302298665047, -0.008757632225751877, 0.01989474892616272, -0.02247135154902935, 0.0244425218552351, 0.009018108248710632, -0.0175715833902359, -0.013467323035001755, 0.022541750222444534, 0.0035956273786723614, -0.03317199647426605, -0.0021665282547473907, -0.02776535414159298, 0.022485431283712387, -0.0375930517911911, -0.03795912489295006, 0.026765689253807068, 0.022147515788674355, 0.02014818601310253, 0.02851158380508423, 0.011517271399497986, -0.006332387216389179, 0.003907142672687769, 0.010151531547307968, -0.02527322992682457, 0.013439163565635681, -0.02024674415588379, -0.054939355701208115, 0.009743217378854752, 0.030834749341011047, -0.032158248126506805, 0.00425209803506732, -0.023062702268362045, -0.06003624200820923, 0.0049666473641991615, -0.02185184136033058, -0.02313310094177723, 0.00379802449606359, 0.015515932813286781, -0.005184884183108807, 0.03590347617864609, 0.0005319522460922599, 0.023837091401219368, 0.014699305407702923, -0.03764937072992325, -0.02471003867685795, 0.010045933537185192, 0.007342612836509943, 0.006761820986866951, -0.02378077246248722, -0.03013075888156891, -0.04415423423051834, -0.018261492252349854, -0.0019412515684962273, -0.0244425218552351, 0.03708617761731148, 0.022189754992723465, -0.00994737446308136, -0.010433127172291279, -0.01765606179833412, 0.02182368002831936, 0.001315580797381699, -0.004114819690585136, 0.01648743823170662, 0.002979636425152421, 0.011869266629219055, -0.02330205962061882, -0.034523654729127884, 0.012228300794959068, 0.007624208461493254, -0.007490450516343117, -0.013664440251886845, 0.026864247396588326, 0.018909163773059845, -0.01626216247677803, 0.025428108870983124, 0.009581299498677254, -0.05947304889559746, 0.013023809529840946, -0.044576629996299744, 0.011531351134181023, -0.011460952460765839, 0.0030852349009364843, -0.026329215615987778, -0.014368429780006409, 0.01534697599709034, 0.01617768406867981, 0.023935649544000626, 0.0036149872466921806, 0.0008192679961211979, -0.003836743999272585, 0.011580631136894226, -0.04285889491438866, -0.02894805744290352, -0.0202889833599329, -0.011249755509197712, 0.011995984241366386, 0.029060695320367813, -0.013213886879384518, -0.025906821712851524, -0.01923299953341484, 0.026160256937146187, 0.00030117560527287424, 0.030271558091044426, -0.009370102547109127, 0.04122563824057579, -0.005110965110361576, -0.012847811914980412, 0.011460952460765839, -0.010060013271868229, 0.00492792809382081, 0.03229904919862747, -0.018641646951436996, 0.021964479237794876, 0.009348982945084572, -0.037452250719070435, 0.009426422417163849, -0.019247079268097878, -0.008616833947598934, 0.014417708851397038, 0.004625212401151657, -0.0018250932916998863, 0.015670811757445335, -0.007075096480548382, 0.002778999274596572, 0.0005979512352496386, -0.003724105656147003, -0.021612484008073807, -0.0021225290838629007, -0.0028933975845575333, -0.0027754793409258127, 0.037142496556043625, 0.0004879528714809567, -0.00013639801181852818, 0.007497490383684635, -0.03308751806616783, 0.08622466027736664, 0.03750857338309288, -0.00894066970795393, -0.012939331121742725, 0.019613152369856834, -0.008039562031626701, 0.044266872107982635, -0.02014818601310253, 0.0017766939708963037, 0.02238687314093113, 0.029652046039700508, 0.02010594680905342, -0.0012513416586443782, 0.02732888050377369, -5.194673940422945e-05, -0.016290321946144104, 0.004565373063087463, -0.010545765981078148, 0.029229652136564255, 0.006550624035298824, 0.030243398621678352, -0.010179691016674042, -0.0027033204678446054, -0.010327529162168503, 0.028919897973537445, -0.007652367930859327, 0.040859561413526535, 0.005491119809448719, -0.004283777438104153, 0.026174336671829224, -0.031031865626573563, -0.029285971075296402, -0.004487934522330761, -0.02317534200847149, 0.02226015366613865, 0.04325312748551369, -0.01638888008892536, -0.00767348799854517, -0.021809600293636322, 0.021880000829696655, -0.00584663450717926, 0.007314452901482582, 0.004780089948326349, -0.027117682620882988]}),\n",
       " Document(page_content='26E8185C-782A-4B48-87FA-1E715E3825FB', metadata={'categoryId': 'AE48F0AA-4F65-4734-A4CF-D48B8F82267F', 'categoryName': 'Bikes, Road Bikes', 'sku': 'BK-R64Y-48', 'name': 'Road-550-W Yellow, 48', 'description': 'The product called \"Road-550-W Yellow, 48\"', 'price': 1120.49, 'tags': [{'_id': '46AC3482-E9A6-474D-A435-D3399F21991F', 'name': 'Tag-90'}, {'_id': '9C89E562-1247-435D-B786-4E54024E681C', 'name': 'Tag-128'}], 'contentVector': [0.01621329039335251, -0.028376655653119087, -0.08768495172262192, -0.003869852749630809, -0.0037271541077643633, 0.00413826247677207, -0.011110113002359867, 0.012346834875643253, -0.013291364535689354, -0.037455011159181595, 0.024082103744149208, -0.048544738441705704, -0.02431314066052437, -0.03612315654754639, 0.03155680000782013, 0.05058329179883003, -0.0019162397366017103, -0.012102209031581879, -0.04188546538352966, 0.06637527793645859, 0.058655962347984314, -0.009030789136886597, 0.06083041802048683, 0.01398447249084711, -0.0018109144875779748, -0.006115658674389124, -0.007467898540198803, -0.0065335617400705814, 0.050501748919487, -0.04914271458983421, -0.021364033222198486, -0.013209822587668896, 0.02370157465338707, -0.02453058585524559, -0.022193046286702156, -0.02703121118247509, 0.0010337161365896463, -0.0032192147336900234, 0.05832979083061218, 0.04229317605495453, -0.006363682448863983, -0.022682297974824905, 0.03473694249987602, 0.027724318206310272, 1.3105930520396214e-05, 0.04120595008134842, -0.009642355144023895, -0.0015314628835767508, -0.018306205049157143, 0.03490002453327179, 0.08572794497013092, 0.008629873394966125, -0.020317576825618744, 0.016403555870056152, 0.0012953304685652256, 0.025169333443045616, 0.005059008486568928, 0.024843163788318634, 0.02190764807164669, 0.0198826864361763, -0.008432813920080662, -0.04479380324482918, -0.010627655312418938, -0.008011512458324432, -0.005351201165467501, -0.04335322231054306, -0.06990877538919449, 0.015547363087534904, -0.014854255132377148, 0.0069718509912490845, 0.027602005749940872, 0.00882013887166977, -0.00022721370623912662, -0.044005561619997025, 0.017083073034882545, 0.05082791671156883, -0.008466789498925209, 0.008432813920080662, 0.03693857789039612, -0.044358909130096436, -0.03302455693483353, 0.01653945818543434, -0.00039157201535999775, -0.02514215186238289, 0.002775829518213868, -0.05773181840777397, -0.04666927084326744, -0.05610097572207451, -0.019148806110024452, -0.0008515205117873847, -0.036041613668203354, -0.020426299422979355, -0.0027962150052189827, -0.013019558042287827, 0.012523509562015533, 0.02786022238433361, -0.019230348989367485, 0.04319014027714729, -0.009893776848912239, -0.020195264369249344, 0.03370407223701477, -0.016131747514009476, 0.029246438294649124, 0.011782835237681866, 0.018618782982230186, 0.021486347541213036, 0.018306205049157143, -0.005595827475190163, 0.0040363348089158535, 0.015153243206441402, -0.08752186596393585, 0.004162045195698738, 0.011341148987412453, 0.032943014055490494, 0.026011934503912926, 0.03155680000782013, -0.019814733415842056, 0.03180142492055893, 0.013270978815853596, -0.04563640430569649, -0.014106785878539085, 0.017952855676412582, 0.0221386831253767, -0.05487784370779991, -0.004929900169372559, 0.0780629813671112, -0.003258286975324154, -0.06034116446971893, -0.01619970053434372, -0.04786521941423416, -0.003550479654222727, -0.033405087888240814, 0.0076105971820652485, 0.0058472491800785065, -0.02309000864624977, -0.009350161999464035, -0.017123844474554062, -0.004746430553495884, -0.019121626392006874, -0.0055550565011799335, 0.006373875308781862, -0.01350881066173315, 0.03422050550580025, -0.027452511712908745, -0.01883622817695141, 0.007298019248992205, -0.025930391624569893, 0.02224740758538246, -0.012136184610426426, 0.029599787667393684, 0.016580229625105858, -0.0033500217832624912, -0.013182641938328743, 0.007644573226571083, 0.013182641938328743, -0.03011622093617916, 0.05012121796607971, 0.01691998913884163, -0.019841914996504784, -0.01728692837059498, 0.016947168856859207, -0.016050206497311592, -0.02332104556262493, 0.019869094714522362, -0.026378873735666275, 0.03381279855966568, -0.019026493653655052, -0.0195157453417778, -0.029001811519265175, -0.042673707008361816, 0.0010702402796596289, -0.0020198661368340254, -0.01196630485355854, 0.017898494377732277, 0.01594148389995098, 0.029626967385411263, 0.0015433543594554067, -0.020168082788586617, 0.002436070702970028, 0.04465789720416069, 0.0050250329077243805, -0.008310500532388687, -0.029871594160795212, -0.005905007943511009, -0.03552518039941788, -0.017884904518723488, 0.03856942057609558, -0.0010710896458476782, -0.008969632908701897, -0.03775399923324585, -0.04838165268301964, -0.014691171236336231, -0.017083073034882545, 0.01679767481982708, 0.027833040803670883, -0.024951886385679245, 0.014025243930518627, 0.004885731730610132, 0.0030901064164936543, 0.04908835142850876, -0.004882334265857935, 0.009071560576558113, 0.07164833694696426, -0.005082791671156883, -0.08018308132886887, -0.031176269054412842, -0.052948012948036194, 0.0016520771896466613, 0.015927892178297043, -0.0005130358040332794, 0.020399119704961777, 0.005663779564201832, -0.005837056320160627, 0.04517433047294617, -7.925935642560944e-05, -0.024218007922172546, -0.036857035011053085, 0.01507170032709837, 0.01346124429255724, -0.01787131279706955, -0.07300737500190735, -0.022791020572185516, 0.07382279634475708, 0.007712524849921465, -0.026229379698634148, 0.02703121118247509, 0.03367689251899719, 0.006200598087161779, -0.016974350437521935, -0.04294551536440849, 0.04669645056128502, 0.025427550077438354, -0.008731801062822342, -0.023728754371404648, -0.021377624943852425, 0.033187638968229294, 0.03772681951522827, 0.018401337787508965, 0.019502155482769012, -0.045554861426353455, -0.023171551525592804, -0.029219256713986397, 0.03704730048775673, 0.017354879528284073, 0.04022744297981262, -0.01619970053434372, -0.031176269054412842, -0.04571794718503952, 0.025916801765561104, 0.01905367337167263, 0.013821388594806194, 0.04887090623378754, 0.0014049026649445295, -0.0032820701599121094, 0.02428595907986164, 0.005979754962027073, -0.05188796669244766, 0.0006289784796535969, 0.018876999616622925, -0.058166708797216415, 0.007590211927890778, -0.012849678285419941, -0.007678549271076918, 0.004162045195698738, -0.041396211832761765, -0.01880904845893383, 0.024204418063163757, 0.012876858934760094, -0.0069242846220731735, -0.02870282344520092, -0.031040364876389503, -0.000541490619070828, 0.01422909926623106, -0.004661490675061941, -0.004083900712430477, 0.0005028430605307221, -0.031611159443855286, 0.039955634623765945, -0.003519901307299733, -0.006852935068309307, 0.010715993121266365, 0.03639496490359306, -0.017694639042019844, 0.008969632908701897, 0.016960760578513145, -0.012530304491519928, 0.052567481994628906, 0.0070330072194337845, -0.011293582618236542, 0.012768136337399483, 0.011198450811207294, 0.005911803338676691, 0.015370688401162624, -0.038759686052799225, -0.010573294013738632, 0.0031291786581277847, 0.027819450944662094, 0.008473584428429604, 0.014066014438867569, -0.02916489541530609, 0.07007185369729996, -0.002410588786005974, 0.01868673413991928, -0.008426018059253693, -0.02951824478805065, 0.00892886146903038, 0.009961728006601334, -0.008548331446945667, 0.0198826864361763, -7.326049671974033e-05, 0.005324020516127348, 0.04786521941423416, -0.01906726509332657, -0.07224631309509277, 0.014120375737547874, -0.04188546538352966, 0.014256279915571213, -0.0036931782960891724, 0.060667332261800766, 0.00797074194997549, 0.04441327229142189, -0.008493970148265362, 0.02118735946714878, -0.00043913826812058687, -0.02728942781686783, -0.024951886385679245, -4.268220072844997e-05, -0.00464110542088747, 0.01796644553542137, 0.0035334916319698095, -0.010906257666647434, -0.03416614606976509, -0.020276805385947227, -0.0035402867943048477, 0.08300986886024475, -0.021255310624837875, 0.025821669027209282, -0.007977536879479885, -0.025060608983039856, 0.03321482241153717, 0.027833040803670883, -0.04313577711582184, -0.018156711012125015, -0.0052526709623634815, 0.00013685908925253898, -0.0024819381069391966, 0.009723897092044353, -0.0025872632395476103, -0.020643744617700577, -0.04060797393321991, 0.012353630736470222, 0.00655394745990634, 0.0019332276424393058, -0.007495079189538956, -0.01821107231080532, -0.04897962883114815, 0.024571357294917107, 0.010885871946811676, -0.05063765123486519, 0.02689530700445175, 0.039575107395648956, 0.018265433609485626, 0.04694107547402382, -0.005976357497274876, 0.0017268240917474031, 0.017232567071914673, -0.033513810485601425, -0.009492861106991768, -0.042918331921100616, -0.009642355144023895, 0.024014152586460114, 0.014609628356993198, -0.0337856151163578, -0.023552080616354942, -0.03432923182845116, -0.029110534116625786, 0.0077465008944272995, 0.01894495077431202, 0.013529195450246334, 0.015261965803802013, 0.04797394573688507, -0.000455276807770133, -0.015533773228526115, -0.008493970148265362, 0.05718820169568062, -0.02192123793065548, -0.0317198820412159, 0.06833229213953018, -0.059471383690834045, -0.020575793460011482, -0.04683235287666321, -0.03965664654970169, -0.03326918184757233, -0.0585472397506237, 0.03479130193591118, 0.0002580043510533869, 0.060069356113672256, -0.010389824397861958, -0.012713775038719177, 0.01179642602801323, -0.06479880213737488, -0.037210386246442795, 0.009363752789795399, 0.05702511966228485, 0.05286647006869316, 0.05493220314383507, -0.0074135372415184975, 0.006992236245423555, -0.0609935000538826, -0.030523931607604027, 0.03443795442581177, -0.047702137380838394, 0.026487596333026886, 0.031747061759233475, -0.005031827837228775, -0.05188796669244766, -0.00583365885540843, 0.004277563188225031, -0.038052987307310104, 0.037346288561820984, 0.0020487455185502768, -0.021962009370326996, -0.024979067966341972, -0.007488284260034561, -0.024476224556565285, 0.027004029601812363, 0.036857035011053085, -0.014799893833696842, -0.016933578997850418, -0.03740064799785614, 0.029110534116625786, -0.019841914996504784, 0.06615783274173737, -0.02453058585524559, 0.04096132144331932, -0.012584666721522808, -0.013413677923381329, -0.004902719520032406, -0.0035708651412278414, -0.03473694249987602, 0.005989947821944952, -0.020562203601002693, -0.027914583683013916, 0.007569826208055019, -0.04335322231054306, -0.009642355144023895, 0.05479630082845688, 0.029137715697288513, -0.012938015162944794, -0.047810859978199005, -0.027819450944662094, 0.043516308069229126, -0.09823106974363327, 0.01560172438621521, -0.03742783144116402, 0.047240063548088074, -0.03332354500889778, -0.01573762856423855, 0.00870462041348219, 0.022097913548350334, 0.029681328684091568, 0.055502999573946, 0.014161147177219391, 0.017450012266635895, 0.04859910160303116, -0.009159897454082966, -0.002847178839147091, 0.010851896367967129, 0.03193732723593712, -0.06719069927930832, 0.027316607534885406, -0.010165583342313766, 0.004773611202836037, -0.01542504969984293, 0.008935656398534775, 0.018632372841238976, -0.017816951498389244, -0.03454667702317238, -0.021282492205500603, 0.0019298300612717867, -0.009730692021548748, -0.022804610431194305, 0.009017198346555233, -0.01477271318435669, -0.03905867412686348, 0.07751937210559845, -0.003465539775788784, 0.011776040308177471, -0.05134434998035431, 0.010029680095613003, -0.027438921853899956, 0.019937047734856606, 0.023307453840970993, -0.01609097793698311, -0.038650963455438614, 0.00595257431268692, -0.009207463823258877, -0.060558609664440155, 0.012204136699438095, -0.05188796669244766, -0.029219256713986397, -0.008602692745625973, 0.03729192540049553, 0.00770572992041707, 0.039575107395648956, -0.01607738621532917, 0.022695887833833694, -0.011993486434221268, 0.003397588152438402, 0.005147345829755068, -0.0018703722162172198, 0.00033084015012718737, -0.012618642300367355, -0.01630842313170433, -0.043760932981967926, -0.017708228901028633, -0.028295112773776054, 0.05669895187020302, -0.021948419511318207, -0.006635489407926798, -0.04933298006653786, -0.01333213597536087, 0.002994973910972476, -0.02310359850525856, -0.00851435586810112, 0.010586884804069996, 0.03666676953434944, -0.06980004906654358, -0.011347943916916847, -0.023388996720314026, 0.015370688401162624, -0.018618782982230186, 0.016824856400489807, 0.004814382176846266, -0.03933047875761986, -0.021024275571107864, -0.007338790223002434, 0.017327699810266495, 0.022478442639112473, 0.002502323593944311, -0.019461384043097496, 0.020793238654732704, 0.029735691845417023, -0.0207388773560524, -0.03457385674118996, 0.01618610881268978, -0.004416864365339279, 0.014718351885676384, 0.028730005025863647, 0.04028180614113808, 0.040308985859155655, 0.004134864546358585, 0.017069483175873756, -0.053518809378147125, -0.0076581635512411594, -0.003536889096722007, 0.012360425665974617, -0.022804610431194305, 0.003914021421223879, -0.011178065091371536, -0.014120375737547874, -0.004943490494042635, 0.0359872542321682, 0.018401337787508965, 0.0022203237749636173, 0.041287489235401154, -0.0012324750423431396, 0.03155680000782013, -0.04348912835121155, -0.02669145166873932, -0.0069548627361655235, 0.017069483175873756, -0.025808079168200493, 0.01089946273714304, 0.008324090391397476, 0.05283929035067558, -0.0304967500269413, 0.018510060384869576, 0.020439889281988144, -0.008426018059253693, -0.013617533259093761, 0.015873530879616737, 0.013889339752495289, 0.027180705219507217, -0.05909085273742676, 0.013515605591237545, 0.05392652004957199, -0.03884122893214226, -0.022695887833833694, 0.0061020683497190475, 0.04511997103691101, -0.04813702777028084, 0.010498546995222569, 0.006197200622409582, 0.019434204325079918, -0.007134934887290001, 0.01596866361796856, 0.013325340114533901, -0.025196513161063194, -0.015506591647863388, 0.02431314066052437, -0.017123844474554062, -0.014297050423920155, 0.011714884079992771, -0.028974631801247597, -0.016281241551041603, 0.002668805420398712, 0.001953613245859742, 0.001195951015688479, -0.012333245016634464, 0.013753436505794525, 0.04036334529519081, -0.0024003959260880947, -0.024027742445468903, 0.007447513286024332, 0.04490252584218979, -0.002413986250758171, -0.05718820169568062, -0.03248094394803047, -0.016023024916648865, 0.012380811385810375, -0.028322294354438782, 0.013712665997445583, -0.01831979490816593, -0.01048495713621378, 0.028784366324543953, 0.030659835785627365, -0.0357426255941391, 0.03894995152950287, 0.004090696107596159, 0.012727364897727966, -0.0012970292009413242, 0.028648462146520615, -0.050094038248062134, -0.021418394520878792, 0.015139652416110039, -0.01089946273714304, 0.012109003961086273, -0.025685766711831093, -0.03772681951522827, 0.00952004175633192, 0.0547691211104393, 0.02799612656235695, -0.025413958355784416, 0.011565390042960644, -0.0319645069539547, 0.027547644451260567, 0.0008353819721378386, -0.030931642279028893, 0.002966094296425581, 0.001836396404542029, -0.02084759995341301, -0.019583698362112045, -0.005867634434252977, -0.011089727282524109, 0.03688421472907066, 0.0016435832949355245, 0.01656663976609707, -0.020766058936715126, 0.027778679504990578, -0.03712884336709976, 0.035661086440086365, 0.0028862510807812214, -0.0036625999491661787, -0.0019349263748154044, 0.02894745022058487, 0.009791849181056023, 0.02584885060787201, 0.020562203601002693, 0.025196513161063194, 0.015289146453142166, 0.004481418523937464, 0.010118016973137856, 0.011293582618236542, 0.013400087133049965, 0.0049672736786305904, 0.01833338476717472, 0.00803189817816019, -0.012367220595479012, 0.012122594751417637, 0.0009283909457735717, 0.021241720765829086, -0.03335072472691536, -0.03843351826071739, -0.0031971302814781666, -0.020630154758691788, 0.01739565096795559, 0.02606629580259323, 0.007957151159644127, 0.0018839625408872962, 0.025794489309191704, -0.0072776335291564465, 0.00621758634224534, 0.022437671199440956, 0.02487034536898136, 0.00413826247677207, 0.011286787688732147, 0.005422550719231367, -0.004807587247341871, -0.03201887011528015, -0.013366111554205418, -0.007420332171022892, 0.0006446923362091184, 0.0007427976815961301, -0.016865627840161324, -0.0059661646373569965, -0.00911912601441145, 0.05493220314383507, 0.01868673413991928, -0.020181672647595406, -0.0071689109317958355, 0.004090696107596159, -0.03258966654539108, -0.004117876756936312, 0.012170160189270973, 0.02382388710975647, -0.04748469218611717, -0.0038120937533676624, 0.022899743169546127, -0.0027622391935437918, -0.05490502342581749, 0.012971991673111916, -0.046506185084581375, -0.008670644834637642, -0.004413466900587082, 0.009723897092044353, -0.006448622327297926, 0.012550690211355686, 0.011939124204218388, -0.0509910024702549, 0.0011704690987244248, 0.015900712460279465, 0.0017565530724823475, 0.018972132354974747, -0.026718633249402046, 0.0034927206579595804, -0.03212759271264076, -0.010464571416378021, -0.026161428540945053, 0.004573153797537088, -0.016838446259498596, -0.014962977729737759, -0.025767307728528976, -0.00437609339132905, 0.014786303043365479, -0.02154070883989334, 0.029817232862114906, -0.0012689991854131222, -0.024707261472940445, -0.02084759995341301, -0.004189226310700178, 0.0113139683380723, 0.023633623495697975, -0.035769809037446976, -0.006139441858977079, -0.0066694654524326324, 0.013440858572721481, -0.010158788412809372, -0.04408710449934006, 0.020222444087266922, 0.009146307595074177, -0.0018279023934155703, 0.01808875985443592, 0.00476002087816596, 0.000649788707960397, 0.006034116260707378, -0.002960998099297285, -0.019271120429039, -0.02856692112982273, 0.010967414826154709, -0.03275274857878685, -0.048544738441705704, 0.011178065091371536, -0.028865909203886986, 0.0319645069539547, -0.002135384129360318, -0.00506580388173461, 0.014174737967550755, -0.018414927646517754, 0.023538490757346153, -0.008616283535957336, 0.02499265782535076, -0.023660803213715553, -0.031366534531116486, 0.0096355602145195, -0.005042020697146654, 0.013841774314641953, -0.04313577711582184, 0.0181159395724535, -0.030061859637498856, 0.009594788774847984, -0.02728942781686783, -0.021866876631975174, -0.02227458730340004, -0.013658303767442703, 0.00503522576764226, -0.00882013887166977, -0.09023994207382202, 0.0027605402283370495, 0.019733192399144173, -0.019597288221120834, 0.011327559128403664, -0.03487284481525421, 0.02167661115527153, 0.0036524070892482996, -0.010695607401430607, -0.025916801765561104, 0.005079394206404686, -0.007005826570093632, -0.028974631801247597, -0.025400368496775627, 0.005932188592851162, 0.002376612974330783, 0.010695607401430607, -0.016716133803129196, -0.006207393482327461, -0.008657054044306278, -0.007828042842447758, 0.03074137680232525, -0.003428166499361396, 0.006655875127762556, -0.023429768159985542, 0.0034961181227117777, -0.003441756824031472, -0.023660803213715553, 0.07779117673635483, -0.058438513427972794, 0.03666676953434944, 0.013970882631838322, -0.032807111740112305, 0.0008706319495104253, -0.04087977856397629, 0.033513810485601425, -0.0086910305544734, -0.030523931607604027, 0.041858285665512085, -0.004148454871028662, -0.0016206494765356183, -0.04275524988770485, 0.014867845922708511, 0.030061859637498856, 0.010811124928295612, -0.011198450811207294, -0.0019162397366017103, 0.014120375737547874, -0.018075168132781982, -0.008969632908701897, 0.024394681677222252, 0.013848569244146347, 0.040553610771894455, -0.003954792395234108, 0.03783554211258888, -0.010267511010169983, -0.01013160776346922, -0.03884122893214226, -0.0001853808935265988, -0.005177924409508705, 0.0024207814130932093, -0.0026382270734757185, -0.014392183162271976, -0.015112471766769886, 0.02178533561527729, 0.0020181674044579268, -0.018999312072992325, 0.030306486412882805, -0.009384138509631157, 0.009261825121939182, 0.021635841578245163, 0.009689921513199806, 0.0020011793822050095, 0.01883622817695141, -0.03631342202425003, -0.003054431639611721, -0.015479410998523235, -0.0005606020567938685, -0.01505811046808958, -0.010858691297471523, 0.0014363303780555725, 0.0008234904380515218, -0.01310789491981268, 0.005762309301644564, -0.004797394387423992, 0.0304967500269413, -0.009207463823258877, 0.0012596558080986142, 0.018523650243878365, -0.0033160459715873003, 0.019325481727719307, 0.010641246102750301, -0.00664228480309248, 0.006764597725123167, -0.03326918184757233, 0.047457508742809296, 0.0005075147491879761, -0.03120344877243042, 0.04609847441315651, -0.012122594751417637, 0.001506830332800746, 0.04751187190413475, -0.002413986250758171, -0.010940233245491982, -0.008847319521009922, -0.036503687500953674, 0.026378873735666275, 0.009594788774847984, -0.00026310072280466557, 0.008609488606452942, -0.006146236788481474, 0.037563733756542206, 0.01273415982723236, 0.041858285665512085, -0.0502571240067482, 0.02786022238433361, 0.03443795442581177, 0.035443637520074844, 0.00923464447259903, -0.02216586470603943, 0.017545145004987717, 0.01764027774333954, 0.0014872942119836807, 0.01376023143529892, 0.005235683172941208, 0.02393260970711708, 0.004902719520032406, -0.05778617784380913, -0.01244876254349947, -0.005850646644830704, 0.010566499084234238, 0.0016053604194894433, 0.027112752199172974, -0.0198826864361763, 0.03131217136979103, -0.0056909602135419846, 0.0490339919924736, -0.015194013714790344, -0.03821606934070587, 0.0039004310965538025, 0.005412357859313488, -0.011368329636752605, -0.004756623413413763, -0.0065913209691643715, 0.014935797080397606, 0.06778867542743683, -0.029083354398608208, 0.01297878660261631, -0.03465539962053299, 0.005792887881398201, -0.005507490132004023, -0.024612128734588623, -0.027071982622146606, 0.04009154066443443, 0.007624187506735325, 0.08279242366552353, -0.03392152115702629, -0.0035402867943048477, 0.013386497274041176, 0.038161709904670715, -0.05267620459198952, 0.02083401009440422, 0.05061047151684761, -0.04348912835121155, -0.0035334916319698095, -0.002891347510740161, -0.027112752199172974, -0.03046957030892372, -0.01048495713621378, 0.04068951681256294, 0.0012095413403585553, 0.015221194364130497, -0.021771743893623352, 0.015560953877866268, -0.022179454565048218, 0.00556864682585001, -0.012129389680922031, -0.010981004685163498, 0.039846912026405334, 0.020575793460011482, -0.024245189502835274, 0.028376655653119087, -0.010349052958190441, -0.008181392215192318, 0.014867845922708511, 0.027071982622146606, -0.004756623413413763, -0.0547691211104393, 0.005595827475190163, 0.04631591960787773, 0.003557274816557765, 0.01856442168354988, 0.022818202152848244, 0.04134185239672661, 0.044358909130096436, -0.017803361639380455, -0.0015093785477802157, -0.004943490494042635, 0.025305235758423805, -0.010648041032254696, 0.026759404689073563, -0.012197340838611126, -0.007868814282119274, -0.001393860555253923, 0.006516573950648308, 0.03462821617722511, -0.0031818412244319916, -0.0010617462685331702, 0.010940233245491982, 0.018754687160253525, 0.010525727644562721, -0.02631092257797718, -0.019080854952335358, 0.005891417618840933, -0.0006633790908381343, 0.0010099330684170127, -0.0019485168159008026, 0.020181672647595406, -0.005347803700715303, 0.0005499845719896257, -0.0337856151163578, 0.017952855676412582, -0.029110534116625786, 0.03740064799785614, -0.002213528612628579, -0.012394401244819164, 0.006390863098204136, -0.004213009029626846, -0.002565179020166397, 0.03405742347240448, 0.019271120429039, 0.0036558047868311405, -0.023986972868442535, -0.024258779361844063, 0.020861191675066948, -0.02715352363884449, 0.03253530338406563, -0.021948419511318207, -0.01773541048169136, -0.03908585384488106, -0.008772572502493858, -0.032073233276605606, -0.0357426255941391, -0.00857551209628582, 0.0021591673139482737, -9.608803520677611e-05, 0.0123196542263031, 0.00941131915897131, -0.012156570330262184, 0.016267651692032814, 0.0029457088094204664, -0.020575793460011482, 0.0005470116739161313, -0.013970882631838322, -0.022464852780103683, -0.029219256713986397, -0.033187638968229294, 0.0034366603940725327, 0.002836985979229212, -0.01629483327269554, 0.009859800338745117, -0.014392183162271976, 0.0740402415394783, -0.014840664342045784, -0.012136184610426426, 0.017477193847298622, 0.026025524362921715, 0.027887403964996338, 0.035416457802057266, 0.029028993099927902, 0.016362784430384636, 0.02071169763803482, 0.022573575377464294, -0.030931642279028893, 0.0010362643515691161, 0.003981973044574261, -0.04028180614113808, -0.01107613742351532, -0.0035742626059800386, -0.00011955263471463695, -0.019610878080129623, 0.009669535793364048, -0.01363112311810255, -0.002257697284221649, 0.010185969062149525, 0.001356487045995891, -0.02796894498169422, -0.03718320280313492, 0.001720878412015736, -0.01376023143529892, 0.025577042251825333, -0.001466059242375195, -0.019135216251015663, 0.028186390176415443, -0.002942311344668269, -0.007060187868773937, -0.008738596923649311, -0.031855784356594086, 0.017110252752900124, 0.03498156741261482, 0.0008910174947232008, 0.02466649003326893, -0.004104286432266235, 0.013902930542826653, 0.023185141384601593, 0.02381029725074768, 0.0029525039717555046, -0.02143198624253273, -0.02264152653515339, -0.009628764353692532, 0.0011976497480645776, 0.007223272230476141, -0.001962107140570879, -0.03962946683168411, 0.0008349572890438139, 0.01573762856423855, 0.03582416847348213, 0.020997093990445137, -0.00041365635115653276, -0.018795456737279892, 0.03267120569944382, -0.00839883740991354, -0.004304744303226471, -0.045663584023714066, -0.0048483582213521, 0.020562203601002693, -0.01243517268449068, 0.011599365621805191, -0.009424909017980099, -0.028621282428503036, -0.00595257431268692, 0.020086539909243584, 0.0056875622831285, 0.009683125652372837, -0.030523931607604027, -0.04607129469513893, -0.02356567047536373, 0.009554017335176468, -0.01918957754969597, -0.01267300359904766, 0.027778679504990578, -0.004868743941187859, -0.030306486412882805, 0.0020708299707621336, -0.027058390900492668, -0.01286326814442873, -0.01740924082696438, 0.006893706042319536, 0.022057142108678818, 0.025305235758423805, 0.08665208518505096, -0.008256139233708382, 0.0017922277329489589, -0.022845381870865822, 0.0027197692543268204, -0.01346124429255724, -0.022220226004719734, -0.010233535431325436, -0.011239221319556236, -0.005052213557064533, 0.011708088219165802, 0.0072572482749819756, 0.024272369220852852, 0.00043043194455094635, 0.012605051510035992, 0.020439889281988144, -0.05145307257771492, 0.008120235987007618, -0.003035744884982705, -0.027343789115548134, 0.003353419480845332, -0.022111503407359123, -0.0070330072194337845, -0.0020113722421228886, 0.00822216272354126, 0.0009266921551898122, 0.02764277718961239, -0.0004896773607470095, -0.017531555145978928, 0.002818299224600196, -0.021105816587805748, -0.027778679504990578, 0.02310359850525856, 0.005572044290602207, 0.0010320174042135477, 0.03258966654539108, -0.021758154034614563, -0.023633623495697975, 0.03307891637086868, -0.045418959110975266, 0.014840664342045784, 0.018673144280910492, -0.005194912198930979, 0.011660522781312466, 0.0023120585829019547, 0.010321872308850288, 0.01470476109534502, -0.007963946089148521, 0.02296769618988037, -0.043054237961769104, 0.025196513161063194, 0.031230630353093147, -0.010423799976706505, -0.022763840854167938, -0.012278883717954159, -0.029083354398608208, 0.018170300871133804, 0.03286147117614746, -0.013400087133049965, 0.02391901984810829, -0.009832619689404964, 0.015329917892813683, -0.012700184248387814, -0.005001249723136425, 0.039575107395648956, -0.024326730519533157, -0.006798573769629002, -0.03324200212955475, 0.016050206497311592, 0.002013070974498987, 0.023307453840970993, -0.005735128652304411, -0.05071919411420822, 0.026052705943584442, 0.00945888552814722, 0.01328456960618496, 0.016852036118507385, 0.005945779383182526, -0.02454417571425438, 0.05112690478563309, 0.008657054044306278, -0.021744564175605774, -0.00822216272354126, 0.03014340065419674, -0.013712665997445583, -0.030931642279028893, -0.002118396107107401, 0.036150336265563965, -0.00888129509985447, 0.03131217136979103, 0.04694107547402382, -0.035199012607336044, -0.002935516182333231, 0.044141463935375214, 0.010926643386483192, 0.013719460926949978, 0.001177264261059463, 0.03359534963965416, 0.02738456055521965, 0.007651368621736765, 0.025549862533807755, 0.0024343719705939293, -0.03949356451630592, 0.028431016951799393, -0.0036965757608413696, 0.023198731243610382, -0.0002310359850525856, -0.02954542636871338, 0.012251703068614006, -0.009085150435566902, -0.04514715075492859, 0.01440577395260334, 0.04468507692217827, 0.012136184610426426, 0.004219804424792528, -0.0345194935798645, -0.02500624768435955, -0.0021404805593192577, -0.049849413335323334, -0.024340320378541946, 0.002028360031545162, -0.03729192540049553, -0.02476162277162075, 0.0074135372415184975, 0.020548611879348755, 0.0008370807627215981, 0.01905367337167263, 0.028621282428503036, -0.01871391572058201, 0.013298159465193748, 0.048300113528966904, 0.016865627840161324, 0.029246438294649124, 0.029110534116625786, 0.05438859015703201, -0.014922207221388817, -0.0500124953687191, -0.044820982962846756, -0.0018092156387865543, 0.00476002087816596, 0.01583276130259037, 0.0035436844918876886, 0.011021776124835014, -0.022437671199440956, 0.015098881907761097, -0.005412357859313488, -0.016593819484114647, 0.008113440126180649, 0.007467898540198803, -0.009424909017980099, -0.011388715356588364, 0.0077465008944272995, 0.0046445028856396675, -0.0352533757686615, 0.00012634780432563275, 0.0630592331290245, 0.022573575377464294, 0.021635841578245163, -0.012523509562015533, -0.014813483692705631, -0.014691171236336231, 0.02310359850525856, -0.0357426255941391, -0.016756905242800713, 0.008127030916512012, -0.006115658674389124, 0.02224740758538246, -0.006992236245423555, 0.013692280277609825, 0.04063515365123749, 0.006883513648062944, 0.03169270232319832, 0.002432673005387187, 0.03345944732427597, 0.008623078465461731, -0.01940702274441719, 0.002894744975492358, 0.02287256345152855, 0.016226880252361298, -0.02489752508699894, -0.030442388728260994, -0.014663990586996078, 0.0005529574700631201, -0.01857801154255867, 0.01356996688991785, 0.024394681677222252, -0.012251703068614006, -0.02559063397347927, 0.036231879144907, -0.017477193847298622, 0.01882263831794262, -0.009853005409240723, 0.0023902032990008593, 0.006886911112815142, 0.011483848094940186, 0.013549581170082092, 0.0026569138281047344, 0.018741095438599586, -0.010566499084234238, 0.04498406499624252, -0.024693669751286507, 0.030197763815522194, 0.036992937326431274, 0.016974350437521935, 0.008792958222329617, -0.028757184743881226, -0.019461384043097496, 0.011810015887022018, 0.008025103248655796, 0.003927611745893955, -0.0017820349894464016, 0.02466649003326893, 0.0068665253929793835, 0.029491065070033073, 0.01918957754969597, -0.004175635986030102, -0.029572606086730957, 0.015452230349183083, -0.01243517268449068, -0.0045357802882790565, 0.011103318072855473, -0.02060297504067421, 0.011545004323124886, -0.02606629580259323, -0.026406055316329002, 0.015669675543904305, 0.012965195812284946, 0.015642495825886726, 0.01966523937880993, 0.0103694386780262, 0.016362784430384636, -0.011279992759227753, 0.012795316986739635, -0.029001811519265175, 0.0259847529232502, -0.005490502342581749, -0.03095882199704647, 0.010641246102750301, 0.004634310025721788, -0.034356411546468735, -0.002758841495960951, 0.00043276778887957335, -0.046152837574481964, -0.002791118575260043, -0.03180142492055893, -0.03644932433962822, 0.014827074483036995, 0.006074887700378895, -0.009132716804742813, 0.029028993099927902, 0.006414646282792091, 0.024095695465803146, 0.005898213014006615, -0.03310609981417656, -0.019502155482769012, -0.006373875308781862, 0.03085009939968586, -0.011986690573394299, -0.023755935952067375, -0.04810984805226326, -0.05194232612848282, -0.023185141384601593, 0.0007419483154080808, -0.019216759130358696, 0.026406055316329002, 0.01185758225619793, -0.0032531905453652143, 3.6165731671644608e-06, 0.011952714994549751, 0.006207393482327461, -0.0005457375664263964, 0.009268620051443577, 0.010518932715058327, -0.023524900898337364, 0.011762450449168682, -0.020616564899683, -0.043652210384607315, 0.0022373117972165346, 0.0036286241374909878, -0.013053533621132374, -0.0055448636412620544, 0.04109722375869751, 0.004403274040669203, -0.030523931607604027, 0.025930391624569893, 0.015194013714790344, -0.0442773662507534, 0.029491065070033073, -0.033187638968229294, 0.017721818760037422, -0.007848428562283516, 0.002376612974330783, -0.031366534531116486, -0.018061578273773193, 0.016702543944120407, 0.02404133416712284, 0.019379843026399612, 0.002624636748805642, -0.01369907520711422, 0.0027639379259198904, 0.007637777831405401, -0.02132326364517212, -0.04859910160303116, 0.0030646244995296, -0.018754687160253525, 0.006536959670484066, -0.00028943203506059945, -0.005069201346486807, -0.01871391572058201, -0.010491752065718174, 0.01844210736453533, -0.005177924409508705, 0.02643323503434658, -0.007590211927890778, 0.03177424520254135, -0.0113139683380723, -0.006547152064740658, 0.009350161999464035, -0.013434063643217087, 0.015194013714790344, 0.022315358743071556, -0.015642495825886726, 0.012571075931191444, 0.03432923182845116, -0.019434204325079918, 0.007331995293498039, -0.0245169959962368, 0.006492790766060352, 0.03188296779990196, -0.0044474429450929165, -0.012856473214924335, 0.017694639042019844, 0.013515605591237545, -0.011116907931864262, 0.013386497274041176, 0.00010824503260664642, -0.018645962700247765, 0.007474693935364485, -0.01523478515446186, 0.0076581635512411594, 0.03000749833881855, 0.010559704154729843, -0.024326730519533157, -0.006115658674389124, -0.015438640490174294, 0.06528805196285248, 0.049115534871816635, -0.006907296366989613, -0.008555126376450062, 0.006941272411495447, -0.009751077741384506, 0.02236972004175186, -0.004100888967514038, 0.0042028166353702545, 0.025699356570839882, 0.04264652729034424, 0.02465289831161499, -0.00161640252918005, 0.015791989862918854, 0.00023039894585963339, -0.022777430713176727, 0.0016401855973526835, 0.014990158379077911, 0.02703121118247509, 0.0148814357817173, 0.016036616638302803, 0.010675221681594849, -0.004284358583390713, -0.0033262388315051794, 0.013094304129481316, -0.019108034670352936, 0.02321232110261917, 0.005307032726705074, -0.010342258028686047, 0.011300377547740936, -0.028267933055758476, -0.0352533757686615, -0.012075028382241726, -0.0039887684397399426, -0.003217516001313925, 0.03894995152950287, -0.018047988414764404, -0.00025205855490639806, -0.023484129458665848, 0.010641246102750301, -0.009030789136886597, 0.011259607039391994, 0.008901680819690228, -0.008432813920080662]}),\n",
       " Document(page_content='3A70EDD4-6C8C-44AA-A13D-49D0F6058699', metadata={'categoryId': 'AE48F0AA-4F65-4734-A4CF-D48B8F82267F', 'categoryName': 'Bikes, Road Bikes', 'sku': 'BK-R64Y-40', 'name': 'Road-550-W Yellow, 40', 'description': 'The product called \"Road-550-W Yellow, 40\"', 'price': 1120.49, 'tags': [{'_id': '2CE9DADE-DCAC-436C-9D69-B7C886A01B77', 'name': 'Tag-101'}, {'_id': 'CA7D17BB-45A6-47E6-A3E3-E70AF34C2072', 'name': 'Tag-158'}], 'contentVector': [0.01994182914495468, -0.027951030060648918, -0.07706150412559509, -0.009422987699508667, -0.004332680255174637, 0.004298857878893614, -0.009105054661631584, 0.009206523187458515, -0.009943856857717037, -0.03244267776608467, 0.025353452190756798, -0.04902930185198784, -0.029763923957943916, -0.03393087536096573, 0.029763923957943916, 0.05676792189478874, -0.004775756970047951, -0.009578571654856205, -0.03517554700374603, 0.06672530621290207, 0.057038500905036926, -0.009585336782038212, 0.05958196520805359, 0.022945279255509377, -0.00035746305366046727, 0.009355342946946621, -0.01201380230486393, -0.01313671376556158, 0.05490091070532799, -0.05049043893814087, -0.019847126677632332, -0.013190830126404762, 0.02513698674738407, -0.019495369866490364, -0.022931750863790512, -0.02506934106349945, 0.008868296630680561, -0.004227830097079277, 0.05417034402489662, 0.04394237697124481, -0.0067543815821409225, -0.020144764333963394, 0.038233112543821335, 0.03016979619860649, -0.0006210682331584394, 0.037069614976644516, -0.0004122134414501488, 0.0023608203046023846, -0.014963136054575443, 0.04088480770587921, 0.08333899080753326, 0.008049788884818554, -0.007630387786775827, 0.02558344602584839, -0.005932491272687912, 0.018886562436819077, 0.00863830279558897, 0.027978088706731796, 0.023567616939544678, 0.029006296768784523, -0.011046474799513817, -0.05441386625170708, -0.008388015441596508, -0.004072246141731739, -0.00474869878962636, -0.04139891266822815, -0.06753704696893692, 0.019657719880342484, -0.012669960968196392, 0.010370021685957909, 0.028681600466370583, 0.012067918665707111, 0.002795441308990121, -0.04296828433871269, 0.015396066009998322, 0.04413178190588951, -0.007785972207784653, 0.004860313609242439, 0.03750254586338997, -0.046025849878787994, -0.026746945455670357, 0.01588311232626438, -0.0048028151504695415, -0.034661442041397095, -0.00029467977583408356, -0.06932288408279419, -0.050869252532720566, -0.05425151810050011, -0.02156531624495983, -0.0033552059903740883, -0.04158832132816315, -0.024893464520573616, 0.007068932056427002, -0.011919098906219006, 0.00622674822807312, 0.028465135022997856, -0.016843674704432487, 0.04123656451702118, -0.013488469645380974, -0.020902391523122787, 0.03171210736036301, -0.019657719880342484, 0.027680449187755585, 0.015558415092527866, 0.017885413020849228, 0.0168572049587965, 0.01977948099374771, -0.008354192599654198, 0.004136508796364069, 0.02124061807990074, -0.0880471020936966, 0.0034938787575811148, 0.012757900170981884, 0.04166949540376663, 0.01844010315835476, 0.028356902301311493, -0.029601575806736946, 0.03522966429591179, 0.015896640717983246, -0.04580938443541527, -0.01707366853952408, 0.010802951641380787, 0.02386525645852089, -0.052005693316459656, -0.007055402733385563, 0.08074140548706055, 0.008448895998299122, -0.06039370968937874, -0.01642427407205105, -0.04724346473813057, -0.008036259561777115, -0.02464994043111801, 0.01697896607220173, -0.0006811034400016069, -0.021930601447820663, -0.001956639811396599, -0.021700605750083923, -0.005651763174682856, -0.012284383177757263, -0.010275318287312984, 0.0037001969758421183, -0.022322943434119225, 0.03458026796579361, -0.01825069636106491, -0.010958535596728325, 3.768053647945635e-05, -0.0218223687261343, 0.027978088706731796, -0.002228911966085434, 0.027031054720282555, 0.016086047515273094, 0.003980924841016531, -0.011459111236035824, 0.006504093762487173, 0.019657719880342484, -0.02824866957962513, 0.05457621440291405, 0.020929450169205666, -0.022350002080202103, -0.016099577769637108, 0.020090648904442787, -0.025353452190756798, -0.025380510836839676, 0.018886562436819077, -0.030900364741683006, 0.03923426568508148, -0.018548335880041122, -0.02140296809375286, -0.027951030060648918, -0.04334709793329239, 0.00346174743026495, 0.00012239567877259105, -0.015084898099303246, 0.023716436699032784, 0.00842860247939825, 0.024501120671629906, 0.009713863022625446, -0.017966587096452713, 0.007095990236848593, 0.04902930185198784, 0.004792668391019106, -0.0059392559342086315, -0.03274031728506088, -0.0024403035640716553, -0.04296828433871269, -0.02140296809375286, 0.03468850255012512, -0.005560442339628935, -0.010140027850866318, -0.03325442224740982, -0.04378002509474754, -0.012101740576326847, -0.017655419185757637, 0.00901035126298666, 0.025840498507022858, -0.018656568601727486, 0.01037678588181734, 0.010491783730685711, 0.0008861531969159842, 0.04997633397579193, -0.00904417410492897, 0.003886221442371607, 0.07765678316354752, 0.0023878784850239754, -0.08268959075212479, -0.02938511036336422, -0.04967869445681572, 0.0007280323770828545, 0.014232567511498928, 0.0014044851996004581, 0.02542109787464142, 0.0030541846062988043, -0.007779207546263933, 0.05162687972187996, -0.005330448038876057, -0.02653048001229763, -0.03798959031701088, 0.013975515030324459, 0.007961849682033062, -0.019995946437120438, -0.07246162742376328, -0.017290133982896805, 0.07906380295753479, 0.006578503642231226, -0.04069540277123451, 0.03149564191699028, 0.026314014568924904, 0.0005817494238726795, -0.006077928468585014, -0.04702699929475784, 0.050219856202602386, 0.027815740555524826, -0.004417236894369125, -0.02061828225851059, -0.019522428512573242, 0.03033214434981346, 0.03620375692844391, 0.014638438820838928, 0.019928300753235817, -0.047784626483917236, -0.03230738639831543, -0.03195563331246376, 0.028952181339263916, 0.015057839453220367, 0.03244267776608467, -0.008773593232035637, -0.029926272109150887, -0.04640466347336769, 0.028843948617577553, 0.0235405582934618, 0.01743895374238491, 0.04256241023540497, 0.004691200330853462, -0.0064635067246854305, 0.024014076218008995, 0.003040655516088009, -0.05149158835411072, 0.00041200206032954156, 0.019860655069351196, -0.06272070854902267, 0.008171549998223782, -0.014584322459995747, -0.005455592181533575, 0.003764459863305092, -0.03701549768447876, -0.017817767336964607, 0.025935200974345207, 0.01646486110985279, -0.007116283755749464, -0.022877635434269905, -0.02776162326335907, -0.004079010337591171, 0.01156057883054018, -0.0024132453836500645, -0.006652913521975279, 0.005181628745049238, -0.02676047384738922, 0.04740581288933754, 0.0013672802597284317, -0.009795037098228931, 0.014665497466921806, 0.03844957798719406, -0.01994182914495468, 0.009328284300863743, 0.006703647319227457, -0.014990194700658321, 0.05774201452732086, 0.009801801294088364, -0.008624773472547531, 0.009517691098153591, 0.01266319677233696, 0.004170331638306379, 0.021795310080051422, -0.041615378111600876, -0.011229116469621658, 0.012324970215559006, 0.03136035427451134, 0.0029222762677818537, 0.016086047515273094, -0.03785429894924164, 0.06867349147796631, 0.0017621596343815327, 0.0243523009121418, -0.004413854796439409, -0.01980653963983059, 0.015247246250510216, 0.014300212264060974, -0.014706084504723549, 0.02425759844481945, -0.003434689249843359, 0.0075559779070317745, 0.058661989867687225, -0.01128323283046484, -0.07365218549966812, 0.014435503631830215, -0.05046338215470314, 0.016099577769637108, -0.001679294160567224, 0.046972885727882385, 0.002770074410364032, 0.04234594851732254, -0.012365557253360748, 0.01892714947462082, -0.002222147537395358, -0.02490699291229248, -0.025015225633978844, 0.008651831187307835, -0.0054792677983641624, 0.01873774267733097, 0.00881418026983738, -0.009165936149656773, -0.03422851115465164, -0.0176689475774765, -0.005347359459847212, 0.07581683248281479, -0.016180751845240593, 0.023662319406867027, -0.006240277085453272, -0.024541707709431648, 0.03376852348446846, 0.019427726045250893, -0.039531901478767395, -0.01873774267733097, -0.005905433092266321, -6.362884596455842e-05, 0.005418387241661549, 0.00907799694687128, -0.008827709592878819, -0.02474464476108551, -0.03844957798719406, 0.013028481043875217, 0.007197457831352949, -0.007407158613204956, -0.011323819868266582, -0.01821010932326317, -0.04626937210559845, 0.01827775500714779, 0.012169386260211468, -0.04965163767337799, 0.02636813186109066, 0.043103575706481934, 0.01906244084239006, 0.05127512291073799, -0.010850302875041962, 0.003967395983636379, 0.020929450169205666, -0.03363323584198952, -0.002176486887037754, -0.03850369527935982, -0.010985594242811203, 0.019887713715434074, 0.01128323283046484, -0.03444497659802437, -0.022120008245110512, -0.03847663849592209, -0.02701752632856369, 0.004082392901182175, 0.022837046533823013, 0.00954474974423647, 0.023987017571926117, 0.0467023029923439, -0.0048332554288208485, -0.021321792155504227, -0.0008557128021493554, 0.0600690096616745, -0.026084020733833313, -0.03114388883113861, 0.06883583962917328, -0.06147603318095207, -0.02694988064467907, -0.048136383295059204, -0.04532233998179436, -0.02919570356607437, -0.05360212177038193, 0.02938511036336422, 0.008279782719910145, 0.06104310229420662, -0.014868432655930519, -0.00474869878962636, 0.013759050518274307, -0.052032750099897385, -0.03374146670103073, 0.003531083697453141, 0.0483257882297039, 0.051356296986341476, 0.04740581288933754, 0.0017942910781130195, 0.01222350262105465, -0.0649394690990448, -0.025826968252658844, 0.036934323608875275, -0.052844494581222534, 0.02226882614195347, 0.04494352638721466, -0.005712644197046757, -0.05046338215470314, -0.008056553080677986, 0.00399445416405797, -0.028979238122701645, 0.040803633630275726, 0.0026804443914443254, -0.01977948099374771, -0.018358929082751274, 0.0013258475810289383, -0.022431176155805588, 0.0324697345495224, 0.04272476211190224, -0.012094976380467415, -0.019793009385466576, -0.03769195079803467, 0.02379761077463627, -0.008103905245661736, 0.06163838133215904, -0.02328350581228733, 0.04773051291704178, -0.0145166777074337, -0.013177300803363323, 0.003059257986024022, -0.0044679706916213036, -0.03558141738176346, -0.0025620651431381702, -0.018873034045100212, -0.030223911628127098, 0.004731787368655205, -0.04353650286793709, -0.006389096844941378, 0.05097748339176178, 0.022444704547524452, -0.008124198764562607, -0.05465738847851753, -0.03165799379348755, 0.04123656451702118, -0.1006561815738678, 0.009037409909069538, -0.034634385257959366, 0.04396943375468254, -0.03912603110074997, -0.016180751845240593, -0.0043901787139475346, 0.016437804326415062, 0.026976939290761948, 0.0580667108297348, 0.013610230758786201, 0.02474464476108551, 0.04142596945166588, -0.008827709592878819, -0.010674425400793552, 0.011567343026399612, 0.031198004260659218, -0.06358656287193298, 0.029953330755233765, -0.00840830896049738, -0.003832105314359069, -0.01620781049132347, 0.0013089361600577831, 0.015193130820989609, -0.020726514980196953, -0.04394237697124481, -0.016478391364216805, 0.00033886058372445405, -0.009876211173832417, -0.02623284049332142, 0.013265240006148815, -0.009233580902218819, -0.038233112543821335, 0.07359806448221207, -0.011384701356291771, 0.012839074246585369, -0.04204830899834633, 0.015856053680181503, -0.021484142169356346, 0.014408444985747337, 0.017249546945095062, -0.016058990731835365, -0.04123656451702118, 0.012927013449370861, -0.004210918676108122, -0.0584455244243145, 0.008733006194233894, -0.05552324652671814, -0.02532639354467392, -0.009402694180607796, 0.02539403922855854, 0.02360820397734642, 0.03766489401459694, -0.02247176319360733, 0.027842799201607704, -0.008705947548151016, 0.00859095063060522, 0.006693500559777021, -0.004816344007849693, 0.005239127203822136, -0.01672191359102726, -0.01815599389374256, -0.04532233998179436, -0.01964418962597847, -0.029303936287760735, 0.05628087371587753, -0.025150515139102936, -0.0065412987023591995, -0.05027397349476814, -0.015463711693882942, 0.004454441834241152, -0.019373608753085136, -0.009132113307714462, 0.0069539351388812065, 0.03812488168478012, -0.06564298272132874, -0.012575257569551468, -0.0276939794421196, 0.02071298472583294, -0.011797336861491203, 0.013075833208858967, 0.013474940322339535, -0.041777726262807846, -0.02133532240986824, 0.0003096885629929602, 0.01961713284254074, 0.014787258580327034, 0.005624705459922552, -0.01987418346107006, 0.023297036066651344, 0.03130623698234558, -0.023134686052799225, -0.03033214434981346, 0.007813029922544956, -0.008631537668406963, 0.010559428483247757, 0.03117094561457634, 0.03539201244711876, 0.04386120289564133, 0.0019701689016073942, 0.003463438479229808, -0.052195098251104355, -0.0049550170078873634, -0.0044781179167330265, 0.008807416073977947, -0.01672191359102726, 0.0010197525843977928, -0.004806197248399258, -0.011175001040101051, -0.005015897564589977, 0.03490496426820755, 0.01922478899359703, 0.004349591676145792, 0.0409659817814827, -0.0001211273338412866, 0.02808632142841816, -0.04935399815440178, -0.032388560473918915, -0.011384701356291771, 0.013414059765636921, -0.029953330755233765, 0.010207673534750938, 0.012669960968196392, 0.05341271683573723, -0.029249820858240128, 0.021200031042099, 0.025434626266360283, -0.009280933067202568, -0.01246702577918768, 0.017898941412568092, 0.012162622064352036, 0.02789691463112831, -0.062233660370111465, 0.0013376855058595538, 0.055279724299907684, -0.038368403911590576, -0.010857068002223969, 0.0014264698838815093, 0.04037070274353027, -0.04621525853872299, 0.00948386825621128, 0.001559223746880889, 0.015801938250660896, -0.013305827043950558, 0.018494220450520515, 0.015626059845089912, -0.017614832147955894, -0.013644053600728512, 0.021632961928844452, -0.01695190742611885, -0.011005887761712074, 0.015044311061501503, -0.025191104039549828, -0.016681326553225517, 0.0008464116253890097, -0.006659678183495998, 0.0014188598142936826, -0.015193130820989609, 0.008036259561777115, 0.041480086743831635, -0.008442130871117115, -0.021700605750083923, 0.002743016229942441, 0.04678347706794739, -0.0021781781688332558, -0.05725496634840965, -0.03133329376578331, -0.018521279096603394, 0.011168235912919044, -0.028302786871790886, 0.014733142219483852, -0.024636412039399147, -0.0076439171098172665, 0.03244267776608467, 0.020334171131253242, -0.03487790748476982, 0.0391530878841877, -0.0009292770409956574, 0.009896504692733288, -0.00017799164925236255, 0.02889806404709816, -0.04754110425710678, -0.023662319406867027, 0.016681326553225517, -0.010207673534750938, 0.00904417410492897, -0.029412169009447098, -0.033660292625427246, 0.002470743842422962, 0.056064411997795105, 0.029790982604026794, -0.027491042390465736, 0.011939392425119877, -0.03880133479833603, 0.02481229044497013, 0.0009842388099059463, -0.031414467841386795, 0.003072786843404174, 0.004288711119443178, -0.026314014568924904, -0.026990467682480812, -0.008469189517199993, -0.005208686925470829, 0.03755665943026543, -0.005330448038876057, 0.012920249253511429, -0.015693705528974533, 0.02432524412870407, -0.037394311279058456, 0.03550024330615997, 0.0013495234306901693, -0.0018484073225408792, -0.007440980989485979, 0.030954482033848763, 0.005141041241586208, 0.026219312101602554, 0.011519991792738438, 0.028654541820287704, 0.01181763131171465, 0.00015389302279800177, 0.014327270910143852, 0.011763514950871468, 0.0045423805713653564, 0.005113983526825905, 0.022552937269210815, 0.007068932056427002, -0.016924848780035973, 0.014232567511498928, 0.006622473243623972, 0.02126767672598362, -0.03761077672243118, -0.04280593618750572, -0.0005124130402691662, -0.018223639577627182, 0.019928300753235817, 0.024474063888192177, 0.005908815655857325, -0.002695664530619979, 0.02509639970958233, -0.006037341430783272, 0.007542449049651623, 0.022999396547675133, 0.02613813802599907, -0.0032807961106300354, 0.00925387442111969, 0.00657512154430151, -0.0001981795358005911, -0.02240411750972271, -0.010735305957496166, -0.008861532434821129, 0.003216533223167062, 0.007792736403644085, -0.016505448147654533, -0.011919098906219006, -0.00836095679551363, 0.05084219574928284, 0.024731114506721497, -0.023567616939544678, -0.006395861506462097, 0.002545153722167015, -0.03019685484468937, -0.005093689542263746, 0.013671111315488815, 0.021632961928844452, -0.04286004975438118, 0.0016480082413181663, 0.024041133001446724, -0.0007931409636512399, -0.04786580055952072, 0.017452482134103775, -0.04691876843571663, -0.0039741601794958115, -0.009855917654931545, 0.0047250231727957726, -0.009761214256286621, 0.012101740576326847, 0.004850166849792004, -0.049272824078798294, 0.0018247314728796482, 0.018818916752934456, 0.002797132357954979, 0.02078063040971756, -0.02906041406095028, 0.010140027850866318, -0.04399649053812027, -0.00839477963745594, -0.019847126677632332, 0.009490633383393288, -0.012230266816914082, -0.015260775573551655, -0.027842799201607704, -0.0034499093890190125, 0.012669960968196392, -0.022228239104151726, 0.03187445551156998, -0.003387337550520897, -0.02789691463112831, -0.016938379034399986, -0.006132044829428196, 0.011019416153430939, 0.014854904264211655, -0.044212955981492996, 0.005499561317265034, 0.00035112129990011454, 0.012304676696658134, -0.009578571654856205, -0.034336745738983154, 0.021227089688181877, 0.011060004122555256, 0.0069877575151622295, 0.02331056445837021, 0.0005221370374783874, 0.005716026294976473, 0.011195294559001923, -0.007488332688808441, -0.02205236256122589, -0.0290333554148674, 0.01152675598859787, -0.03414733707904816, -0.043428272008895874, 0.015044311061501503, -0.03179328143596649, 0.025759324431419373, 0.0008070927578955889, 0.0007128121796995401, 0.013021716848015785, -0.019035382196307182, 0.022295884788036346, -0.006443213205784559, 0.022133536636829376, -0.027355752885341644, -0.029763923957943916, 0.008130962960422039, -0.00867212563753128, 0.00922005157917738, -0.04483529180288315, 0.021605903282761574, -0.029276877641677856, 0.005360888782888651, -0.02938511036336422, -0.023242918774485588, -0.019563015550374985, -0.01614016480743885, 0.0029053648468106985, -0.009348577819764614, -0.0934046059846878, 0.0028326462488621473, 0.02253940887749195, -0.016113106161355972, 0.007860382087528706, -0.02574579417705536, 0.01799364574253559, 0.0026297103613615036, -0.012757900170981884, -0.027233989909291267, 0.005617940798401833, -0.004261652939021587, -0.022552937269210815, -0.015599002130329609, 0.004995604045689106, 6.797558398830006e-06, 0.01662721112370491, -0.024392887949943542, -0.01315024308860302, -0.010241495445370674, -0.013414059765636921, 0.02506934106349945, -0.0013698169495910406, 0.006291011348366737, -0.017195431515574455, 0.00767097482457757, -0.002058107638731599, -0.019955357536673546, 0.08236489444971085, -0.06320775300264359, 0.03793547302484512, 0.008171549998223782, -0.03263208270072937, 0.006456742063164711, -0.040478937327861786, 0.03363323584198952, -0.01021443773061037, -0.01669485494494438, 0.04962458088994026, -0.0017892176983878016, 0.00027713426970876753, -0.04459176957607269, 0.008902119472622871, 0.02968274988234043, 0.009118583984673023, -0.01318406593054533, -0.0056044114753603935, 0.010302376933395863, -0.017127785831689835, -0.0011457420187070966, 0.025285806506872177, 0.01734425127506256, 0.036122579127550125, -0.0035987289156764746, 0.04188595712184906, -0.007156870793551207, -0.010802951641380787, -0.04175066947937012, -0.0031455056741833687, -0.008415073156356812, -0.0052458918653428555, -0.010187379084527493, -0.015382537618279457, -0.01175674982368946, 0.020861804485321045, -0.010255024768412113, -0.020767102017998695, 0.03541906923055649, -0.0016505449311807752, 0.0025637561921030283, 0.017006024718284607, 0.015856053680181503, 0.013907870277762413, 0.020577695220708847, -0.032686199992895126, -0.0071230484172701836, -0.01386728323996067, -0.0007715789834037423, -0.01588311232626438, -0.01245349645614624, -0.001111919293180108, -0.00020420420332811773, -0.007474803831428289, 0.004894135985523462, 0.0016471626004204154, 0.029141588136553764, -0.0133464140817523, 0.005658527836203575, 0.011601165868341923, -0.004586350172758102, 0.01584252528846264, 0.010708248242735863, -0.0032249889336526394, 0.00798890832811594, -0.03520260378718376, 0.043915316462516785, -0.00440032547339797, -0.025799911469221115, 0.04166949540376663, -0.011952921748161316, 0.0033991753589361906, 0.044212955981492996, -0.0021139150485396385, -0.009889740496873856, -0.01604546047747135, -0.03761077672243118, 0.018264226615428925, 0.012365557253360748, 0.004998986609280109, 0.018467161804437637, -0.007657445967197418, 0.03701549768447876, 0.006439831107854843, 0.04139891266822815, -0.05779612809419632, 0.030305085703730583, 0.03425557166337967, 0.036447279155254364, 0.009889740496873856, -0.03136035427451134, 0.015206659212708473, 0.012331735342741013, 0.00015822653949726373, 0.008388015441596508, 0.00012704629625659436, 0.031062712892889977, 0.008435366675257683, -0.05925726890563965, -0.016126634553074837, -0.0044645885936915874, 0.008793886750936508, -0.007312455214560032, 0.02402760460972786, -0.01931949332356453, 0.033849697560071945, -0.00925387442111969, 0.04840696230530739, -0.009903269819915295, -0.030900364741683006, 0.003933573141694069, 0.002201854018494487, -0.008935941383242607, 0.0026314014103263617, -0.011831159703433514, 0.010288847610354424, 0.06721235066652298, -0.027125759050250053, 0.012365557253360748, -0.033173248171806335, 0.003312927670776844, -0.00316241686232388, -0.018845975399017334, -0.026828119531273842, 0.03393087536096573, 0.015382537618279457, 0.08885884284973145, -0.033714409917593, -0.0009833932854235172, 0.006774675101041794, 0.03993777558207512, -0.056226760149002075, 0.019021853804588318, 0.0487046018242836, -0.040668342262506485, -0.004437530413269997, -0.010410608723759651, -0.027951030060648918, -0.02838396094739437, -0.008049788884818554, 0.042616527527570724, -0.004004600923508406, 0.012588786892592907, -0.020280055701732635, 0.01727660559117794, -0.017777180299162865, 0.005672057159245014, -0.010931477881968021, -0.010397080332040787, 0.04118244722485542, 0.025150515139102936, -0.025150515139102936, 0.029574517160654068, -0.011946156620979309, -0.008658596314489841, 0.020929450169205666, 0.025475213304162025, -0.005168099422007799, -0.05860787257552147, 0.005120747722685337, 0.03541906923055649, 0.005716026294976473, 0.013880811631679535, 0.019075969234108925, 0.04548468813300133, 0.03880133479833603, -0.015111955814063549, -0.0024115543346852064, -0.004938105586916208, 0.02483934722840786, -0.014164921827614307, 0.020794160664081573, -0.01565311849117279, -0.003930191043764353, 0.008645066991448402, 0.002281337045133114, 0.03187445551156998, -0.005793818272650242, -0.001063722069375217, 0.01795305870473385, 0.02360820397734642, 0.00855712778866291, -0.021768251433968544, -0.01783129572868347, 0.0034668208099901676, -0.005530002061277628, -0.0031793282832950354, -0.0037915180437266827, 0.014719613827764988, 0.0012920248555019498, -0.002367584966123104, -0.03471555933356285, 0.012460260652005672, -0.02776162326335907, 0.0375296026468277, 0.0004179210227448493, -0.010383551008999348, 0.0008438748773187399, -0.009213287383317947, -0.007143341936171055, 0.033714409917593, 0.017425425350666046, 0.003265575971454382, -0.021862955763936043, -0.028789831325411797, 0.02393290027976036, -0.02071298472583294, 0.0276939794421196, -0.023229390382766724, -0.015923699364066124, -0.04223771393299103, -0.00688290735706687, -0.024825818836688995, -0.038720160722732544, -0.0063721854239702225, 0.00011098053801106289, 0.006162485107779503, 0.009822094812989235, 0.002519786823540926, -0.007738620508462191, 0.011161471717059612, 0.0011516609229147434, -0.017804238945245743, 0.004146656021475792, -0.012534670531749725, -0.019387137144804, -0.03292972221970558, -0.03490496426820755, 0.004640466533601284, 0.003635933855548501, -0.009916798211634159, 0.017709534615278244, -0.006838938221335411, 0.060934871435165405, -0.01707366853952408, -0.018358929082751274, 0.013373472727835178, 0.02493405155837536, 0.029628634452819824, 0.041317738592624664, 0.03328147903084755, 0.020023003220558167, 0.0227288156747818, 0.018724214285612106, -0.029899215325713158, 0.004572821315377951, 0.004095921758562326, -0.035608477890491486, -0.011012651957571507, -0.0010468107648193836, 0.00012007037730654702, -0.013921399600803852, 0.0036393161863088608, -0.006913348101079464, 0.0034938787575811148, 0.010478254407644272, 0.007217751815915108, -0.02808632142841816, -0.042941223829984665, 0.001557532581500709, -0.015139014460146427, 0.02295880950987339, -0.0048332554288208485, -0.01720895990729332, 0.024135837331414223, -0.006602179724723101, -0.002717649331316352, -0.007637152448296547, -0.025339921936392784, 0.015017252415418625, 0.03230738639831543, -5.168522329768166e-05, 0.024230539798736572, -0.004136508796364069, 0.013813166879117489, 0.02377055212855339, 0.017398366704583168, 0.0030744781251996756, -0.02477170154452324, -0.02052357792854309, -0.008293312042951584, 0.0011719545582309365, 0.005330448038876057, -0.005266185384243727, -0.03422851115465164, -0.005952784791588783, 0.014421974308788776, 0.034499093890190125, 0.024203481152653694, 0.002225529868155718, -0.01864304021000862, 0.03750254586338997, -0.009869446977972984, -0.007894204929471016, -0.04215653985738754, -0.005151188466697931, 0.024203481152653694, -0.013961986638605595, 0.014462561346590519, -0.0027277960907667875, -0.02773456647992134, -0.006040723528712988, 0.016031932085752487, 0.010938242077827454, 0.011716162785887718, -0.02919570356607437, -0.04069540277123451, -0.021903542801737785, 0.010870597325265408, -0.017709534615278244, -0.016180751845240593, 0.023459384217858315, -0.0065717389807105064, -0.02938511036336422, 0.0011330584529787302, -0.028952181339263916, -0.010742071084678173, -0.016830146312713623, 0.006406008265912533, 0.022877635434269905, 0.019765950739383698, 0.08718124032020569, -0.0061726318672299385, 0.002046269830316305, -0.019928300753235817, -0.004075628239661455, -0.02467699907720089, -0.022106477990746498, -0.009842388331890106, -0.014421974308788776, -0.006808497477322817, 0.011161471717059612, 0.006084693130105734, 0.03274031728506088, 3.04139539366588e-05, 0.017817767336964607, 0.022295884788036346, -0.05067984387278557, 0.010363257490098476, 0.00011489128519315273, -0.02694988064467907, 0.005076778586953878, -0.0202935840934515, -0.006040723528712988, -0.006855849176645279, 0.009585336782038212, -0.0030102150049060583, 0.03452615067362785, -0.0032216066028922796, -0.013664347119629383, 0.0012311441823840141, -0.02152472920715809, -0.032063864171504974, 0.030467435717582703, 0.004170331638306379, 0.0027819122187793255, 0.026814589276909828, -0.016451332718133926, -0.02653048001229763, 0.0308462493121624, -0.0488940104842186, 0.015950758010149002, 0.014976665377616882, -0.007366571109741926, 0.007217751815915108, 0.002761618699878454, 0.01444903202354908, 0.02302645333111286, -0.00863830279558897, 0.013143477961421013, -0.03647433593869209, 0.016924848780035973, 0.03617669641971588, -0.015991345047950745, -0.026895765215158463, -0.011580872349441051, -0.02870865724980831, 0.018331872299313545, 0.03136035427451134, -0.014191980473697186, 0.019603602588176727, -0.004173713736236095, 0.013414059765636921, -0.013772579841315746, -0.007752149365842342, 0.03679903224110603, -0.015436653047800064, -0.01066766120493412, -0.029628634452819824, 0.013109656050801277, 0.0001644625881453976, 0.02409525029361248, -0.007447745651006699, -0.05059866979718208, 0.020726514980196953, 0.017317192628979683, 0.007156870793551207, 0.01315024308860302, 0.004823108669370413, -0.03314618766307831, 0.05165393650531769, 0.012771429494023323, -0.012757900170981884, -0.008212137036025524, 0.030710957944393158, -0.01386728323996067, -0.03195563331246376, -0.004697964992374182, 0.037096671760082245, -0.007062167394906282, 0.033173248171806335, 0.04770345240831375, -0.03669080138206482, -0.0027396338991820812, 0.04610702395439148, 0.010545899160206318, 0.01241967361420393, -0.00012482669262681156, 0.03276737406849861, 0.03049449250102043, 0.006534534506499767, 0.030602725222706795, 0.0008586723124608397, -0.03812488168478012, 0.025339921936392784, -0.007373335771262646, 0.022255297750234604, -0.006551445461809635, -0.030792132019996643, 0.01133058499544859, -0.009767978452146053, -0.038882508873939514, 0.013251710683107376, 0.04334709793329239, 0.016735441982746124, 0.0015287833521142602, -0.037583719938993454, -0.0236352626234293, -0.00018179669859819114, -0.05132924020290375, -0.032713256776332855, -0.0004557600768748671, -0.03176622465252876, -0.027152815833687782, 0.008976529352366924, 0.020834747701883316, 0.0007474803715012968, 0.024271126836538315, 0.024541707709431648, -0.017479540780186653, 0.007853616960346699, 0.0472705252468586, 0.009801801294088364, 0.02720693312585354, 0.02838396094739437, 0.05027397349476814, -0.017060140147805214, -0.048434022814035416, -0.05132924020290375, 0.0026990468613803387, 0.006771293003112078, 0.016437804326415062, 0.0009301226236857474, 0.013265240006148815, -0.02548874169588089, 0.017357779666781425, -0.007562742568552494, -0.014895491302013397, 0.01880538836121559, 0.00832713395357132, -0.010755599476397038, -0.01083000935614109, 0.006104986649006605, -0.0013977206544950604, -0.028140436857938766, -0.0053575062192976475, 0.06228777766227722, 0.023743493482470512, 0.02201177552342415, -0.010072382166981697, -0.014435503631830215, -0.016708385199308395, 0.017777180299162865, -0.030413318425416946, -0.012554964050650597, 0.008279782719910145, -0.009118583984673023, 0.0168572049587965, -0.006869378499686718, 0.023662319406867027, 0.0342826284468174, 0.0020614899694919586, 0.027788681909441948, 0.007562742568552494, 0.032388560473918915, 0.01021443773061037, -0.01704661175608635, 0.009138877503573895, 0.019955357536673546, 0.013677876442670822, -0.021308263763785362, -0.031116830185055733, -0.0171413142234087, 0.008225666359066963, -0.013427588157355785, 0.016640739515423775, 0.027003996074199677, -0.014638438820838928, -0.028329843655228615, 0.02935805171728134, -0.014259625226259232, 0.02045593410730362, -0.005594264715909958, 0.0017976734088733792, 0.005144423805177212, 0.004072246141731739, 0.013258475810289383, 0.0061861611902713776, 0.016938379034399986, -0.01639721728861332, 0.04188595712184906, -0.027450455352663994, 0.03669080138206482, 0.03393087536096573, 0.018453633412718773, 0.01386728323996067, -0.03455321118235588, -0.020415347069501877, 0.015450182370841503, 0.008969764225184917, 0.0030863159336149693, -0.004122979938983917, 0.015193130820989609, 0.006243659649044275, 0.031252119690179825, 0.01707366853952408, -0.004471353255212307, -0.028979238122701645, 0.012094976380467415, -0.009862681850790977, -0.010999122634530067, 0.011506462469696999, -0.024541707709431648, 0.01469255518168211, -0.0236352626234293, -0.027288107201457024, 0.02542109787464142, 0.012927013449370861, 0.026679299771785736, 0.02717987447977066, 0.01614016480743885, 0.020631810650229454, -0.0053575062192976475, 0.014976665377616882, -0.030223911628127098, 0.02704458311200142, -0.0016522359801456332, -0.03679903224110603, 0.011384701356291771, -0.002122370759025216, -0.02822161093354225, -0.0011677267029881477, -0.003984306938946247, -0.04594467580318451, -0.007474803831428289, -0.03712373226881027, -0.025339921936392784, 0.014651968143880367, 0.008313605561852455, -0.01224379613995552, 0.03379558399319649, 0.0033213833812624216, 0.028005147352814674, 0.003977542743086815, -0.03828722983598709, -0.020510049536824226, 0.002293175086379051, 0.021308263763785362, -0.00932152010500431, -0.0244470052421093, -0.03977542743086815, -0.04686465114355087, -0.021213561296463013, -0.003167490242049098, -0.017100727185606956, 0.03276737406849861, 0.013400530442595482, -0.005012515466660261, 0.00429547531530261, 0.008969764225184917, 0.007143341936171055, -0.005442062858492136, -0.000680257857311517, 0.012575257569551468, -0.02006359025835991, 0.010836774483323097, -0.026976939290761948, -0.03847663849592209, -0.001982006710022688, 0.00037204904947429895, -0.011080297641456127, -0.012189679779112339, 0.036122579127550125, 0.0024183187633752823, -0.032063864171504974, 0.024528179317712784, 0.012237031944096088, -0.040587168186903, 0.025218160822987556, -0.03455321118235588, 0.016113106161355972, 0.0018906856421381235, -0.001533011207357049, -0.0339038148522377, -0.015531356446444988, 0.010904419235885143, 0.025854026898741722, 0.018954208120703697, 0.0025772852823138237, -0.013001423329114914, -0.003970778081566095, 0.003487114328891039, -0.016586624085903168, -0.047459930181503296, 0.00867212563753128, -0.0244470052421093, 0.01222350262105465, 0.0022339853458106518, -0.008144492283463478, -0.015125485137104988, -0.012189679779112339, 0.015558415092527866, -0.0008785431273281574, 0.03536495193839073, -0.009646217338740826, 0.031116830185055733, -0.002721031429246068, -0.009402694180607796, -0.002247514436021447, -0.008279782719910145, 0.008036259561777115, 0.020401816815137863, -0.014570794068276882, 0.019373608753085136, 0.030386261641979218, -0.02061828225851059, 0.012582022696733475, -0.024460533633828163, 0.014814317226409912, 0.037150789052248, -0.004085774999111891, -0.019820068031549454, 0.013427588157355785, 0.016776030883193016, -0.015801938250660896, 0.014597851783037186, -0.0032503558322787285, -0.0202935840934515, 0.004535616375505924, -0.019508900120854378, 0.013211123645305634, 0.03019685484468937, 0.005056485068053007, -0.027031054720282555, -0.008530070073902607, -0.009997973218560219, 0.06759116798639297, 0.052492737770080566, -0.0013647435698658228, -0.01271054893732071, 0.006920112296938896, -0.0054014758206903934, 0.031225062906742096, -0.006849084980785847, 0.0025891230907291174, 0.025042284280061722, 0.04231888800859451, 0.0235405582934618, 0.00160911213606596, 0.017655419185757637, 0.0009258948266506195, -0.018615981563925743, -0.0016776029951870441, 0.007725091185420752, 0.03455321118235588, 0.008469189517199993, 0.023202331736683846, 0.010694718919694424, -0.0049583991058170795, -0.003930191043764353, 0.01880538836121559, -0.014164921827614307, 0.02103768289089203, 0.004001218359917402, -0.007583036087453365, 0.008841237984597683, -0.028275728225708008, -0.035527303814888, -0.013285533525049686, -0.007684504147619009, -0.008063317276537418, 0.04012718051671982, -0.01402963139116764, -0.0018382605630904436, -0.021051211282610893, 0.012527906335890293, -0.01469255518168211, 0.010654131881892681, 0.0051579526625573635, -0.004231212195008993]})]"
      ]
     },
     "execution_count": 11,
     "metadata": {},
     "output_type": "execute_result"
    }
   ],
   "source": [
    "query = \"What yellow products are there?\"\n",
    "vector_store.similarity_search(query, k=3)"
   ]
  },
  {
   "cell_type": "code",
   "execution_count": 13,
   "id": "53f74a2c",
   "metadata": {},
   "outputs": [],
   "source": [
    "system_prompt = \"\"\"\n",
    "You are a helpful, fun and friendly sales assistant for Cosmic Works, a bicycle and bicycle accessories store. \n",
    "Your name is Cosmo.\n",
    "You are designed to answer questions about the products that Cosmic Works sells.\n",
    "\n",
    "Only answer questions related to the information provided in the list of products below that are represented\n",
    "in JSON format.\n",
    "\n",
    "If you are asked a question that is not in the list, respond with \"I don't know.\"\n",
    "\n",
    "Only answer questions related to Cosmic Works products, customers, and sales orders.\n",
    "\n",
    "If a question is not related to Cosmic Works products, customers, or sales orders,\n",
    "respond with \"I only answer questions about Cosmic Works\"\n",
    "\n",
    "List of products:\n",
    "{products}\n",
    "\n",
    "Question:\n",
    "{question}\n",
    "\"\"\""
   ]
  },
  {
   "cell_type": "code",
   "execution_count": 14,
   "id": "741be464",
   "metadata": {},
   "outputs": [],
   "source": [
    "def format_docs(docs:List[Document]) -> str:\n",
    "        \"\"\"\n",
    "        Prepares the product list for the system prompt.\n",
    "        \"\"\"\n",
    "        str_docs = []\n",
    "        for doc in docs:\n",
    "                # Build the product document without the contentVector\n",
    "                doc_dict = {\"_id\": doc.page_content}\n",
    "                doc_dict.update(doc.metadata)\n",
    "                if \"contentVector\" in doc_dict:  \n",
    "                        del doc_dict[\"contentVector\"]\n",
    "                str_docs.append(json.dumps(doc_dict, default=str))                  \n",
    "        # Return a single string containing each product JSON representation\n",
    "        # separated by two newlines\n",
    "        return \"\\n\\n\".join(str_docs)"
   ]
  },
  {
   "cell_type": "code",
   "execution_count": 15,
   "id": "b1679d7a",
   "metadata": {},
   "outputs": [],
   "source": [
    "# Create a retriever from the vector store\n",
    "retriever = vector_store.as_retriever()\n",
    "\n",
    "# Create the prompt template from the system_prompt text\n",
    "llm_prompt = PromptTemplate.from_template(system_prompt)\n",
    "\n",
    "rag_chain = (\n",
    "    # populate the tokens/placeholders in the llm_prompt \n",
    "    # products takes the results of the vector store and formats the documents\n",
    "    # question is a passthrough that takes the incoming question\n",
    "    { \"products\": retriever | format_docs, \"question\": RunnablePassthrough()}\n",
    "    | llm_prompt\n",
    "    # pass the populated prompt to the language model\n",
    "    | llm\n",
    "    # return the string ouptut from the language model\n",
    "    | StrOutputParser()\n",
    ")"
   ]
  },
  {
   "cell_type": "code",
   "execution_count": 16,
   "id": "fb15dc17",
   "metadata": {},
   "outputs": [
    {
     "name": "stdout",
     "output_type": "stream",
     "text": [
      "- Touring-3000 Yellow, 58 (SKU: BK-T18Y-58)\n",
      "- Touring-1000 Yellow, 50 (SKU: BK-T79Y-50)\n",
      "- Touring-1000 Yellow, 60 (SKU: BK-T79Y-60)\n",
      "- Road-550-W Yellow, 40 (SKU: BK-R64Y-40)\n"
     ]
    }
   ],
   "source": [
    "question = \"What are the names and skus of yellow products? Output the answer as a bulleted list.\"\n",
    "response = rag_chain.invoke(question)\n",
    "print(response)"
   ]
  },
  {
   "cell_type": "code",
   "execution_count": 17,
   "id": "42168d44",
   "metadata": {},
   "outputs": [
    {
     "name": "stderr",
     "output_type": "stream",
     "text": [
      "/Library/Frameworks/Python.framework/Versions/3.11/lib/python3.11/site-packages/langchain_community/vectorstores/azure_cosmos_db.py:145: UserWarning: You appear to be connected to a CosmosDB cluster. For more information regarding feature compatibility and support please visit https://www.mongodb.com/supportability/cosmosdb\n",
      "  client: MongoClient = MongoClient(connection_string, appname=appname)\n"
     ]
    }
   ],
   "source": [
    "def create_cosmic_works_vector_store_retriever(collection_name: str, top_k: int = 3):\n",
    "    vector_store =  AzureCosmosDBVectorSearch.from_connection_string(\n",
    "        connection_string = CONNECTION_STRING,\n",
    "        namespace = f\"cosmic_works.{collection_name}\",\n",
    "        embedding = embedding_model,\n",
    "        index_name = \"VectorSearchIndex\",    \n",
    "        embedding_key = \"contentVector\",\n",
    "        text_key = \"_id\"\n",
    "    )\n",
    "    return vector_store.as_retriever(search_kwargs={\"k\": top_k})\n",
    "\n",
    "\n",
    "products_retriever = create_cosmic_works_vector_store_retriever(\"products\")\n",
    "customers_retriever = create_cosmic_works_vector_store_retriever(\"customers\")\n",
    "sales_retriever = create_cosmic_works_vector_store_retriever(\"sales\")"
   ]
  },
  {
   "cell_type": "code",
   "execution_count": 18,
   "id": "2cc13c24",
   "metadata": {},
   "outputs": [],
   "source": [
    "# Create tools that will use vector search in vCore-based Azure Cosmos DB for MongoDB collections\n",
    "\n",
    "# create a chain on the retriever to format the documents as JSON\n",
    "products_retriever_chain = products_retriever | format_docs\n",
    "customers_retriever_chain = customers_retriever | format_docs\n",
    "sales_retriever_chain = sales_retriever | format_docs\n",
    "\n",
    "tools = [\n",
    "    Tool(\n",
    "        name = \"vector_search_products\", \n",
    "        func = products_retriever_chain.invoke,\n",
    "        description = \"Searches Cosmic Works product information for similar products based on the question. Returns the product information in JSON format.\"\n",
    "    ),\n",
    "    Tool(\n",
    "        name = \"vector_search_customers\", \n",
    "        func = customers_retriever_chain.invoke,\n",
    "        description = \"Searches Cosmic Works customer information and retrieves similar customers based on the question. Returns the customer information in JSON format.\"\n",
    "    ),\n",
    "    Tool(\n",
    "        name = \"vector_search_sales\", \n",
    "        func = sales_retriever_chain.invoke,\n",
    "        description = \"Searches Cosmic Works customer sales information and retrieves sales order details based on the question. Returns the sales order information in JSON format.\"\n",
    "    )\n",
    "]"
   ]
  },
  {
   "cell_type": "code",
   "execution_count": 19,
   "id": "cc7c6ebb",
   "metadata": {},
   "outputs": [
    {
     "name": "stderr",
     "output_type": "stream",
     "text": [
      "/var/folders/ct/b2rs611d1g96lldn5x1gj1wm0000gp/T/ipykernel_12581/47035323.py:1: UserWarning: You appear to be connected to a CosmosDB cluster. For more information regarding feature compatibility and support please visit https://www.mongodb.com/supportability/cosmosdb\n",
      "  db = pymongo.MongoClient(CONNECTION_STRING).cosmic_works\n"
     ]
    }
   ],
   "source": [
    "db = pymongo.MongoClient(CONNECTION_STRING).cosmic_works\n",
    "\n",
    "def get_product_by_id(product_id: str) -> str:\n",
    "    \"\"\"\n",
    "    Retrieves a product by its ID.    \n",
    "    \"\"\"\n",
    "    doc = db.products.find_one({\"_id\": product_id})    \n",
    "    if \"contentVector\" in doc:\n",
    "        del doc[\"contentVector\"]\n",
    "    return json.dumps(doc)\n",
    "\n",
    "def get_product_by_sku(sku: str) -> str:\n",
    "    \"\"\"\n",
    "    Retrieves a product by its sku.\n",
    "    \"\"\"\n",
    "    doc = db.products.find_one({\"sku\": sku})\n",
    "    if \"contentVector\" in doc:\n",
    "        del doc[\"contentVector\"]\n",
    "    return json.dumps(doc, default=str)\n",
    "\n",
    "def get_sales_by_id(sales_id: str) -> str:\n",
    "    \"\"\"\n",
    "    Retrieves a sales order by its ID.\n",
    "    \"\"\"\n",
    "    doc = db.sales.find_one({\"_id\": sales_id})\n",
    "    if \"contentVector\" in doc:\n",
    "        del doc[\"contentVector\"]\n",
    "    return json.dumps(doc, default=str)    \n",
    "\n",
    "from langchain.tools import StructuredTool\n",
    "\n",
    "tools.extend([\n",
    "    StructuredTool.from_function(get_product_by_id),\n",
    "    StructuredTool.from_function(get_product_by_sku),\n",
    "    StructuredTool.from_function(get_sales_by_id)\n",
    "])"
   ]
  },
  {
   "cell_type": "code",
   "execution_count": 20,
   "id": "be5f4167",
   "metadata": {},
   "outputs": [],
   "source": [
    "system_message = SystemMessage(\n",
    "    content = \"\"\"\n",
    "        You are a helpful, fun and friendly sales assistant for Cosmic Works, a bicycle and bicycle accessories store.\n",
    "\n",
    "        Your name is Cosmo.\n",
    "\n",
    "        You are designed to answer questions about the products that Cosmic Works sells, the customers that buy them, and the sales orders that are placed by customers.\n",
    "\n",
    "        If you don't know the answer to a question, respond with \"I don't know.\"\n",
    "        \n",
    "        Only answer questions related to Cosmic Works products, customers, and sales orders.\n",
    "        \n",
    "        If a question is not related to Cosmic Works products, customers, or sales orders,\n",
    "        respond with \"I only answer questions about Cosmic Works\"\n",
    "    \"\"\"    \n",
    ")\n",
    "agent_executor = create_conversational_retrieval_agent(llm, tools, system_message = system_message, verbose=True)"
   ]
  },
  {
   "cell_type": "code",
   "execution_count": 21,
   "id": "85bff1f8",
   "metadata": {},
   "outputs": [
    {
     "name": "stderr",
     "output_type": "stream",
     "text": [
      "/Library/Frameworks/Python.framework/Versions/3.11/lib/python3.11/site-packages/langchain_core/_api/deprecation.py:119: LangChainDeprecationWarning: The method `Chain.__call__` was deprecated in langchain 0.1.0 and will be removed in 0.3.0. Use invoke instead.\n",
      "  warn_deprecated(\n"
     ]
    },
    {
     "name": "stdout",
     "output_type": "stream",
     "text": [
      "\n",
      "\n",
      "\u001b[1m> Entering new AgentExecutor chain...\u001b[0m\n",
      "\u001b[32;1m\u001b[1;3m\n",
      "Invoking: `vector_search_products` with `yellow`\n",
      "\n",
      "\n",
      "\u001b[0m\u001b[36;1m\u001b[1;3m{\"_id\": \"26E8185C-782A-4B48-87FA-1E715E3825FB\", \"categoryId\": \"AE48F0AA-4F65-4734-A4CF-D48B8F82267F\", \"categoryName\": \"Bikes, Road Bikes\", \"sku\": \"BK-R64Y-48\", \"name\": \"Road-550-W Yellow, 48\", \"description\": \"The product called \\\"Road-550-W Yellow, 48\\\"\", \"price\": 1120.49, \"tags\": [{\"_id\": \"46AC3482-E9A6-474D-A435-D3399F21991F\", \"name\": \"Tag-90\"}, {\"_id\": \"9C89E562-1247-435D-B786-4E54024E681C\", \"name\": \"Tag-128\"}]}\n",
      "\n",
      "{\"_id\": \"91AA100C-D092-4190-92A7-7C02410F04EA\", \"categoryId\": \"F3FBB167-11D8-41E4-84B4-5AAA92B1E737\", \"categoryName\": \"Components, Touring Frames\", \"sku\": \"FR-T67Y-62\", \"name\": \"LL Touring Frame - Yellow, 62\", \"description\": \"The product called \\\"LL Touring Frame - Yellow, 62\\\"\", \"price\": 333.42, \"tags\": [{\"_id\": \"52FCE975-91EE-4789-9E36-94EC766F02A0\", \"name\": \"Tag-35\"}]}\n",
      "\n",
      "{\"_id\": \"FFCA3096-199F-41C3-99D1-35BC88D8AC6F\", \"categoryId\": \"3E4CEACD-D007-46EB-82D7-31F6141752B2\", \"categoryName\": \"Components, Road Frames\", \"sku\": \"FR-R72Y-48\", \"name\": \"ML Road Frame-W - Yellow, 48\", \"description\": \"The product called \\\"ML Road Frame-W - Yellow, 48\\\"\", \"price\": 594.83, \"tags\": [{\"_id\": \"14CFF1D6-7749-4A57-85B3-783F47731F32\", \"name\": \"Tag-7\"}, {\"_id\": \"84C396AD-98C6-4B12-8C3A-1BDA3ABF7D73\", \"name\": \"Tag-24\"}]}\u001b[0m\u001b[32;1m\u001b[1;3mWe have the following products that are yellow:\n",
      "\n",
      "1. Road-550-W Yellow, 48 - A road bike priced at $1120.49. SKU: BK-R64Y-48. Category: Bikes, Road Bikes.\n",
      "\n",
      "2. LL Touring Frame - Yellow, 62 - A touring frame priced at $333.42. SKU: FR-T67Y-62. Category: Components, Touring Frames.\n",
      "\n",
      "3. ML Road Frame-W - Yellow, 48 - A road frame priced at $594.83. SKU: FR-R72Y-48. Category: Components, Road Frames.\n",
      "\n",
      "Let me know if you need more information about any of these products!\u001b[0m\n",
      "\n",
      "\u001b[1m> Finished chain.\u001b[0m\n",
      "***********************************************************\n",
      "We have the following products that are yellow:\n",
      "\n",
      "1. Road-550-W Yellow, 48 - A road bike priced at $1120.49. SKU: BK-R64Y-48. Category: Bikes, Road Bikes.\n",
      "\n",
      "2. LL Touring Frame - Yellow, 62 - A touring frame priced at $333.42. SKU: FR-T67Y-62. Category: Components, Touring Frames.\n",
      "\n",
      "3. ML Road Frame-W - Yellow, 48 - A road frame priced at $594.83. SKU: FR-R72Y-48. Category: Components, Road Frames.\n",
      "\n",
      "Let me know if you need more information about any of these products!\n"
     ]
    }
   ],
   "source": [
    "result = agent_executor({\"input\": \"What products do you have that are yellow?\"})\n",
    "print(\"***********************************************************\")\n",
    "print(result['output'])"
   ]
  },
  {
   "cell_type": "code",
   "execution_count": 22,
   "id": "5b8f7ea7",
   "metadata": {},
   "outputs": [
    {
     "name": "stdout",
     "output_type": "stream",
     "text": [
      "\n",
      "\n",
      "\u001b[1m> Entering new AgentExecutor chain...\u001b[0m\n",
      "\u001b[32;1m\u001b[1;3m\n",
      "Invoking: `get_sales_by_id` with `{'sales_id': '06FE91D2-B350-471A-AD29-906BF4EB97C4'}`\n",
      "\n",
      "\n",
      "\u001b[0m\u001b[38;5;200m\u001b[1;3m{\"_id\": \"06FE91D2-B350-471A-AD29-906BF4EB97C4\", \"customerId\": \"D133397E-83ED-4FF3-BD44-62D7481237B2\", \"orderDate\": \"2011-07-01 00:00:00\", \"shipDate\": \"2011-07-08 00:00:00\", \"details\": [{\"sku\": \"LJ-0192-L\", \"name\": \"Long-Sleeve Logo Jersey, L\", \"price\": 28.8404, \"quantity\": 1}, {\"sku\": \"BK-R68R-52\", \"name\": \"Road-450 Red, 52\", \"price\": 874.794, \"quantity\": 1}, {\"sku\": \"CA-1098\", \"name\": \"AWC Logo Cap\", \"price\": 5.1865, \"quantity\": 1}]}\u001b[0m\u001b[32;1m\u001b[1;3m\n",
      "Invoking: `get_product_by_sku` with `{'sku': 'LJ-0192-L'}`\n",
      "\n",
      "\n",
      "\u001b[0m\u001b[33;1m\u001b[1;3m{\"_id\": \"6401B68F-924A-4B2E-AC9E-5660AEA0E848\", \"categoryId\": \"C3C57C35-1D80-4EC5-AB12-46C57A017AFB\", \"categoryName\": \"Clothing, Jerseys\", \"sku\": \"LJ-0192-L\", \"name\": \"Long-Sleeve Logo Jersey, L\", \"description\": \"The product called \\\"Long-Sleeve Logo Jersey, L\\\"\", \"price\": 49.99, \"tags\": [{\"_id\": \"B48D6572-67EB-4630-A1DB-AFD4AD7041C9\", \"name\": \"Tag-100\"}, {\"_id\": \"E1A62ABF-BBC3-48A2-BAC6-E3350D023C83\", \"name\": \"Tag-194\"}]}\u001b[0m\u001b[32;1m\u001b[1;3m\n",
      "Invoking: `get_product_by_sku` with `{'sku': 'BK-R68R-52'}`\n",
      "\n",
      "\n",
      "\u001b[0m\u001b[33;1m\u001b[1;3m{\"_id\": \"0D7CB85D-4518-4E02-8E46-9683947BBBC4\", \"categoryId\": \"AE48F0AA-4F65-4734-A4CF-D48B8F82267F\", \"categoryName\": \"Bikes, Road Bikes\", \"sku\": \"BK-R68R-52\", \"name\": \"Road-450 Red, 52\", \"description\": \"The product called \\\"Road-450 Red, 52\\\"\", \"price\": 1457.99, \"tags\": [{\"_id\": \"461ADE06-0903-4BAF-97AB-CC713E5B1DD4\", \"name\": \"Tag-174\"}, {\"_id\": \"8CA1BBD8-D00B-4654-AABA-5C8724C6F4BD\", \"name\": \"Tag-81\"}]}\u001b[0m\u001b[32;1m\u001b[1;3m\n",
      "Invoking: `get_product_by_sku` with `{'sku': 'CA-1098'}`\n",
      "\n",
      "\n",
      "\u001b[0m\u001b[33;1m\u001b[1;3m{\"_id\": \"8DB727BC-BE6B-4472-93F9-977B927D0C36\", \"categoryId\": \"ACCC1FC1-7601-4F7A-AFA7-29C892F0FBE3\", \"categoryName\": \"Clothing, Caps\", \"sku\": \"CA-1098\", \"name\": \"AWC Logo Cap\", \"description\": \"The product called \\\"AWC Logo Cap\\\"\", \"price\": 8.99, \"tags\": [{\"_id\": \"511652EB-9EC2-4235-BA77-0C6E4E316679\", \"name\": \"Tag-199\"}, {\"_id\": \"BA4D7ABD-2E82-4DC2-ACF2-5D3B0DEAE1C1\", \"name\": \"Tag-59\"}]}\u001b[0m\u001b[32;1m\u001b[1;3mThe following products were purchased for sales order '06FE91D2-B350-471A-AD29-906BF4EB97C4':\n",
      "\n",
      "1. Long-Sleeve Logo Jersey, L - A long-sleeve logo jersey in size L, priced at $49.99. SKU: LJ-0192-L. Category: Clothing, Jerseys.\n",
      "\n",
      "2. Road-450 Red, 52 - A red road bike in size 52, priced at $1457.99. SKU: BK-R68R-52. Category: Bikes, Road Bikes.\n",
      "\n",
      "3. AWC Logo Cap - An AWC logo cap, priced at $8.99. SKU: CA-1098. Category: Clothing, Caps.\n",
      "\n",
      "Let me know if you need more information about any of these products!\u001b[0m\n",
      "\n",
      "\u001b[1m> Finished chain.\u001b[0m\n",
      "***********************************************************\n",
      "The following products were purchased for sales order '06FE91D2-B350-471A-AD29-906BF4EB97C4':\n",
      "\n",
      "1. Long-Sleeve Logo Jersey, L - A long-sleeve logo jersey in size L, priced at $49.99. SKU: LJ-0192-L. Category: Clothing, Jerseys.\n",
      "\n",
      "2. Road-450 Red, 52 - A red road bike in size 52, priced at $1457.99. SKU: BK-R68R-52. Category: Bikes, Road Bikes.\n",
      "\n",
      "3. AWC Logo Cap - An AWC logo cap, priced at $8.99. SKU: CA-1098. Category: Clothing, Caps.\n",
      "\n",
      "Let me know if you need more information about any of these products!\n"
     ]
    }
   ],
   "source": [
    "result = agent_executor({\"input\": \"What products were purchased for sales order '06FE91D2-B350-471A-AD29-906BF4EB97C4' ?\"})\n",
    "print(\"***********************************************************\")\n",
    "print(result['output'])"
   ]
  },
  {
   "cell_type": "code",
   "execution_count": 23,
   "id": "7c995950",
   "metadata": {},
   "outputs": [
    {
     "name": "stdout",
     "output_type": "stream",
     "text": [
      "\n",
      "\n",
      "\u001b[1m> Entering new AgentExecutor chain...\u001b[0m\n",
      "\u001b[32;1m\u001b[1;3m\n",
      "Invoking: `get_sales_by_id` with `{'sales_id': '93436616-4C8A-407D-9FDA-908707EFA2C5'}`\n",
      "\n",
      "\n",
      "\u001b[0m\u001b[38;5;200m\u001b[1;3m{\"_id\": \"93436616-4C8A-407D-9FDA-908707EFA2C5\", \"customerId\": \"6DF10977-EA10-4607-AF0F-74EDABA54943\", \"orderDate\": \"2013-09-30 00:00:00\", \"shipDate\": \"2013-10-07 00:00:00\", \"details\": [{\"sku\": \"BK-R89B-52\", \"name\": \"Road-250 Black, 52\", \"price\": 1466.01, \"quantity\": 1}, {\"sku\": \"HB-R956\", \"name\": \"HL Road Handlebars\", \"price\": 72.162, \"quantity\": 1}, {\"sku\": \"FR-R92B-44\", \"name\": \"HL Road Frame - Black, 44\", \"price\": 858.9, \"quantity\": 3}, {\"sku\": \"FR-R92R-44\", \"name\": \"HL Road Frame - Red, 44\", \"price\": 858.9, \"quantity\": 1}]}\u001b[0m\u001b[32;1m\u001b[1;3mThe sales order total for sales order '93436616-4C8A-407D-9FDA-908707EFA2C5' is $4,114.12.\n",
      "\n",
      "Let me know if there's anything else I can help with!\u001b[0m\n",
      "\n",
      "\u001b[1m> Finished chain.\u001b[0m\n",
      "***********************************************************\n",
      "The sales order total for sales order '93436616-4C8A-407D-9FDA-908707EFA2C5' is $4,114.12.\n",
      "\n",
      "Let me know if there's anything else I can help with!\n"
     ]
    }
   ],
   "source": [
    "result = agent_executor({\"input\": \"What was the sales order total for sales order '93436616-4C8A-407D-9FDA-908707EFA2C5' ?\"})\n",
    "print(\"***********************************************************\")\n",
    "print(result['output'])"
   ]
  },
  {
   "cell_type": "code",
   "execution_count": 24,
   "id": "0d79a7f4",
   "metadata": {},
   "outputs": [
    {
     "name": "stdout",
     "output_type": "stream",
     "text": [
      "\n",
      "\n",
      "\u001b[1m> Entering new AgentExecutor chain...\u001b[0m\n",
      "\u001b[32;1m\u001b[1;3m\n",
      "Invoking: `get_product_by_sku` with `{'sku': 'FR-R92B-58'}`\n",
      "\n",
      "\n",
      "\u001b[0m\u001b[33;1m\u001b[1;3m{\"_id\": \"2CE4EFA7-5DC6-4D3E-ACB2-B7DDE4518408\", \"categoryId\": \"3E4CEACD-D007-46EB-82D7-31F6141752B2\", \"categoryName\": \"Components, Road Frames\", \"sku\": \"FR-R92B-58\", \"name\": \"HL Road Frame - Black, 58\", \"description\": \"The product called \\\"HL Road Frame - Black, 58\\\"\", \"price\": 1431.5, \"tags\": [{\"_id\": \"2CE9DADE-DCAC-436C-9D69-B7C886A01B77\", \"name\": \"Tag-101\"}, {\"_id\": \"AEFA79EF-CBF1-4824-AAF7-1D20EA85119B\", \"name\": \"Tag-17\"}, {\"_id\": \"D197C394-FB88-4EFF-B0FB-8BED1A86F294\", \"name\": \"Tag-182\"}, {\"_id\": \"ECBBCC15-3016-4075-B084-4B49DA754814\", \"name\": \"Tag-138\"}]}\u001b[0m\u001b[32;1m\u001b[1;3mThe price of the product with SKU 'FR-R92B-58' is $1431.50.\n",
      "\n",
      "Let me know if there's anything else I can assist you with!\u001b[0m\n",
      "\n",
      "\u001b[1m> Finished chain.\u001b[0m\n",
      "***********************************************************\n",
      "The price of the product with SKU 'FR-R92B-58' is $1431.50.\n",
      "\n",
      "Let me know if there's anything else I can assist you with!\n"
     ]
    }
   ],
   "source": [
    "result = agent_executor({\"input\": \"What was the price of the product with sku `FR-R92B-58` ?\"})\n",
    "print(\"***********************************************************\")\n",
    "print(result['output'])"
   ]
  },
  {
   "cell_type": "code",
   "execution_count": null,
   "id": "b58066c6",
   "metadata": {},
   "outputs": [],
   "source": []
  }
 ],
 "metadata": {
  "kernelspec": {
   "display_name": "Python 3 (ipykernel)",
   "language": "python",
   "name": "python3"
  },
  "language_info": {
   "codemirror_mode": {
    "name": "ipython",
    "version": 3
   },
   "file_extension": ".py",
   "mimetype": "text/x-python",
   "name": "python",
   "nbconvert_exporter": "python",
   "pygments_lexer": "ipython3",
   "version": "3.11.4"
  }
 },
 "nbformat": 4,
 "nbformat_minor": 5
}
