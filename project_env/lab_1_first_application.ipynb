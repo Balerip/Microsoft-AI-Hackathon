{
 "cells": [
  {
   "cell_type": "code",
   "execution_count": null,
   "id": "0fb5583b",
   "metadata": {},
   "outputs": [],
   "source": [
    "pip install pymongo"
   ]
  },
  {
   "cell_type": "code",
   "execution_count": null,
   "id": "57502462",
   "metadata": {},
   "outputs": [],
   "source": [
    "import os\n",
    "import pymongo\n",
    "from pprint import pprint\n",
    "from dotenv import load_dotenv\n",
    "from models import Product"
   ]
  },
  {
   "cell_type": "code",
   "execution_count": null,
   "id": "97866aeb",
   "metadata": {
    "scrolled": true
   },
   "outputs": [],
   "source": [
    "\n",
    "load_dotenv()\n",
    "CONNECTION_STRING = os.environ.get(\"DB_CONNECTION_STRING\")\n",
    "client = pymongo.MongoClient(CONNECTION_STRING)\n",
    "\n",
    "# Create database to hold cosmic works data\n",
    "# MongoDB will create the database if it does not exist\n",
    "db = client.cosmic_works"
   ]
  },
  {
   "cell_type": "code",
   "execution_count": null,
   "id": "b16dcdf0",
   "metadata": {},
   "outputs": [],
   "source": [
    "collection = db.products"
   ]
  },
  {
   "cell_type": "code",
   "execution_count": null,
   "id": "0d547ae7",
   "metadata": {},
   "outputs": [],
   "source": [
    "product = Product(\n",
    "        id=\"2BA4A26C-A8DB-4645-BEB9-F7D42F50262E\",    \n",
    "        category_id=\"56400CF3-446D-4C3F-B9B2-68286DA3BB99\", \n",
    "        category_name=\"Bikes, Mountain Bikes\", \n",
    "        sku=\"BK-M18S-42\",\n",
    "        name=\"Mountain-100 Silver, 42\",\n",
    "        description='The product called \"Mountain-500 Silver, 42\"',\n",
    "        price=742.42,\n",
    "       )\n",
    "\n",
    "# Generate JSON using alias names defined on the model\n",
    "product_json = product.model_dump(by_alias=True)\n",
    "\n",
    "\n",
    "# Insert the JSON into the database, and retrieve the inserted/generated ID\n",
    "product_id = collection.insert_one(product.model_dump(by_alias=True))\n",
    "\n",
    "print(f\"Inserted product with ID: {product_id}\")"
   ]
  },
  {
   "cell_type": "code",
   "execution_count": 53,
   "id": "7808fe41",
   "metadata": {},
   "outputs": [
    {
     "name": "stdout",
     "output_type": "stream",
     "text": [
      "['cosmic_works']\n"
     ]
    }
   ],
   "source": [
    "database_names = client.list_database_names()\n",
    "print(database_names)"
   ]
  },
  {
   "cell_type": "code",
   "execution_count": 54,
   "id": "cad8238c",
   "metadata": {},
   "outputs": [
    {
     "name": "stdout",
     "output_type": "stream",
     "text": [
      "{\n",
      "    \"_id\": \"2BA4A26C-A8DB-4645-BEB9-F7D42F50262E\",\n",
      "    \"categoryId\": \"56400CF3-446D-4C3F-B9B2-68286DA3BB99\",\n",
      "    \"categoryName\": \"Bikes, Mountain Bikes\",\n",
      "    \"sku\": \"BK-M18S-42\",\n",
      "    \"name\": \"Mountain-100 Silver, 42\",\n",
      "    \"description\": \"The product called \\\"Mountain-500 Silver, 42\\\"\",\n",
      "    \"price\": 742.42,\n",
      "    \"tags\": []\n",
      "}\n"
     ]
    }
   ],
   "source": [
    "from models import Product\n",
    "import json\n",
    "\n",
    "# Assuming you already have the `product_json` generated\n",
    "print(json.dumps(product_json, indent=4))\n"
   ]
  },
  {
   "cell_type": "code",
   "execution_count": 55,
   "id": "2c378aaa",
   "metadata": {},
   "outputs": [
    {
     "name": "stdout",
     "output_type": "stream",
     "text": [
      "Deleted documents count: 1\n",
      "Number of documents in the collection: 15\n"
     ]
    }
   ],
   "source": [
    "delete_result = collection.delete_one({\"_id\": product_id})\n",
    "print(f\"Deleted documents count: {delete_result.deleted_count}\")\n",
    "print(f\"Number of documents in the collection: {collection.count_documents({})}\")"
   ]
  },
  {
   "cell_type": "code",
   "execution_count": 56,
   "id": "4ef2e25a",
   "metadata": {},
   "outputs": [
    {
     "data": {
      "text/plain": [
       "BulkWriteResult({'writeErrors': [], 'writeConcernErrors': [], 'nInserted': 0, 'nUpserted': 1, 'nMatched': 4, 'nModified': 0, 'nRemoved': 0, 'upserted': [{'index': 0, '_id': '2BA4A26C-A8DB-4645-BEB9-F7D42F50262E'}]}, acknowledged=True)"
      ]
     },
     "execution_count": 56,
     "metadata": {},
     "output_type": "execute_result"
    }
   ],
   "source": [
    "products = [\n",
    "    Product(\n",
    "        id=\"2BA4A26C-A8DB-4645-BEB9-F7D42F50262E\",    \n",
    "        category_id=\"56400CF3-446D-4C3F-B9B2-68286DA3BB99\", \n",
    "        category_name=\"Bikes, Mountain Bikes\", \n",
    "        sku=\"BK-M18S-42\",\n",
    "        name=\"Mountain-100 Silver, 42\",\n",
    "        description='The product called \"Mountain-500 Silver, 42\"',\n",
    "        price=742.42\n",
    "       ),\n",
    "    Product(\n",
    "        id=\"027D0B9A-F9D9-4C96-8213-C8546C4AAE71\",    \n",
    "        category_id=\"26C74104-40BC-4541-8EF5-9892F7F03D72\", \n",
    "        category_name=\"Components, Saddles\", \n",
    "        sku=\"SE-R581\",\n",
    "        name=\"LL Road Seat/Saddle\",\n",
    "        description='The product called \"LL Road Seat/Saddle\"',\n",
    "        price=27.12\n",
    "       ),\n",
    "    Product(\n",
    "        id = \"4E4B38CB-0D82-43E5-89AF-20270CD28A04\",\n",
    "        category_id = \"75BF1ACB-168D-469C-9AA3-1FD26BB4EA4C\",\n",
    "        category_name = \"Bikes, Touring Bikes\",\n",
    "        sku = \"BK-T44U-60\",\n",
    "        name = \"Touring-2000 Blue, 60\",\n",
    "        description = 'The product called Touring-2000 Blue, 60\"',\n",
    "        price = 1214.85\n",
    "       ),\n",
    "    Product(\n",
    "        id = \"5B5E90B8-FEA2-4D6C-B728-EC586656FA6D\",\n",
    "        category_id = \"75BF1ACB-168D-469C-9AA3-1FD26BB4EA4C\",\n",
    "        category_name = \"Bikes, Touring Bikes\",\n",
    "        sku = \"BK-T79Y-60\",\n",
    "        name = \"Touring-1000 Yellow, 60\",\n",
    "        description = 'The product called Touring-1000 Yellow, 60\"',\n",
    "        price = 2384.07\n",
    "       ),\n",
    "    Product(\n",
    "        id = \"7BAA49C9-21B5-4EEF-9F6B-BCD6DA7C2239\",\n",
    "        category_id = \"26C74104-40BC-4541-8EF5-9892F7F03D72\",\n",
    "        category_name = \"Components, Saddles\",\n",
    "        sku = \"SE-R995\",\n",
    "        name = \"HL Road Seat/Saddle\",\n",
    "        description = 'The product called \"HL Road Seat/Saddle\"',\n",
    "        price = 52.64,\n",
    "       )\n",
    "]\n",
    "\n",
    "# The bulk_write method takes a list of write operations and executes them in the same transaction\n",
    "# The UpdateOne operation updates a single document, notice the upsert=True option, this means that\n",
    "# if the document does not exist, it will be created, if it does exist, it will be updated\n",
    "collection.bulk_write([pymongo.UpdateOne({\"_id\": prod.id}, {\"$set\": prod.model_dump(by_alias=True)}, upsert=True) for prod in products])"
   ]
  },
  {
   "cell_type": "code",
   "execution_count": 60,
   "id": "55bb3109",
   "metadata": {},
   "outputs": [
    {
     "name": "stdout",
     "output_type": "stream",
     "text": [
      "{\n",
      "    \"_id\": \"2BA4A26C-A8DB-4645-BEB9-F7D42F50262E\",\n",
      "    \"categoryId\": \"56400CF3-446D-4C3F-B9B2-68286DA3BB99\",\n",
      "    \"categoryName\": \"Bikes, Mountain Bikes\",\n",
      "    \"sku\": \"BK-M18S-42\",\n",
      "    \"name\": \"Mountain-100 Silver, 42\",\n",
      "    \"description\": \"The product called \\\"Mountain-500 Silver, 42\\\"\",\n",
      "    \"price\": 742.42,\n",
      "    \"tags\": []\n",
      "}\n",
      "{\n",
      "    \"_id\": \"027D0B9A-F9D9-4C96-8213-C8546C4AAE71\",\n",
      "    \"categoryId\": \"26C74104-40BC-4541-8EF5-9892F7F03D72\",\n",
      "    \"categoryName\": \"Components, Saddles\",\n",
      "    \"sku\": \"SE-R581\",\n",
      "    \"name\": \"LL Road Seat/Saddle\",\n",
      "    \"description\": \"The product called \\\"LL Road Seat/Saddle\\\"\",\n",
      "    \"price\": 27.12,\n",
      "    \"tags\": []\n",
      "}\n",
      "{\n",
      "    \"_id\": \"4E4B38CB-0D82-43E5-89AF-20270CD28A04\",\n",
      "    \"categoryId\": \"75BF1ACB-168D-469C-9AA3-1FD26BB4EA4C\",\n",
      "    \"categoryName\": \"Bikes, Touring Bikes\",\n",
      "    \"sku\": \"BK-T44U-60\",\n",
      "    \"name\": \"Touring-2000 Blue, 60\",\n",
      "    \"description\": \"The product called Touring-2000 Blue, 60\\\"\",\n",
      "    \"price\": 1214.85,\n",
      "    \"tags\": []\n",
      "}\n",
      "{\n",
      "    \"_id\": \"5B5E90B8-FEA2-4D6C-B728-EC586656FA6D\",\n",
      "    \"categoryId\": \"75BF1ACB-168D-469C-9AA3-1FD26BB4EA4C\",\n",
      "    \"categoryName\": \"Bikes, Touring Bikes\",\n",
      "    \"sku\": \"BK-T79Y-60\",\n",
      "    \"name\": \"Touring-1000 Yellow, 60\",\n",
      "    \"description\": \"The product called Touring-1000 Yellow, 60\\\"\",\n",
      "    \"price\": 2384.07,\n",
      "    \"tags\": []\n",
      "}\n",
      "{\n",
      "    \"_id\": \"7BAA49C9-21B5-4EEF-9F6B-BCD6DA7C2239\",\n",
      "    \"categoryId\": \"26C74104-40BC-4541-8EF5-9892F7F03D72\",\n",
      "    \"categoryName\": \"Components, Saddles\",\n",
      "    \"sku\": \"SE-R995\",\n",
      "    \"name\": \"HL Road Seat/Saddle\",\n",
      "    \"description\": \"The product called \\\"HL Road Seat/Saddle\\\"\",\n",
      "    \"price\": 52.64,\n",
      "    \"tags\": []\n",
      "}\n"
     ]
    }
   ],
   "source": [
    "from models import Product\n",
    "import json\n",
    "for product in products:\n",
    "# Assuming you already have the `product_json` generated\n",
    "    print(json.dumps(product.model_dump(by_alias=True), indent=4))"
   ]
  },
  {
   "cell_type": "code",
   "execution_count": 61,
   "id": "69bffabb",
   "metadata": {},
   "outputs": [
    {
     "name": "stdout",
     "output_type": "stream",
     "text": [
      "{'_id': '027D0B9A-F9D9-4C96-8213-C8546C4AAE71',\n",
      " 'categoryId': '26C74104-40BC-4541-8EF5-9892F7F03D72',\n",
      " 'categoryName': 'Components, Saddles',\n",
      " 'description': 'The product called \"LL Road Seat/Saddle\"',\n",
      " 'name': 'LL Road Seat/Saddle',\n",
      " 'price': 27.12,\n",
      " 'sku': 'SE-R581',\n",
      " 'tags': []}\n",
      "{'_id': '7BAA49C9-21B5-4EEF-9F6B-BCD6DA7C2239',\n",
      " 'categoryId': '26C74104-40BC-4541-8EF5-9892F7F03D72',\n",
      " 'categoryName': 'Components, Saddles',\n",
      " 'description': 'The product called \"HL Road Seat/Saddle\"',\n",
      " 'name': 'HL Road Seat/Saddle',\n",
      " 'price': 52.64,\n",
      " 'sku': 'SE-R995',\n",
      " 'tags': []}\n"
     ]
    }
   ],
   "source": [
    "for result in collection.find({\"categoryName\": \"Components, Saddles\"}):\n",
    "    pprint(result)"
   ]
  },
  {
   "cell_type": "code",
   "execution_count": 62,
   "id": "b0302822",
   "metadata": {},
   "outputs": [
    {
     "name": "stdout",
     "output_type": "stream",
     "text": [
      "{'_id': '2BA4A26C-A8DD-4645-BEB10-F7D42F50262F',\n",
      " 'categoryId': '56400CF3-446D-4C3F-B9B2-68286DA3BB99',\n",
      " 'categoryName': 'Bikes, Mountain Bikes',\n",
      " 'description': 'The product called \"Mountain-500 Silver, 42\"',\n",
      " 'name': 'Mountain-100 Silver, 42',\n",
      " 'price': 742.42,\n",
      " 'sku': 'BK-M18S-42',\n",
      " 'tags': []}\n",
      "{'_id': '2BA4A26C-A8DD-4645-DEB10-G7D42F50262F',\n",
      " 'categoryId': '56400CF3-446D-4C3F-B9B2-68286DA3BB99',\n",
      " 'categoryName': 'Bikes, Mountain Bikes',\n",
      " 'description': 'The product called \"Mountain-500 Silver, 42\"',\n",
      " 'name': 'Mountain-100 Silver, 42',\n",
      " 'price': 742.42,\n",
      " 'sku': 'BK-M18S-42',\n",
      " 'tags': []}\n",
      "{'_id': '2BA4A26C-A8DD-4645-DEB10-G7D42F50262H',\n",
      " 'categoryId': '56400CF3-446D-4C3F-B9B2-68286DA3BB99',\n",
      " 'categoryName': 'Bikes, Mountain Bikes',\n",
      " 'description': 'The product called \"Mountain-500 Silver, 42\"',\n",
      " 'name': 'Mountain-100 Silver, 42',\n",
      " 'price': 742.42,\n",
      " 'sku': 'BK-M18S-42',\n",
      " 'tags': []}\n",
      "{'_id': '2BA4A26F-A8DK-4645-DEB10-G7D42F50262H',\n",
      " 'categoryId': '56400CF3-446D-4C3F-B9B2-68286DA3BB99',\n",
      " 'categoryName': 'Bikes, Mountain Bikes',\n",
      " 'description': 'The product called \"Mountain-500 Silver, 42\"',\n",
      " 'name': 'Mountain-100 Silver, 42',\n",
      " 'price': 742.42,\n",
      " 'sku': 'BK-M18S-42',\n",
      " 'tags': []}\n",
      "{'_id': '3F5G9H2J-K8L7-5G3F-0A9B-2H6G7H4G5F2D',\n",
      " 'categoryId': '56400CF3-446D-4C3F-B9B2-68286DA3BB99',\n",
      " 'categoryName': 'Bikes, Road Bikes',\n",
      " 'description': 'The product called \"Road-200 Red, 52\"',\n",
      " 'name': 'Road-200 Red, 52',\n",
      " 'price': 1200.0,\n",
      " 'sku': 'BK-R20S-52',\n",
      " 'tags': []}\n",
      "{'_id': '3F5G9H2J-K8L7-5G3F-0A9B-2H6G7H4G5F2K',\n",
      " 'categoryId': '56400CF3-446D-4C3F-B9B2-68286DA3BB99',\n",
      " 'categoryName': 'Bikes, Road Bikes',\n",
      " 'description': 'The product called \"Road-200 Red, 52\"',\n",
      " 'name': 'Road-200 Red, 52',\n",
      " 'price': 1200.0,\n",
      " 'sku': 'BK-R20S-52',\n",
      " 'tags': []}\n",
      "{'_id': '2BA4A26F-A8DK-4645-DEB10-G7D42F50262J',\n",
      " 'categoryId': '56400CF3-446D-4C3F-B9B2-68286DA3BB99',\n",
      " 'categoryName': 'Bikes, Mountain Bikes',\n",
      " 'description': 'The product called \"Mountain-500 Silver, 42\"',\n",
      " 'name': 'Mountain-300 Silver, 52',\n",
      " 'price': 742.42,\n",
      " 'sku': 'BK-M18S-42',\n",
      " 'tags': []}\n",
      "{'_id': '4E4B38CB-0D82-43E5-89AF-20270CD28A04',\n",
      " 'categoryId': '75BF1ACB-168D-469C-9AA3-1FD26BB4EA4C',\n",
      " 'categoryName': 'Bikes, Touring Bikes',\n",
      " 'description': 'The product called Touring-2000 Blue, 60\"',\n",
      " 'name': 'Touring-2000 Blue, 60',\n",
      " 'price': 1214.85,\n",
      " 'sku': 'BK-T44U-60',\n",
      " 'tags': []}\n",
      "{'_id': '5B5E90B8-FEA2-4D6C-B728-EC586656FA6D',\n",
      " 'categoryId': '75BF1ACB-168D-469C-9AA3-1FD26BB4EA4C',\n",
      " 'categoryName': 'Bikes, Touring Bikes',\n",
      " 'description': 'The product called Touring-1000 Yellow, 60\"',\n",
      " 'name': 'Touring-1000 Yellow, 60',\n",
      " 'price': 2384.07,\n",
      " 'sku': 'BK-T79Y-60',\n",
      " 'tags': []}\n",
      "{'_id': '2BA4A26C-A8DB-4645-BEB9-F7D42F50262E',\n",
      " 'categoryId': '56400CF3-446D-4C3F-B9B2-68286DA3BB99',\n",
      " 'categoryName': 'Bikes, Mountain Bikes',\n",
      " 'description': 'The product called \"Mountain-500 Silver, 42\"',\n",
      " 'name': 'Mountain-100 Silver, 42',\n",
      " 'price': 742.42,\n",
      " 'sku': 'BK-M18S-42',\n",
      " 'tags': []}\n"
     ]
    }
   ],
   "source": [
    "for result in collection.find({\"categoryName\": {\"$regex\": \"Bikes\"}}):\n",
    "    pprint(result)"
   ]
  },
  {
   "cell_type": "code",
   "execution_count": 63,
   "id": "4a09c073",
   "metadata": {},
   "outputs": [],
   "source": [
    "# db.drop_collection(\"products\")\n",
    "client.drop_database(\"cosmic_works\")\n",
    "client.close()"
   ]
  },
  {
   "cell_type": "code",
   "execution_count": null,
   "id": "3a5ea1b4",
   "metadata": {},
   "outputs": [],
   "source": []
  }
 ],
 "metadata": {
  "kernelspec": {
   "display_name": "Python 3 (ipykernel)",
   "language": "python",
   "name": "python3"
  },
  "language_info": {
   "codemirror_mode": {
    "name": "ipython",
    "version": 3
   },
   "file_extension": ".py",
   "mimetype": "text/x-python",
   "name": "python",
   "nbconvert_exporter": "python",
   "pygments_lexer": "ipython3",
   "version": "3.11.4"
  }
 },
 "nbformat": 4,
 "nbformat_minor": 5
}
