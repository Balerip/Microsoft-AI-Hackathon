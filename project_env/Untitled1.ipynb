{
 "cells": [
  {
   "cell_type": "code",
   "execution_count": 1,
   "id": "3d34980e",
   "metadata": {},
   "outputs": [],
   "source": [
    "import os\n",
    "import pymongo\n",
    "from pprint import pprint\n",
    "from dotenv import load_dotenv\n",
    "from models import Product\n",
    "import json\n",
    "from bson import json_util"
   ]
  },
  {
   "cell_type": "code",
   "execution_count": 2,
   "id": "349ba8df",
   "metadata": {},
   "outputs": [
    {
     "name": "stderr",
     "output_type": "stream",
     "text": [
      "/var/folders/ct/b2rs611d1g96lldn5x1gj1wm0000gp/T/ipykernel_20543/117369521.py:3: UserWarning: You appear to be connected to a CosmosDB cluster. For more information regarding feature compatibility and support please visit https://www.mongodb.com/supportability/cosmosdb\n",
      "  client = pymongo.MongoClient(CONNECTION_STRING)\n"
     ]
    }
   ],
   "source": [
    "\n",
    "load_dotenv()\n",
    "CONNECTION_STRING = os.environ.get(\"DB_CONNECTION_STRING\")\n",
    "client = pymongo.MongoClient(CONNECTION_STRING)\n",
    "# Access the database (it will be created if it doesn't exist)\n",
    "db = client['school']\n",
    "collection = db['mystudentdata']"
   ]
  },
  {
   "cell_type": "code",
   "execution_count": 3,
   "id": "608cf008",
   "metadata": {},
   "outputs": [
    {
     "name": "stdout",
     "output_type": "stream",
     "text": [
      "Inserted document ID: 664d2f7bfbc4c40b0c5e711c\n"
     ]
    }
   ],
   "source": [
    "\n",
    "\n",
    "\n",
    "\n",
    "# Access the collection (it will be created if it doesn't exist)\n",
    "collection = db['mystudentdata']\n",
    "\n",
    "# Define the student document\n",
    "student = {\n",
    "   \n",
    "    \"name\": \"Panchami\",\n",
    "    \"branch\": \"CSE\",\n",
    "    \"course\": \"DSA\",\n",
    "    \"amount\": 4999,\n",
    "    \"paid\": \"Yes\"\n",
    "}\n",
    "\n",
    "# Insert the student document into the collection\n",
    "result = db.mystudentdata.insert_one(student)\n",
    "\n",
    "# Print the inserted document ID\n",
    "print(f\"Inserted document ID: {result.inserted_id}\")"
   ]
  },
  {
   "cell_type": "code",
   "execution_count": 4,
   "id": "978f6ed3",
   "metadata": {},
   "outputs": [
    {
     "name": "stdout",
     "output_type": "stream",
     "text": [
      "['school', 'cosmic_works']\n"
     ]
    }
   ],
   "source": [
    "database_names = client.list_database_names()\n",
    "print(database_names)"
   ]
  },
  {
   "cell_type": "code",
   "execution_count": 15,
   "id": "7888dc61",
   "metadata": {},
   "outputs": [],
   "source": [
    "from pprint import pprint\n",
    "cursor=db.mystudentdata.find({'name':'Panchami'})\n"
   ]
  },
  {
   "cell_type": "code",
   "execution_count": 16,
   "id": "912df8b7",
   "metadata": {},
   "outputs": [],
   "source": [
    "for document in cursor:\n",
    "    pprint(document)"
   ]
  },
  {
   "cell_type": "code",
   "execution_count": 10,
   "id": "ac40dc59",
   "metadata": {},
   "outputs": [
    {
     "name": "stdout",
     "output_type": "stream",
     "text": [
      "664d2f8afbc4c40b0c5e711d\n"
     ]
    }
   ],
   "source": [
    "from bson import ObjectId\n",
    "db = client['school']\n",
    "\n",
    "# Generate a new ObjectId\n",
    "new_object_id = ObjectId()\n",
    "\n",
    "# Print the new ObjectId\n",
    "print(new_object_id)"
   ]
  },
  {
   "cell_type": "code",
   "execution_count": 11,
   "id": "539fccb6",
   "metadata": {},
   "outputs": [
    {
     "name": "stdout",
     "output_type": "stream",
     "text": [
      "<pymongo.cursor.Cursor object at 0x107c41390>\n"
     ]
    }
   ],
   "source": [
    "print(cursor)"
   ]
  },
  {
   "cell_type": "code",
   "execution_count": 12,
   "id": "6d83ba5c",
   "metadata": {},
   "outputs": [
    {
     "data": {
      "text/plain": [
       "UpdateResult({'ok': 1.0, 'nModified': 1, 'n': 1, 'updatedExisting': True}, acknowledged=True)"
      ]
     },
     "execution_count": 12,
     "metadata": {},
     "output_type": "execute_result"
    }
   ],
   "source": [
    "db.mystudentdata.update_many({'name':'Panchami'},{'$set':{'paid':'No'}})"
   ]
  },
  {
   "cell_type": "code",
   "execution_count": 13,
   "id": "a6c8a547",
   "metadata": {},
   "outputs": [],
   "source": [
    "from pprint import pprint\n",
    "cursor=db.mystudentdata.delete_many({'name':'Panchami'})\n"
   ]
  },
  {
   "cell_type": "code",
   "execution_count": 17,
   "id": "7959e5c5",
   "metadata": {},
   "outputs": [
    {
     "name": "stdout",
     "output_type": "stream",
     "text": [
      "0\n"
     ]
    }
   ],
   "source": [
    "pprint(len(list(cursor)))"
   ]
  },
  {
   "cell_type": "code",
   "execution_count": 27,
   "id": "0c290859",
   "metadata": {},
   "outputs": [
    {
     "data": {
      "text/plain": [
       "InsertManyResult(['stu205', 'stu206'], acknowledged=True)"
      ]
     },
     "execution_count": 27,
     "metadata": {},
     "output_type": "execute_result"
    }
   ],
   "source": [
    "db.mystudentdata.insert_many([{'_id':\"stu205\",'name':\"Soniya\",'age':28}, \n",
    "                       {'_id':\"stu206\", 'name':\"Priya\", 'age':25}], \n",
    "                       ordered= True)"
   ]
  },
  {
   "cell_type": "code",
   "execution_count": 28,
   "id": "4eca5040",
   "metadata": {},
   "outputs": [
    {
     "name": "stdout",
     "output_type": "stream",
     "text": [
      "{'_id': 'stu203', 'age': 28, 'name': 'Soniya'}\n",
      "{'_id': 'stu202', 'age': 25, 'name': 'Priya'}\n",
      "{'_id': 'stu205', 'age': 28, 'name': 'Soniya'}\n",
      "{'_id': 'stu206', 'age': 25, 'name': 'Priya'}\n"
     ]
    }
   ],
   "source": [
    "cursor=db.mystudentdata.find()\n",
    "for document in cursor:\n",
    "    pprint(document)"
   ]
  },
  {
   "cell_type": "code",
   "execution_count": 44,
   "id": "e12d0e1e",
   "metadata": {},
   "outputs": [
    {
     "data": {
      "text/plain": [
       "BulkWriteResult({'writeErrors': [], 'writeConcernErrors': [], 'nInserted': 2, 'nUpserted': 0, 'nMatched': 0, 'nModified': 0, 'nRemoved': 0, 'upserted': []}, acknowledged=True)"
      ]
     },
     "execution_count": 44,
     "metadata": {},
     "output_type": "execute_result"
    }
   ],
   "source": [
    "from pymongo import InsertOne\n",
    "data=[\n",
    "    InsertOne({'_id': 'stu204', 'age': 28, 'name': 'Monika'}),\n",
    "    InsertOne({'_id': 'stu201', 'age': 28, 'name': 'Soni'})\n",
    "]\n",
    "db.mystudentdata.bulk_write(data)"
   ]
  },
  {
   "cell_type": "code",
   "execution_count": 45,
   "id": "cd85a91a",
   "metadata": {},
   "outputs": [
    {
     "name": "stdout",
     "output_type": "stream",
     "text": [
      "{'_id': 'stu203', 'age': 28, 'name': 'Soniya'}\n",
      "{'_id': 'stu202', 'age': 25, 'name': 'Priya'}\n",
      "{'_id': 'stu205', 'age': 28, 'name': 'Soniya'}\n",
      "{'_id': 'stu206', 'age': 25, 'name': 'Priya'}\n",
      "{'_id': 'stu204', 'age': 28, 'name': 'Monika'}\n",
      "{'_id': 'stu201', 'age': 28, 'name': 'Soni'}\n"
     ]
    }
   ],
   "source": [
    "cursor=db.mystudentdata.find()\n",
    "for document in cursor:\n",
    "    pprint(document)"
   ]
  },
  {
   "cell_type": "code",
   "execution_count": null,
   "id": "1e8201bf",
   "metadata": {},
   "outputs": [],
   "source": []
  }
 ],
 "metadata": {
  "kernelspec": {
   "display_name": "Python 3 (ipykernel)",
   "language": "python",
   "name": "python3"
  },
  "language_info": {
   "codemirror_mode": {
    "name": "ipython",
    "version": 3
   },
   "file_extension": ".py",
   "mimetype": "text/x-python",
   "name": "python",
   "nbconvert_exporter": "python",
   "pygments_lexer": "ipython3",
   "version": "3.11.4"
  }
 },
 "nbformat": 4,
 "nbformat_minor": 5
}
